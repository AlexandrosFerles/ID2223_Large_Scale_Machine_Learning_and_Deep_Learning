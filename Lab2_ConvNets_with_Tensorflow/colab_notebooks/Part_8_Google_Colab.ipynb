{
  "nbformat": 4,
  "nbformat_minor": 0,
  "metadata": {
    "colab": {
      "name": "Part_8_Google_Colab.ipynb",
      "version": "0.3.2",
      "provenance": [],
      "collapsed_sections": []
    },
    "kernelspec": {
      "name": "python3",
      "display_name": "Python 3"
    }
  },
  "cells": [
    {
      "metadata": {
        "id": "6zErzEtKnnF-",
        "colab_type": "code",
        "outputId": "bfbc0017-051a-4ac9-89dc-f19a28b3f3ff",
        "colab": {
          "base_uri": "https://localhost:8080/",
          "height": 552
        }
      },
      "cell_type": "code",
      "source": [
        "from __future__ import division, print_function, unicode_literals\n",
        "import numpy as np\n",
        "import tensorflow as tf\n",
        "from matplotlib import pyplot as plt\n",
        "\n",
        "# to make this notebook's output stable across runs\n",
        "def reset_graph(seed=42):\n",
        "    tf.reset_default_graph()\n",
        "    tf.set_random_seed(seed)\n",
        "    np.random.seed(seed)\n",
        "\n",
        "# TODO: Replace <FILL IN> with appropriate code\n",
        "\n",
        "from tensorflow.examples.tutorials.mnist import input_data as mnist_data\n",
        "\n",
        "mnist = mnist_data.read_data_sets(\"./Datasets/MNIST/\", one_hot=True)"
      ],
      "execution_count": 1,
      "outputs": [
        {
          "output_type": "stream",
          "text": [
            "WARNING:tensorflow:From <ipython-input-1-68cf64209c75>:16: read_data_sets (from tensorflow.contrib.learn.python.learn.datasets.mnist) is deprecated and will be removed in a future version.\n",
            "Instructions for updating:\n",
            "Please use alternatives such as official/mnist/dataset.py from tensorflow/models.\n",
            "WARNING:tensorflow:From /usr/local/lib/python3.6/dist-packages/tensorflow/contrib/learn/python/learn/datasets/mnist.py:260: maybe_download (from tensorflow.contrib.learn.python.learn.datasets.base) is deprecated and will be removed in a future version.\n",
            "Instructions for updating:\n",
            "Please write your own downloading logic.\n",
            "WARNING:tensorflow:From /usr/local/lib/python3.6/dist-packages/tensorflow/contrib/learn/python/learn/datasets/base.py:252: _internal_retry.<locals>.wrap.<locals>.wrapped_fn (from tensorflow.contrib.learn.python.learn.datasets.base) is deprecated and will be removed in a future version.\n",
            "Instructions for updating:\n",
            "Please use urllib or similar directly.\n",
            "Successfully downloaded train-images-idx3-ubyte.gz 9912422 bytes.\n",
            "WARNING:tensorflow:From /usr/local/lib/python3.6/dist-packages/tensorflow/contrib/learn/python/learn/datasets/mnist.py:262: extract_images (from tensorflow.contrib.learn.python.learn.datasets.mnist) is deprecated and will be removed in a future version.\n",
            "Instructions for updating:\n",
            "Please use tf.data to implement this functionality.\n",
            "Extracting ./Datasets/MNIST/train-images-idx3-ubyte.gz\n",
            "Successfully downloaded train-labels-idx1-ubyte.gz 28881 bytes.\n",
            "WARNING:tensorflow:From /usr/local/lib/python3.6/dist-packages/tensorflow/contrib/learn/python/learn/datasets/mnist.py:267: extract_labels (from tensorflow.contrib.learn.python.learn.datasets.mnist) is deprecated and will be removed in a future version.\n",
            "Instructions for updating:\n",
            "Please use tf.data to implement this functionality.\n",
            "Extracting ./Datasets/MNIST/train-labels-idx1-ubyte.gz\n",
            "WARNING:tensorflow:From /usr/local/lib/python3.6/dist-packages/tensorflow/contrib/learn/python/learn/datasets/mnist.py:110: dense_to_one_hot (from tensorflow.contrib.learn.python.learn.datasets.mnist) is deprecated and will be removed in a future version.\n",
            "Instructions for updating:\n",
            "Please use tf.one_hot on tensors.\n",
            "Successfully downloaded t10k-images-idx3-ubyte.gz 1648877 bytes.\n",
            "Extracting ./Datasets/MNIST/t10k-images-idx3-ubyte.gz\n",
            "Successfully downloaded t10k-labels-idx1-ubyte.gz 4542 bytes.\n",
            "Extracting ./Datasets/MNIST/t10k-labels-idx1-ubyte.gz\n",
            "WARNING:tensorflow:From /usr/local/lib/python3.6/dist-packages/tensorflow/contrib/learn/python/learn/datasets/mnist.py:290: DataSet.__init__ (from tensorflow.contrib.learn.python.learn.datasets.mnist) is deprecated and will be removed in a future version.\n",
            "Instructions for updating:\n",
            "Please use alternatives such as official/mnist/dataset.py from tensorflow/models.\n"
          ],
          "name": "stdout"
        }
      ]
    },
    {
      "metadata": {
        "id": "y5Pmmh0Eriy_",
        "colab_type": "code",
        "outputId": "f7ebcd35-2163-4b7b-a45e-33b7b5f7a9cc",
        "colab": {
          "base_uri": "https://localhost:8080/",
          "height": 1136
        }
      },
      "cell_type": "code",
      "source": [
        "# TODO: Replace <FILL IN> with appropriate code\n",
        "\n",
        "# · · · · · · · · · ·    (input data, 1-deep)                 X [batch, 28, 28, 1]\n",
        "# @ @ @ @ @ @ @ @ @ @ -- conv. layer 6x6x1=>6 stride 1        W1 [5, 5, 1, 6]        B1 [6]\n",
        "# ∶∶∶∶∶∶∶∶∶∶∶∶∶∶∶∶∶∶∶                                         Y1_hat [batch, 28, 28, 6]\n",
        "#   @ @ @ @ @ @ @ @   -- conv. layer 5x5x6=>12 stride 2       W2 [5, 5, 6, 12]        B2 [12]\n",
        "#   ∶∶∶∶∶∶∶∶∶∶∶∶∶∶∶                                           Y2_hat [batch, 14, 14, 12]\n",
        "#     @ @ @ @ @ @     -- conv. layer 4x4x12=>24 stride 2      W3 [4, 4, 12, 24]       B3 [24]\n",
        "#     ∶∶∶∶∶∶∶∶∶∶∶                                             Y3_hat [batch, 7, 7, 24] => reshaped to YY [batch, 7*7*24]\n",
        "#      \\x/x\\x\\x/ ✞    -- fully connected layer (relu+dropout) W4 [7*7*24, 200]       B4 [200]\n",
        "#       · · · ·                                               Y4_hat [batch, 200]\n",
        "#       \\x/x\\x/       -- fully connected layer (softmax)      W5 [200, 10]           B5 [10]\n",
        "#        · · ·                                                Y_hat [batch, 10]\n",
        "\n",
        "# \n",
        "\n",
        "# to reset the Tensorflow default graph\n",
        "reset_graph()\n",
        "\n",
        "X = tf.placeholder(tf.float32, [None, 28, 28, 1], name=\"input\")\n",
        "Y = tf.placeholder(tf.float32, shape=(None, 10), name=\"labels\")\n",
        "lr = tf.placeholder(tf.float32, shape=[])\n",
        "pkeep = tf.placeholder(tf.float32, shape=[])\n",
        "\n",
        "bias_initializer= tf.constant_initializer(value=0.1)\n",
        "\n",
        "# Convolutional Layers\n",
        "conv1 = tf.layers.conv2d(\n",
        "    inputs=X,\n",
        "    filters=6,\n",
        "    kernel_size=[5, 5],\n",
        "    strides=1,\n",
        "    padding=\"same\",\n",
        "    activation=tf.nn.relu,\n",
        "    kernel_initializer=tf.initializers.truncated_normal(mean=0, stddev= 0.1),\n",
        "    bias_initializer=tf.constant_initializer(0.1))\n",
        "\n",
        "conv2 = tf.layers.conv2d(\n",
        "    inputs=conv1,\n",
        "    filters=12,\n",
        "    kernel_size=[5, 5],\n",
        "    strides=2,  \n",
        "    padding=\"same\",\n",
        "    activation=tf.nn.relu,\n",
        "    kernel_initializer=tf.initializers.truncated_normal(mean=0, stddev= 0.1),\n",
        "    bias_initializer=tf.constant_initializer(0.1))\n",
        "\n",
        "conv3 = tf.layers.conv2d(\n",
        "    inputs=conv2,\n",
        "    filters=24,\n",
        "    kernel_size=[4, 4],\n",
        "    strides=2,  \n",
        "    padding=\"same\",\n",
        "    activation=tf.nn.relu,\n",
        "    kernel_initializer=tf.initializers.truncated_normal(mean=0, stddev= 0.1),\n",
        "    bias_initializer=tf.constant_initializer(0.1))\n",
        "\n",
        "# Dense Layers\n",
        "\n",
        "flattened = tf.reshape(conv3, [-1, 7 * 7 * 24])\n",
        "dense_1 = tf.layers.dense(inputs=flattened, \n",
        "                          units=200, \n",
        "                          activation=tf.nn.relu, \n",
        "                          kernel_initializer=tf.initializers.truncated_normal(mean=0, stddev= 0.1),\n",
        "                          bias_initializer=tf.constant_initializer(0.1))\n",
        "\n",
        "dropout = tf.layers.dropout(inputs=dense_1, rate=0.75)\n",
        "\n",
        "output = tf.layers.dense(inputs=dropout, \n",
        "                         units=10,\n",
        "                         kernel_initializer=tf.initializers.truncated_normal(mean=0, stddev= 0.1),\n",
        "                         bias_initializer=tf.constant_initializer(0.1))\n",
        "\n",
        "########################################\n",
        "# define the Loss function\n",
        "########################################\n",
        "cross_entropy = tf.nn.softmax_cross_entropy_with_logits(logits=output, labels=Y, name='cross_entropy_loss')\n",
        "cross_entropy = tf.reduce_mean(cross_entropy) * 100\n",
        "\n",
        "########################################\n",
        "# traini the model\n",
        "########################################\n",
        "optimizer = tf.train.AdamOptimizer(learning_rate=lr)\n",
        "train_step = optimizer.minimize(cross_entropy)\n",
        "\n",
        "########################################\n",
        "# execute the model\n",
        "########################################\n",
        "init = tf.global_variables_initializer()\n",
        "\n",
        "n_epochs = 2000\n",
        "\n",
        "max_learning_rate = 0.005\n",
        "min_learning_rate = 0.0001\n",
        "decay_speed = 800.0\n",
        "\n",
        "predictions = tf.equal(tf.argmax(output, 1), tf.argmax(Y, 1))\n",
        "accuracy = tf.reduce_mean(tf.cast(predictions, tf.float32))\n",
        "\n",
        "X_train_temp, Y_train = mnist.train.images, mnist.train.labels\n",
        "X_train = np.reshape(X_train_temp, (-1, 28, 28, 1))\n",
        "\n",
        "X_test_temp, Y_test = mnist.test.images, mnist.test.labels\n",
        "X_test = np.reshape(X_test_temp, (-1, 28, 28, 1))\n",
        "    \n",
        "# checks if learning rate has reached its minimum value\n",
        "flag = False\n",
        "\n",
        "new_learning_rate = max_learning_rate\n",
        "\n",
        "train_losses = []\n",
        "test_accuracies = []\n",
        "\n",
        "with tf.Session() as sess:\n",
        "\n",
        "    sess.run(init)\n",
        "\n",
        "    for i in range(n_epochs):\n",
        "\n",
        "        X_batch_temp, Y_batch = mnist.train.next_batch(100)\n",
        "        X_batch = np.reshape(X_batch_temp, (-1, 28, 28, 1))\n",
        "\n",
        "        if not flag:\n",
        "            new_learning_rate = min_learning_rate + (max_learning_rate - min_learning_rate) * np.exp(-i / decay_speed)\n",
        "            if new_learning_rate < min_learning_rate:\n",
        "                flag = True\n",
        "                new_learning_rate = min_learning_rate\n",
        "\n",
        "        sess.run(train_step, feed_dict={X: X_batch, Y: Y_batch, lr: new_learning_rate})\n",
        "\n",
        "        if i % 80 == 0:\n",
        "            train_loss = sess.run(cross_entropy, feed_dict={X: X_train, Y: Y_train, lr: new_learning_rate})\n",
        "            print(f'Train set loss for update step {i}: {train_loss}')\n",
        "            train_losses.append(train_loss)\n",
        "            test_accuracy = sess.run(accuracy, feed_dict={X: X_test, Y: Y_test, lr: new_learning_rate})\n",
        "            print(f'Test set accuracy for update step {i}:  {round(test_accuracy*100, 2)}%')\n",
        "            test_accuracies.append(test_accuracy)\n",
        "\n",
        "    test_set_accuracy = sess.run(accuracy, feed_dict={X: X_test, Y: Y_test, lr: new_learning_rate})\n",
        "\n",
        "    print('--------------------------------')\n",
        "    print()\n",
        "    print(f'Final test set accuracy: {round(test_set_accuracy*100, 2)}%') \n",
        "\n",
        "    print('####################################################################')\n",
        "    print()"
      ],
      "execution_count": 2,
      "outputs": [
        {
          "output_type": "stream",
          "text": [
            "WARNING:tensorflow:From <ipython-input-2-237f7c659fb0>:60: softmax_cross_entropy_with_logits (from tensorflow.python.ops.nn_ops) is deprecated and will be removed in a future version.\n",
            "Instructions for updating:\n",
            "\n",
            "Future major versions of TensorFlow will allow gradients to flow\n",
            "into the labels input on backprop by default.\n",
            "\n",
            "See `tf.nn.softmax_cross_entropy_with_logits_v2`.\n",
            "\n",
            "Train set loss for update step 0: 261.7163391113281\n",
            "Test set accuracy for update step 0:  8.92%\n",
            "Train set loss for update step 80: 18.675098419189453\n",
            "Test set accuracy for update step 80:  94.6%\n",
            "Train set loss for update step 160: 12.64649486541748\n",
            "Test set accuracy for update step 160:  96.11%\n",
            "Train set loss for update step 240: 8.43950366973877\n",
            "Test set accuracy for update step 240:  97.42%\n",
            "Train set loss for update step 320: 7.385142803192139\n",
            "Test set accuracy for update step 320:  97.74%\n",
            "Train set loss for update step 400: 5.455324649810791\n",
            "Test set accuracy for update step 400:  98.27%\n",
            "Train set loss for update step 480: 5.185851097106934\n",
            "Test set accuracy for update step 480:  98.37%\n",
            "Train set loss for update step 560: 4.813674449920654\n",
            "Test set accuracy for update step 560:  98.16%\n",
            "Train set loss for update step 640: 3.8616456985473633\n",
            "Test set accuracy for update step 640:  98.4%\n",
            "Train set loss for update step 720: 3.526664972305298\n",
            "Test set accuracy for update step 720:  98.6%\n",
            "Train set loss for update step 800: 3.225081443786621\n",
            "Test set accuracy for update step 800:  98.68%\n",
            "Train set loss for update step 880: 3.052398443222046\n",
            "Test set accuracy for update step 880:  98.63%\n",
            "Train set loss for update step 960: 3.4822161197662354\n",
            "Test set accuracy for update step 960:  98.54%\n",
            "Train set loss for update step 1040: 2.49955153465271\n",
            "Test set accuracy for update step 1040:  98.85%\n",
            "Train set loss for update step 1120: 1.9701640605926514\n",
            "Test set accuracy for update step 1120:  98.68%\n",
            "Train set loss for update step 1200: 1.84246027469635\n",
            "Test set accuracy for update step 1200:  98.85%\n",
            "Train set loss for update step 1280: 1.8003523349761963\n",
            "Test set accuracy for update step 1280:  98.9%\n",
            "Train set loss for update step 1360: 1.62549889087677\n",
            "Test set accuracy for update step 1360:  98.96%\n",
            "Train set loss for update step 1440: 1.4117488861083984\n",
            "Test set accuracy for update step 1440:  98.87%\n",
            "Train set loss for update step 1520: 1.642493486404419\n",
            "Test set accuracy for update step 1520:  98.77%\n",
            "Train set loss for update step 1600: 1.3205108642578125\n",
            "Test set accuracy for update step 1600:  98.95%\n",
            "Train set loss for update step 1680: 1.1498668193817139\n",
            "Test set accuracy for update step 1680:  98.98%\n",
            "Train set loss for update step 1760: 1.053069829940796\n",
            "Test set accuracy for update step 1760:  98.92%\n",
            "Train set loss for update step 1840: 1.0385105609893799\n",
            "Test set accuracy for update step 1840:  98.91%\n",
            "Train set loss for update step 1920: 0.8449906706809998\n",
            "Test set accuracy for update step 1920:  98.95%\n",
            "--------------------------------\n",
            "\n",
            "Final test set accuracy: 98.93%\n",
            "####################################################################\n",
            "\n"
          ],
          "name": "stdout"
        }
      ]
    },
    {
      "metadata": {
        "id": "9dbTel_knmpR",
        "colab_type": "text"
      },
      "cell_type": "markdown",
      "source": [
        ""
      ]
    },
    {
      "metadata": {
        "id": "KYq238vFr6_m",
        "colab_type": "code",
        "outputId": "ff8577d4-cee9-4b4e-9125-ca25782b49f1",
        "colab": {
          "base_uri": "https://localhost:8080/",
          "height": 378
        }
      },
      "cell_type": "code",
      "source": [
        "plt.title('Training set cross entropy loss evolution with better CNN settings')\n",
        "plt.plot(train_losses)"
      ],
      "execution_count": 3,
      "outputs": [
        {
          "output_type": "execute_result",
          "data": {
            "text/plain": [
              "[<matplotlib.lines.Line2D at 0x7f403b5a9550>]"
            ]
          },
          "metadata": {
            "tags": []
          },
          "execution_count": 3
        },
        {
          "output_type": "display_data",
          "data": {
            "image/png": "[encoded data removed]",
            "text/plain": [
              "<matplotlib.figure.Figure at 0x7f40548219b0>"
            ]
          },
          "metadata": {
            "tags": []
          }
        }
      ]
    },
    {
      "metadata": {
        "id": "pQ9c4qH3sBB0",
        "colab_type": "code",
        "outputId": "0578f41c-9636-4fdc-e65e-9e33906018f5",
        "colab": {
          "base_uri": "https://localhost:8080/",
          "height": 380
        }
      },
      "cell_type": "code",
      "source": [
        "plt.title('Test set accuracy evolution with better CNN settings')\n",
        "plt.plot(test_accuracies)"
      ],
      "execution_count": 0,
      "outputs": [
        {
          "output_type": "execute_result",
          "data": {
            "text/plain": [
              "[<matplotlib.lines.Line2D at 0x7ff967e97a20>]"
            ]
          },
          "metadata": {
            "tags": []
          },
          "execution_count": 11
        },
        {
          "output_type": "display_data",
          "data": {
            "image/png": "[encoded data removed]",
            "text/plain": [
              "<matplotlib.figure.Figure at 0x7ff967ed4eb8>"
            ]
          },
          "metadata": {
            "tags": []
          }
        }
      ]
    },
    {
      "metadata": {
        "id": "Fp94V1uezC1q",
        "colab_type": "code",
        "colab": {}
      },
      "cell_type": "code",
      "source": [
        ""
      ],
      "execution_count": 0,
      "outputs": []
    }
  ]
}