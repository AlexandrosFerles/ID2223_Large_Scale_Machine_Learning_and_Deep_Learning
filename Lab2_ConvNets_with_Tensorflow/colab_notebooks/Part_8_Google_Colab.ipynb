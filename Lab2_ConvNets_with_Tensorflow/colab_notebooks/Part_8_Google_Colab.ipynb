{
  "nbformat": 4,
  "nbformat_minor": 0,
  "metadata": {
    "colab": {
      "name": "Part_8_Google_Colab.ipynb",
      "version": "0.3.2",
      "provenance": [],
      "collapsed_sections": []
    },
    "kernelspec": {
      "name": "python3",
      "display_name": "Python 3"
    }
  },
  "cells": [
    {
      "metadata": {
        "id": "6zErzEtKnnF-",
        "colab_type": "code",
        "colab": {
          "base_uri": "https://localhost:8080/",
          "height": 87
        },
        "outputId": "e93979e3-e8a6-4221-bd50-7e04c6ab6e25"
      },
      "cell_type": "code",
      "source": [
        "from __future__ import division, print_function, unicode_literals\n",
        "import numpy as np\n",
        "import tensorflow as tf\n",
        "from matplotlib import pyplot as plt\n",
        "\n",
        "# to make this notebook's output stable across runs\n",
        "def reset_graph(seed=42):\n",
        "    tf.reset_default_graph()\n",
        "    tf.set_random_seed(seed)\n",
        "    np.random.seed(seed)\n",
        "\n",
        "# TODO: Replace <FILL IN> with appropriate code\n",
        "\n",
        "from tensorflow.examples.tutorials.mnist import input_data as mnist_data\n",
        "\n",
        "mnist = mnist_data.read_data_sets(\"./Datasets/MNIST/\", one_hot=True)"
      ],
      "execution_count": 4,
      "outputs": [
        {
          "output_type": "stream",
          "text": [
            "Extracting ./Datasets/MNIST/train-images-idx3-ubyte.gz\n",
            "Extracting ./Datasets/MNIST/train-labels-idx1-ubyte.gz\n",
            "Extracting ./Datasets/MNIST/t10k-images-idx3-ubyte.gz\n",
            "Extracting ./Datasets/MNIST/t10k-labels-idx1-ubyte.gz\n"
          ],
          "name": "stdout"
        }
      ]
    },
    {
      "metadata": {
        "id": "y5Pmmh0Eriy_",
        "colab_type": "code",
        "colab": {
          "base_uri": "https://localhost:8080/",
          "height": 994
        },
        "outputId": "07225e47-45ea-4c3f-a194-fac9e78d0bbd"
      },
      "cell_type": "code",
      "source": [
        "# TODO: Replace <FILL IN> with appropriate code\n",
        "\n",
        "# · · · · · · · · · ·    (input data, 1-deep)                 X [batch, 28, 28, 1]\n",
        "# @ @ @ @ @ @ @ @ @ @ -- conv. layer 6x6x1=>6 stride 1        W1 [5, 5, 1, 6]        B1 [6]\n",
        "# ∶∶∶∶∶∶∶∶∶∶∶∶∶∶∶∶∶∶∶                                         Y1_hat [batch, 28, 28, 6]\n",
        "#   @ @ @ @ @ @ @ @   -- conv. layer 5x5x6=>12 stride 2       W2 [5, 5, 6, 12]        B2 [12]\n",
        "#   ∶∶∶∶∶∶∶∶∶∶∶∶∶∶∶                                           Y2_hat [batch, 14, 14, 12]\n",
        "#     @ @ @ @ @ @     -- conv. layer 4x4x12=>24 stride 2      W3 [4, 4, 12, 24]       B3 [24]\n",
        "#     ∶∶∶∶∶∶∶∶∶∶∶                                             Y3_hat [batch, 7, 7, 24] => reshaped to YY [batch, 7*7*24]\n",
        "#      \\x/x\\x\\x/ ✞    -- fully connected layer (relu+dropout) W4 [7*7*24, 200]       B4 [200]\n",
        "#       · · · ·                                               Y4_hat [batch, 200]\n",
        "#       \\x/x\\x/       -- fully connected layer (softmax)      W5 [200, 10]           B5 [10]\n",
        "#        · · ·                                                Y_hat [batch, 10]\n",
        "\n",
        "# \n",
        "\n",
        "# to reset the Tensorflow default graph\n",
        "reset_graph()\n",
        "\n",
        "X = tf.placeholder(tf.float32, [None, 28, 28, 1], name=\"input\")\n",
        "Y = tf.placeholder(tf.float32, shape=(None, 10), name=\"labels\")\n",
        "lr = tf.placeholder(tf.float32, shape=[])\n",
        "pkeep = tf.placeholder(tf.float32, shape=[])\n",
        "\n",
        "bias_initializer= tf.constant_initializer(value=0.1)\n",
        "\n",
        "# Convolutional Layers\n",
        "conv1 = tf.layers.conv2d(\n",
        "    inputs=X,\n",
        "    filters=6,\n",
        "    kernel_size=[5, 5],\n",
        "    strides=1,\n",
        "    padding=\"same\",\n",
        "    activation=tf.nn.relu)\n",
        "\n",
        "conv2 = tf.layers.conv2d(\n",
        "    inputs=conv1,\n",
        "    filters=12,\n",
        "    kernel_size=[5, 5],\n",
        "    strides=2,  \n",
        "    padding=\"same\",\n",
        "    activation=tf.nn.relu)\n",
        "\n",
        "conv3 = tf.layers.conv2d(\n",
        "    inputs=conv2,\n",
        "    filters=24,\n",
        "    kernel_size=[4, 4],\n",
        "    strides=2,  \n",
        "    padding=\"same\",\n",
        "    activation=tf.nn.relu)\n",
        "\n",
        "# Dense Layers\n",
        "\n",
        "flattened = tf.reshape(conv3, [-1, 7 * 7 * 24])\n",
        "dense_1 = tf.layers.dense(inputs=flattened, units=200, activation=tf.nn.relu)\n",
        "dropout = tf.layers.dropout(inputs=dense_1, rate=0.75)\n",
        "\n",
        "output = tf.layers.dense(inputs=dropout, units=10)\n",
        "\n",
        "########################################\n",
        "# define the Loss function\n",
        "########################################\n",
        "cross_entropy = tf.nn.softmax_cross_entropy_with_logits(logits=output, labels=Y, name='cross_entropy_loss')\n",
        "cross_entropy = tf.reduce_mean(cross_entropy) * 100\n",
        "\n",
        "########################################\n",
        "# traini the model\n",
        "########################################\n",
        "optimizer = tf.train.AdamOptimizer(learning_rate=lr)\n",
        "train_step = optimizer.minimize(cross_entropy)\n",
        "\n",
        "########################################\n",
        "# execute the model\n",
        "########################################\n",
        "init = tf.global_variables_initializer()\n",
        "\n",
        "n_epochs = 2000\n",
        "\n",
        "max_learning_rate = 0.005\n",
        "min_learning_rate = 0.0001\n",
        "decay_speed = 800.0\n",
        "\n",
        "predictions = tf.equal(tf.argmax(output, 1), tf.argmax(Y, 1))\n",
        "accuracy = tf.reduce_mean(tf.cast(predictions, tf.float32))\n",
        "\n",
        "X_train_temp, Y_train = mnist.train.images, mnist.train.labels\n",
        "X_train = np.reshape(X_train_temp, (-1, 28, 28, 1))\n",
        "\n",
        "X_test_temp, Y_test = mnist.test.images, mnist.test.labels\n",
        "X_test = np.reshape(X_test_temp, (-1, 28, 28, 1))\n",
        "    \n",
        "# checks if learning rate has reached its minimum value\n",
        "flag = False\n",
        "\n",
        "new_learning_rate = max_learning_rate\n",
        "\n",
        "train_losses = []\n",
        "test_accuracies = []\n",
        "\n",
        "with tf.Session() as sess:\n",
        "\n",
        "    sess.run(init)\n",
        "\n",
        "    for i in range(n_epochs):\n",
        "\n",
        "        X_batch_temp, Y_batch = mnist.train.next_batch(100)\n",
        "        X_batch = np.reshape(X_batch_temp, (-1, 28, 28, 1))\n",
        "\n",
        "        if not flag:\n",
        "            new_learning_rate = min_learning_rate + (max_learning_rate - min_learning_rate) * np.exp(-i / 2000)\n",
        "            if new_learning_rate < min_learning_rate:\n",
        "                flag = True\n",
        "                new_learning_rate = min_learning_rate\n",
        "\n",
        "        sess.run(train_step, feed_dict={X: X_batch, Y: Y_batch, lr: new_learning_rate})\n",
        "\n",
        "        if i % 80 == 0:\n",
        "            train_loss = sess.run(cross_entropy, feed_dict={X: X_train, Y: Y_train, lr: new_learning_rate})\n",
        "            print(f'Train set loss for update step {i}: {train_loss}')\n",
        "            train_losses.append(train_loss)\n",
        "            test_accuracy = sess.run(accuracy, feed_dict={X: X_test, Y: Y_test, lr: new_learning_rate})\n",
        "            print(f'Test set accuracy for update step {i}:  {round(test_accuracy*100, 2)}%')\n",
        "            test_accuracies.append(test_accuracy)\n",
        "\n",
        "    test_set_accuracy = sess.run(accuracy, feed_dict={X: X_test, Y: Y_test, lr: new_learning_rate})\n",
        "\n",
        "    print('--------------------------------')\n",
        "    print()\n",
        "    print(f'Final test set accuracy: {round(test_set_accuracy*100, 2)}%') \n",
        "\n",
        "    print('####################################################################')\n",
        "    print()"
      ],
      "execution_count": 5,
      "outputs": [
        {
          "output_type": "stream",
          "text": [
            "Train set loss for update step 0: 221.39544677734375\n",
            "Test set accuracy for update step 0:  20.59%\n",
            "Train set loss for update step 80: 14.84971809387207\n",
            "Test set accuracy for update step 80:  95.67%\n",
            "Train set loss for update step 160: 10.182046890258789\n",
            "Test set accuracy for update step 160:  97.0%\n",
            "Train set loss for update step 240: 8.21504020690918\n",
            "Test set accuracy for update step 240:  97.39%\n",
            "Train set loss for update step 320: 8.013062477111816\n",
            "Test set accuracy for update step 320:  97.67%\n",
            "Train set loss for update step 400: 5.85030460357666\n",
            "Test set accuracy for update step 400:  98.15%\n",
            "Train set loss for update step 480: 4.749599456787109\n",
            "Test set accuracy for update step 480:  98.7%\n",
            "Train set loss for update step 560: 4.709242820739746\n",
            "Test set accuracy for update step 560:  98.2%\n",
            "Train set loss for update step 640: 3.6463146209716797\n",
            "Test set accuracy for update step 640:  98.7%\n",
            "Train set loss for update step 720: 4.218175411224365\n",
            "Test set accuracy for update step 720:  98.58%\n",
            "Train set loss for update step 800: 3.564624071121216\n",
            "Test set accuracy for update step 800:  98.54%\n",
            "Train set loss for update step 880: 3.454817771911621\n",
            "Test set accuracy for update step 880:  98.65%\n",
            "Train set loss for update step 960: 3.3479135036468506\n",
            "Test set accuracy for update step 960:  98.6%\n",
            "Train set loss for update step 1040: 2.9122374057769775\n",
            "Test set accuracy for update step 1040:  98.98%\n",
            "Train set loss for update step 1120: 2.4324302673339844\n",
            "Test set accuracy for update step 1120:  98.57%\n",
            "Train set loss for update step 1200: 1.9187648296356201\n",
            "Test set accuracy for update step 1200:  98.84%\n",
            "Train set loss for update step 1280: 2.157263994216919\n",
            "Test set accuracy for update step 1280:  98.83%\n",
            "Train set loss for update step 1360: 1.8501287698745728\n",
            "Test set accuracy for update step 1360:  98.93%\n",
            "Train set loss for update step 1440: 1.9976927042007446\n",
            "Test set accuracy for update step 1440:  98.76%\n",
            "Train set loss for update step 1520: 1.9996652603149414\n",
            "Test set accuracy for update step 1520:  98.81%\n",
            "Train set loss for update step 1600: 1.6924159526824951\n",
            "Test set accuracy for update step 1600:  98.85%\n",
            "Train set loss for update step 1680: 1.3607224225997925\n",
            "Test set accuracy for update step 1680:  99.02%\n",
            "Train set loss for update step 1760: 1.4213820695877075\n",
            "Test set accuracy for update step 1760:  99.12%\n",
            "Train set loss for update step 1840: 1.0431790351867676\n",
            "Test set accuracy for update step 1840:  99.04%\n",
            "Train set loss for update step 1920: 0.851524829864502\n",
            "Test set accuracy for update step 1920:  99.04%\n",
            "--------------------------------\n",
            "\n",
            "Final test set accuracy: 98.82%\n",
            "####################################################################\n",
            "\n"
          ],
          "name": "stdout"
        }
      ]
    },
    {
      "metadata": {
        "id": "9dbTel_knmpR",
        "colab_type": "text"
      },
      "cell_type": "markdown",
      "source": [
        ""
      ]
    },
    {
      "metadata": {
        "id": "KYq238vFr6_m",
        "colab_type": "code",
        "colab": {
          "base_uri": "https://localhost:8080/",
          "height": 378
        },
        "outputId": "326c113b-5242-47a0-dfa7-c2a9adab1077"
      },
      "cell_type": "code",
      "source": [
        "plt.title('Training set cross entropy loss evolution with better CNN settings')\n",
        "plt.plot(train_losses)"
      ],
      "execution_count": 6,
      "outputs": [
        {
          "output_type": "execute_result",
          "data": {
            "text/plain": [
              "[<matplotlib.lines.Line2D at 0x7f8fb0b845f8>]"
            ]
          },
          "metadata": {
            "tags": []
          },
          "execution_count": 6
        },
        {
          "output_type": "display_data",
          "data": {
            "image/png": "[encoded data removed]",
            "text/plain": [
              "<matplotlib.figure.Figure at 0x7f8fb167c5c0>"
            ]
          },
          "metadata": {
            "tags": []
          }
        }
      ]
    },
    {
      "metadata": {
        "id": "pQ9c4qH3sBB0",
        "colab_type": "code",
        "colab": {
          "base_uri": "https://localhost:8080/",
          "height": 380
        },
        "outputId": "fdf79067-5a3b-4e58-8026-47d125cbe28b"
      },
      "cell_type": "code",
      "source": [
        "plt.title('Test set accuracy evolution with better CNN settings')\n",
        "plt.plot(test_accuracies)"
      ],
      "execution_count": 7,
      "outputs": [
        {
          "output_type": "execute_result",
          "data": {
            "text/plain": [
              "[<matplotlib.lines.Line2D at 0x7f8faeb190b8>]"
            ]
          },
          "metadata": {
            "tags": []
          },
          "execution_count": 7
        },
        {
          "output_type": "display_data",
          "data": {
            "image/png": "[encoded data removed]",
            "text/plain": [
              "<matplotlib.figure.Figure at 0x7f8fb16b7208>"
            ]
          },
          "metadata": {
            "tags": []
          }
        }
      ]
    },
    {
      "metadata": {
        "id": "Fp94V1uezC1q",
        "colab_type": "code",
        "colab": {}
      },
      "cell_type": "code",
      "source": [
        ""
      ],
      "execution_count": 0,
      "outputs": []
    }
  ]
}