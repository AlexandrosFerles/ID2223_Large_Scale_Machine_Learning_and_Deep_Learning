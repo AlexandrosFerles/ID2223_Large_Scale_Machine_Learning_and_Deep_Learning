{
  "nbformat": 4,
  "nbformat_minor": 0,
  "metadata": {
    "colab": {
      "name": "Part_7_Google_Colab.ipynb",
      "version": "0.3.2",
      "provenance": [],
      "collapsed_sections": []
    },
    "kernelspec": {
      "name": "python3",
      "display_name": "Python 3"
    }
  },
  "cells": [
    {
      "metadata": {
        "id": "6zErzEtKnnF-",
        "colab_type": "code",
        "colab": {
          "base_uri": "https://localhost:8080/",
          "height": 552
        },
        "outputId": "08ba7631-a643-45a0-b8a3-757a41a21a3a"
      },
      "cell_type": "code",
      "source": [
        "from __future__ import division, print_function, unicode_literals\n",
        "import numpy as np\n",
        "import tensorflow as tf\n",
        "from matplotlib import pyplot as plt\n",
        "\n",
        "# to make this notebook's output stable across runs\n",
        "def reset_graph(seed=42):\n",
        "    tf.reset_default_graph()\n",
        "    tf.set_random_seed(seed)\n",
        "    np.random.seed(seed)\n",
        "\n",
        "# TODO: Replace <FILL IN> with appropriate code\n",
        "\n",
        "from tensorflow.examples.tutorials.mnist import input_data as mnist_data\n",
        "\n",
        "mnist = mnist_data.read_data_sets(\"./Datasets/MNIST/\", one_hot=True)"
      ],
      "execution_count": 2,
      "outputs": [
        {
          "output_type": "stream",
          "text": [
            "WARNING:tensorflow:From <ipython-input-2-68cf64209c75>:16: read_data_sets (from tensorflow.contrib.learn.python.learn.datasets.mnist) is deprecated and will be removed in a future version.\n",
            "Instructions for updating:\n",
            "Please use alternatives such as official/mnist/dataset.py from tensorflow/models.\n",
            "WARNING:tensorflow:From /usr/local/lib/python3.6/dist-packages/tensorflow/contrib/learn/python/learn/datasets/mnist.py:260: maybe_download (from tensorflow.contrib.learn.python.learn.datasets.base) is deprecated and will be removed in a future version.\n",
            "Instructions for updating:\n",
            "Please write your own downloading logic.\n",
            "WARNING:tensorflow:From /usr/local/lib/python3.6/dist-packages/tensorflow/contrib/learn/python/learn/datasets/base.py:252: _internal_retry.<locals>.wrap.<locals>.wrapped_fn (from tensorflow.contrib.learn.python.learn.datasets.base) is deprecated and will be removed in a future version.\n",
            "Instructions for updating:\n",
            "Please use urllib or similar directly.\n",
            "Successfully downloaded train-images-idx3-ubyte.gz 9912422 bytes.\n",
            "WARNING:tensorflow:From /usr/local/lib/python3.6/dist-packages/tensorflow/contrib/learn/python/learn/datasets/mnist.py:262: extract_images (from tensorflow.contrib.learn.python.learn.datasets.mnist) is deprecated and will be removed in a future version.\n",
            "Instructions for updating:\n",
            "Please use tf.data to implement this functionality.\n",
            "Extracting ./Datasets/MNIST/train-images-idx3-ubyte.gz\n",
            "Successfully downloaded train-labels-idx1-ubyte.gz 28881 bytes.\n",
            "WARNING:tensorflow:From /usr/local/lib/python3.6/dist-packages/tensorflow/contrib/learn/python/learn/datasets/mnist.py:267: extract_labels (from tensorflow.contrib.learn.python.learn.datasets.mnist) is deprecated and will be removed in a future version.\n",
            "Instructions for updating:\n",
            "Please use tf.data to implement this functionality.\n",
            "Extracting ./Datasets/MNIST/train-labels-idx1-ubyte.gz\n",
            "WARNING:tensorflow:From /usr/local/lib/python3.6/dist-packages/tensorflow/contrib/learn/python/learn/datasets/mnist.py:110: dense_to_one_hot (from tensorflow.contrib.learn.python.learn.datasets.mnist) is deprecated and will be removed in a future version.\n",
            "Instructions for updating:\n",
            "Please use tf.one_hot on tensors.\n",
            "Successfully downloaded t10k-images-idx3-ubyte.gz 1648877 bytes.\n",
            "Extracting ./Datasets/MNIST/t10k-images-idx3-ubyte.gz\n",
            "Successfully downloaded t10k-labels-idx1-ubyte.gz 4542 bytes.\n",
            "Extracting ./Datasets/MNIST/t10k-labels-idx1-ubyte.gz\n",
            "WARNING:tensorflow:From /usr/local/lib/python3.6/dist-packages/tensorflow/contrib/learn/python/learn/datasets/mnist.py:290: DataSet.__init__ (from tensorflow.contrib.learn.python.learn.datasets.mnist) is deprecated and will be removed in a future version.\n",
            "Instructions for updating:\n",
            "Please use alternatives such as official/mnist/dataset.py from tensorflow/models.\n"
          ],
          "name": "stdout"
        }
      ]
    },
    {
      "metadata": {
        "id": "y5Pmmh0Eriy_",
        "colab_type": "code",
        "colab": {
          "base_uri": "https://localhost:8080/",
          "height": 994
        },
        "outputId": "69f24523-b544-4549-a861-e5b8ebf2c0a7"
      },
      "cell_type": "code",
      "source": [
        "# TODO: Replace <FILL IN> with appropriate code\n",
        "\n",
        "# · · · · · · · · · ·    (input data, 1-deep)                 X [batch, 28, 28, 1]\n",
        "# @ @ @ @ @ @ @ @ @ @ -- conv. layer 6x6x1=>6 stride 1        W1 [5, 5, 1, 6]        B1 [6]\n",
        "# ∶∶∶∶∶∶∶∶∶∶∶∶∶∶∶∶∶∶∶                                         Y1_hat [batch, 28, 28, 6]\n",
        "#   @ @ @ @ @ @ @ @   -- conv. layer 5x5x6=>12 stride 2       W2 [5, 5, 6, 12]        B2 [12]\n",
        "#   ∶∶∶∶∶∶∶∶∶∶∶∶∶∶∶                                           Y2_hat [batch, 14, 14, 12]\n",
        "#     @ @ @ @ @ @     -- conv. layer 4x4x12=>24 stride 2      W3 [4, 4, 12, 24]       B3 [24]\n",
        "#     ∶∶∶∶∶∶∶∶∶∶∶                                             Y3_hat [batch, 7, 7, 24] => reshaped to YY [batch, 7*7*24]\n",
        "#      \\x/x\\x\\x/ ✞    -- fully connected layer (relu+dropout) W4 [7*7*24, 200]       B4 [200]\n",
        "#       · · · ·                                               Y4_hat [batch, 200]\n",
        "#       \\x/x\\x/       -- fully connected layer (softmax)      W5 [200, 10]           B5 [10]\n",
        "#        · · ·                                                Y_hat [batch, 10]\n",
        "\n",
        "# to reset the Tensorflow default graph\n",
        "reset_graph()\n",
        "\n",
        "########################################\n",
        "# define variables and placeholders\n",
        "########################################\n",
        "X = tf.placeholder(tf.float32, [None, 28, 28, 1], name=\"input\")\n",
        "Y = tf.placeholder(tf.float32, shape=(None, 10), name=\"labels\")\n",
        "lr = tf.placeholder(tf.float32, shape=[])\n",
        "pkeep = tf.placeholder(tf.float32, shape=[])\n",
        "\n",
        "bias_initializer= tf.constant_initializer(value=0.1)\n",
        "\n",
        "# three convolutional layers with their channel counts, and a fully connected layer \n",
        "# (the last layer has 10 softmax neurons)\n",
        "# the output depth of first three convolutional layers, are 6, 12, 24, and the size of fully connected\n",
        "# layer is 200\n",
        "W1 = tf.Variable(tf.truncated_normal(shape= [5, 5, 1, 6], stddev= 0.1), name='weights1')\n",
        "B1 = tf.get_variable(\"bias1\", shape=[6], initializer=bias_initializer)\n",
        "\n",
        "W2 = tf.Variable(tf.truncated_normal(shape= [5, 5, 6, 12], stddev= 0.1), name='weights2')\n",
        "B2 = tf.get_variable(\"bias2\", shape=[12], initializer=bias_initializer)\n",
        "\n",
        "W3 = tf.Variable(tf.truncated_normal(shape= [4, 4, 12, 24], stddev= 0.1), name='weights3')\n",
        "B3 = tf.get_variable(\"bias3\", shape=[24], initializer=bias_initializer)\n",
        "\n",
        "W4 = tf.Variable(tf.truncated_normal(shape= [7*7*24, 200], stddev= 0.1), name='weights4')\n",
        "B4 = tf.get_variable(\"bias4\", shape=[200], initializer=bias_initializer)\n",
        "\n",
        "W5 = tf.Variable(tf.truncated_normal(shape= [200, 10], stddev= 0.1), name='weights5')\n",
        "B5 = tf.get_variable(\"bias5\", shape=[10], initializer=bias_initializer)\n",
        "\n",
        "########################################\n",
        "# build the model\n",
        "########################################\n",
        "stride = 1  # output is 28x28\n",
        "Y1_hat = tf.nn.relu(tf.add(tf.nn.conv2d(X, W1, strides=[1, stride, stride, 1], padding='SAME'), B1), name='out1')\n",
        "\n",
        "stride = 2  # output is 14x14\n",
        "Y2_hat = tf.nn.relu(tf.add(tf.nn.conv2d(Y1_hat, W2, strides=[1, stride, stride, 1], padding='SAME'), B2), name='out2')\n",
        "\n",
        "stride = 2  # output is 7x7\n",
        "Y3_hat = tf.nn.relu(tf.add(tf.nn.conv2d(Y2_hat, W3, strides=[1, stride, stride, 1], padding='SAME'), B3), name='out3')\n",
        "\n",
        "# reshape the output from the third convolution for the fully connected layer\n",
        "YY_hat = tf.reshape(Y3_hat, [-1, 7*7*24], name='put3_flattened')\n",
        "Y4_hat = tf.nn.relu(tf.add(tf.matmul(YY_hat, W4), B4), name='out4')\n",
        "YY4_hat = tf.nn.dropout(Y4_hat, keep_prob=pkeep, name='out4_dropped_out')\n",
        "Y_hat = tf.nn.softmax(tf.add(tf.matmul(YY4_hat, W5), B5), name='output')\n",
        "\n",
        "########################################\n",
        "# define the Loss function\n",
        "########################################\n",
        "cross_entropy = tf.nn.softmax_cross_entropy_with_logits(logits=Y_hat, labels=Y, name='cross_entropy_loss')\n",
        "cross_entropy = tf.reduce_mean(cross_entropy) * 100\n",
        "\n",
        "########################################\n",
        "# traini the model\n",
        "########################################\n",
        "optimizer = tf.train.AdamOptimizer(learning_rate=lr)\n",
        "train_step = optimizer.minimize(cross_entropy)\n",
        "\n",
        "########################################\n",
        "# execute the model\n",
        "########################################\n",
        "init = tf.global_variables_initializer()\n",
        "\n",
        "n_epochs = 2000\n",
        "\n",
        "max_learning_rate = 0.005\n",
        "min_learning_rate = 0.0001\n",
        "decay_speed = 800.0\n",
        "\n",
        "predictions = tf.equal(tf.argmax(Y_hat, 1), tf.argmax(Y, 1))\n",
        "accuracy = tf.reduce_mean(tf.cast(predictions, tf.float32))\n",
        "\n",
        "X_train_temp, Y_train = mnist.train.images, mnist.train.labels\n",
        "X_train = np.reshape(X_train_temp, (-1, 28, 28, 1))\n",
        "\n",
        "X_test_temp, Y_test = mnist.test.images, mnist.test.labels\n",
        "X_test = np.reshape(X_test_temp, (-1, 28, 28, 1))\n",
        "    \n",
        "# checks if learning rate has reached its minimum value\n",
        "flag = False\n",
        "\n",
        "new_learning_rate = max_learning_rate\n",
        "\n",
        "train_losses = []\n",
        "test_accuracies = []\n",
        "\n",
        "with tf.Session() as sess:\n",
        "\n",
        "    sess.run(init)\n",
        "\n",
        "    for i in range(n_epochs):\n",
        "\n",
        "        X_batch_temp, Y_batch = mnist.train.next_batch(100)\n",
        "        X_batch = np.reshape(X_batch_temp, (-1, 28, 28, 1))\n",
        "\n",
        "        if not flag:\n",
        "            new_learning_rate = min_learning_rate + (max_learning_rate - min_learning_rate) * np.exp(-i / 2000)\n",
        "            if new_learning_rate < min_learning_rate:\n",
        "                flag = True\n",
        "                new_learning_rate = min_learning_rate\n",
        "\n",
        "        sess.run(train_step, feed_dict={X: X_batch, Y: Y_batch, lr: new_learning_rate, pkeep: 0.75})\n",
        "\n",
        "        if i % 80 == 0:\n",
        "            train_loss = sess.run(cross_entropy, feed_dict={X: X_train, Y: Y_train, lr: new_learning_rate, pkeep: 0.75})\n",
        "            print(f'Train set loss for update step {i}: {train_loss}')\n",
        "            train_losses.append(train_loss)\n",
        "            test_accuracy = sess.run(accuracy, feed_dict={X: X_test, Y: Y_test, lr: new_learning_rate, pkeep: 1.0})\n",
        "            print(f'Test set accuracy for update step {i}:  {round(test_accuracy*100, 2)}%')\n",
        "            test_accuracies.append(test_accuracy)\n",
        "\n",
        "    test_set_accuracy = sess.run(accuracy, feed_dict={X: X_test, Y: Y_test, lr: new_learning_rate, pkeep: 1.0})\n",
        "\n",
        "    print('--------------------------------')\n",
        "    print()\n",
        "    print(f'Final test set accuracy: {round(test_set_accuracy*100, 2)}%') \n",
        "\n",
        "    print('####################################################################')\n",
        "    print()"
      ],
      "execution_count": 6,
      "outputs": [
        {
          "output_type": "stream",
          "text": [
            "Train set loss for update step 0: 233.31546020507812\n",
            "Test set accuracy for update step 0:  8.92%\n",
            "Train set loss for update step 80: 172.4125213623047\n",
            "Test set accuracy for update step 80:  74.83%\n",
            "Train set loss for update step 160: 165.0869140625\n",
            "Test set accuracy for update step 160:  82.21%\n",
            "Train set loss for update step 240: 153.17295837402344\n",
            "Test set accuracy for update step 240:  93.95%\n",
            "Train set loss for update step 320: 153.7769012451172\n",
            "Test set accuracy for update step 320:  92.96%\n",
            "Train set loss for update step 400: 153.56582641601562\n",
            "Test set accuracy for update step 400:  93.8%\n",
            "Train set loss for update step 480: 152.48583984375\n",
            "Test set accuracy for update step 480:  94.67%\n",
            "Train set loss for update step 560: 151.51351928710938\n",
            "Test set accuracy for update step 560:  95.5%\n",
            "Train set loss for update step 640: 151.10841369628906\n",
            "Test set accuracy for update step 640:  96.06%\n",
            "Train set loss for update step 720: 150.56459045410156\n",
            "Test set accuracy for update step 720:  96.24%\n",
            "Train set loss for update step 800: 153.04612731933594\n",
            "Test set accuracy for update step 800:  93.79%\n",
            "Train set loss for update step 880: 152.30874633789062\n",
            "Test set accuracy for update step 880:  94.91%\n",
            "Train set loss for update step 960: 151.049072265625\n",
            "Test set accuracy for update step 960:  95.89%\n",
            "Train set loss for update step 1040: 150.98301696777344\n",
            "Test set accuracy for update step 1040:  95.79%\n",
            "Train set loss for update step 1120: 150.50709533691406\n",
            "Test set accuracy for update step 1120:  96.64%\n",
            "Train set loss for update step 1200: 151.0872039794922\n",
            "Test set accuracy for update step 1200:  95.6%\n",
            "Train set loss for update step 1280: 149.97589111328125\n",
            "Test set accuracy for update step 1280:  96.98%\n",
            "Train set loss for update step 1360: 150.10865783691406\n",
            "Test set accuracy for update step 1360:  96.42%\n",
            "Train set loss for update step 1440: 150.00082397460938\n",
            "Test set accuracy for update step 1440:  96.87%\n",
            "Train set loss for update step 1520: 149.77392578125\n",
            "Test set accuracy for update step 1520:  96.97%\n",
            "Train set loss for update step 1600: 149.8115234375\n",
            "Test set accuracy for update step 1600:  96.84%\n",
            "Train set loss for update step 1680: 150.4156951904297\n",
            "Test set accuracy for update step 1680:  96.5%\n",
            "Train set loss for update step 1760: 149.937255859375\n",
            "Test set accuracy for update step 1760:  97.07%\n",
            "Train set loss for update step 1840: 149.65737915039062\n",
            "Test set accuracy for update step 1840:  97.05%\n",
            "Train set loss for update step 1920: 149.56866455078125\n",
            "Test set accuracy for update step 1920:  96.93%\n",
            "--------------------------------\n",
            "\n",
            "Final test set accuracy: 97.25%\n",
            "####################################################################\n",
            "\n"
          ],
          "name": "stdout"
        }
      ]
    },
    {
      "metadata": {
        "id": "9dbTel_knmpR",
        "colab_type": "text"
      },
      "cell_type": "markdown",
      "source": [
        ""
      ]
    },
    {
      "metadata": {
        "id": "KYq238vFr6_m",
        "colab_type": "code",
        "colab": {
          "base_uri": "https://localhost:8080/",
          "height": 378
        },
        "outputId": "8d42e1bd-2903-4486-d28c-cdf8a4cfa0de"
      },
      "cell_type": "code",
      "source": [
        "plt.title('Training set cross entropy loss evolution with better CNN settings')\n",
        "plt.plot(train_losses)"
      ],
      "execution_count": 7,
      "outputs": [
        {
          "output_type": "execute_result",
          "data": {
            "text/plain": [
              "[<matplotlib.lines.Line2D at 0x7ff969a8f8d0>]"
            ]
          },
          "metadata": {
            "tags": []
          },
          "execution_count": 7
        },
        {
          "output_type": "display_data",
          "data": {
            "image/png": "[encoded data removed]",
            "text/plain": [
              "<matplotlib.figure.Figure at 0x7ff985bab550>"
            ]
          },
          "metadata": {
            "tags": []
          }
        }
      ]
    },
    {
      "metadata": {
        "id": "pQ9c4qH3sBB0",
        "colab_type": "code",
        "colab": {
          "base_uri": "https://localhost:8080/",
          "height": 380
        },
        "outputId": "50d46bf7-e0f0-486a-d100-a3478dc7a8a4"
      },
      "cell_type": "code",
      "source": [
        "plt.title('Test set accuracy evolution with better CNN settings')\n",
        "plt.plot(test_accuracies)"
      ],
      "execution_count": 8,
      "outputs": [
        {
          "output_type": "execute_result",
          "data": {
            "text/plain": [
              "[<matplotlib.lines.Line2D at 0x7ff968a702b0>]"
            ]
          },
          "metadata": {
            "tags": []
          },
          "execution_count": 8
        },
        {
          "output_type": "display_data",
          "data": {
            "image/png": "[encoded data removed]",
            "text/plain": [
              "<matplotlib.figure.Figure at 0x7ff985bab080>"
            ]
          },
          "metadata": {
            "tags": []
          }
        }
      ]
    },
    {
      "metadata": {
        "id": "Fp94V1uezC1q",
        "colab_type": "code",
        "colab": {}
      },
      "cell_type": "code",
      "source": [
        ""
      ],
      "execution_count": 0,
      "outputs": []
    }
  ]
}