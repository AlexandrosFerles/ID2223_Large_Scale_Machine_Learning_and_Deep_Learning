{
 "cells": [
  {
   "cell_type": "code",
<<<<<<< HEAD
   "execution_count": 2,
   "metadata": {},
   "outputs": [],
   "source": [
    "from __future__ import division, print_function, unicode_literals\n",
    "import numpy as np\n",
    "import tensorflow as tf\n",
=======
   "execution_count": 1,
   "metadata": {},
   "outputs": [],
   "source": [
    "import numpy as np\n",
    "import tensorflow as tf\n",
    "from __future__ import division, print_function, unicode_literals\n",
>>>>>>> 7cf32bee4afc234a7ba6cfbd7c29059acda74c62
    "\n",
    "# to make this notebook's output stable across runs\n",
    "def reset_graph(seed=42):\n",
    "    tf.reset_default_graph()\n",
    "    tf.set_random_seed(seed)\n",
    "    np.random.seed(seed)"
   ]
  },
  {
   "cell_type": "markdown",
   "metadata": {},
   "source": [
    "# Tensorflow and Deep Learning\n",
    "\n",
    "In this lab assignment, first you will learn how to build and train a neural network that recognises handwritten digits, and then you will build LeNet-5 CNN architecture, which is widely used for handwritten digit recognition. At the end of this lab assignment, you will make AlexNet CNN architecture, which won the 2012 ImageNet ILSVRC challenge."
   ]
  },
  {
   "cell_type": "markdown",
   "metadata": {},
   "source": [
    "---\n",
    "# 1. Dataset\n",
    "In the first part of the assignment, we use the MNIST dataset, which is a set of 70,000 small images of digits handwritten by high school students and employees of the US Census Bureau. Each image is labeled with the digit it represents. There are 70,000 images, and each image has 784 features. This is because each image is 28×28=784 pixels, and each feature simply represents one pixel's intensity, from 0 (white) to 255 (black). The following figure shows a few images from the MNIST dataset to give you a feel for the complexity of the classification task.\n",
    "\n",
    "<img src=\"figs/1-mnist.png\" style=\"width: 300px;\"/>\n",
    "\n",
    "To begin the assignment, first, use `mnist_data.read_data_sets` and download images and labels. It return two lists, called `mnist.test` with 10K images+labels, and `mnist.train` with 60K images+labels."
   ]
  },
  {
   "cell_type": "code",
<<<<<<< HEAD
   "execution_count": 9,
=======
   "execution_count": 2,
>>>>>>> 7cf32bee4afc234a7ba6cfbd7c29059acda74c62
   "metadata": {},
   "outputs": [
    {
     "name": "stdout",
     "output_type": "stream",
     "text": [
      "Extracting ./Datasets/MNIST/train-images-idx3-ubyte.gz\n",
      "Extracting ./Datasets/MNIST/train-labels-idx1-ubyte.gz\n",
      "Extracting ./Datasets/MNIST/t10k-images-idx3-ubyte.gz\n",
      "Extracting ./Datasets/MNIST/t10k-labels-idx1-ubyte.gz\n"
     ]
    }
   ],
   "source": [
    "# TODO: Replace <FILL IN> with appropriate code\n",
    "\n",
    "from tensorflow.examples.tutorials.mnist import input_data as mnist_data\n",
    "\n",
    "mnist = mnist_data.read_data_sets(\"./Datasets/MNIST/\", one_hot=True)"
   ]
  },
  {
   "cell_type": "markdown",
   "metadata": {},
   "source": [
    "---\n",
    "# 2. A One-Layer Neural Network\n",
    "<img src=\"figs/2-comic1.png\" style=\"width: 500px;\"/>\n",
    "\n",
    "Let's start by building a one-layer neural network. Handwritten digits in the MNIST dataset are 28x28 pixel greyscale images. The simplest approach for classifying them is to use the 28x28=784 pixels as inputs for a **one-layer neural network**. Each neuron in the network does a weighted sum of all of its inputs, adds a bias and then feeds the result through some non-linear activation function. Here we design a one-layer neural network with 10 output neurons since we want to classify digits into 10 classes (0 to 9).\n",
    "<img src=\"figs/3-one_layer.png\" style=\"width: 400px;\"/>\n",
    "\n",
    "\n",
    "For a classification problem, an *activation function* that works well is **softmax**. Applying softmax on a vector is done by taking the exponential of each element and then normalising the vector.\n",
    "<img src=\"figs/4-softmax.png\" style=\"width: 300px;\"/>\n",
    "\n",
    "We can summarise the behaviour of this single layer of neurons into a simple formula using a *matrix multiply*. If we give input data into the network in *mini-batch* of 100 images, it produces 100 predictions as the output. We define the **weights matrix $W$** with 10 columns, in which each column indicates the weight of a one class (a single digit), from 0 to 9. Using the first column of $W$, we can compute the weighted sum of all the pixels of the first image. This sum corresponds to the first neuron that points to the number 0. Using the second column of $W$, we do the same for the second neuron (number 1) and so on until the 10th neuron. We can then repeat the operation for the remaining 99 images in the mini-batch. If we call $X$ the matrix containing our 100 images (each row corresponds to one digit), all the weighted sums for our 10 neurons, computed on 100 images are simply $X.W$. Each neuron must now add its bias. Since we have 10 neurons, we have 10 bias constants. We finally apply the **softmax activation function** and obtain the formula describing a one-layer neural network, applied to 100 images.\n",
    "<img src=\"figs/5-xw.png\" style=\"width: 600px;\"/>\n",
    "<img src=\"figs/6-softmax2.png\" style=\"width: 500px;\"/>\n",
    "\n",
    "Then, we need to use the **cross-entropy** to measure how good the predictions are, i.e., the distance between what the network tells us and what we know to be the truth. The cross-entropy is a function of weights, biases, pixels of the training image and its known label. If we compute the partial derivatives of the cross-entropy relatively to all the weights and all the biases, we obtain a **gradient**, computed for a given image, label and present value of weights and biases. We can update weights and biases by a fraction of the gradient and do the same thing again using the next batch of training images.\n",
    "<img src=\"figs/7-cross_entropy.png\" style=\"width: 600px;\"/>"
   ]
  },
  {
   "cell_type": "markdown",
   "metadata": {
    "collapsed": true
   },
   "source": [
    "\n",
    "### Define Variables and Placeholders\n",
    "First we define TensorFlow **variables** and **placeholders**. *Variables* are all the parameters that you want the training algorithm to determine for you (e.g., weights and biases). *Placeholders* are parameters that will be filled with actual data during training (e.g., training images). The shape of the tensor holding the training images is [None, 28, 28, 1] which stands for:\n",
    "  - 28, 28, 1: our images are 28x28 (784) pixels x 1 value per pixel (grayscale). The last number would be 3 for color images and is not really necessary here.\n",
    "  - None: this dimension will be the number of images in the mini-batch. It will be known at training time.\n",
    "\n",
    "We also need an additional placeholder for the training labels that will be provided alongside training images."
   ]
  },
  {
   "cell_type": "code",
<<<<<<< HEAD
   "execution_count": 4,
=======
   "execution_count": 3,
>>>>>>> 7cf32bee4afc234a7ba6cfbd7c29059acda74c62
   "metadata": {},
   "outputs": [],
   "source": [
    "# TODO: Replace <FILL IN> with appropriate code\n",
    "\n",
    "# neural network with 1 layer of 10 softmax neurons\n",
    "#\n",
    "# · · · · · · · · · ·       (input data, flattened pixels)       X [batch, 784] \n",
    "# \\x/x\\x/x\\x/x\\x/x\\x/    -- fully connected layer (softmax)      W [784, 10]     b[10]\n",
    "#   · · · · · · · ·                                              Y_hat [batch, 10]\n",
    "\n",
    "# input X: 28x28 grayscale images, the first dimension (None) will index the images in the mini-batch\n",
    "X = tf.placeholder(tf.float32, [None, 28, 28, 1], name=\"input\")\n",
    "\n",
    "# correct answers will go here\n",
    "Y = tf.placeholder(tf.float32, shape=(None, 10), name=\"labels\")\n",
    "\n",
    "# weights W[784, 10], 784 = 28 * 28\n",
    "W = tf.Variable(tf.truncated_normal([784, 10], stddev=0.1), name=\"weigths1\")\n",
    "\n",
    "# biases b[10]\n",
    "b = b1 = tf.Variable(tf.zeros([10]), name=\"bias1\")"
   ]
  },
  {
   "cell_type": "markdown",
   "metadata": {},
   "source": [
    "### Build The Model\n",
    "Now, we can make a **model** for a one-layer neural network. The formula is the one we explained before, i.e., $\\hat{Y} = softmax(X . W + b)$. You can use the `tf.nn.softmax` and `tf.matmul` to build the model. Here, we need to use the `tf.reshape` to transform our 28x28 images into single vectors of 784 pixels."
   ]
  },
  {
   "cell_type": "code",
<<<<<<< HEAD
   "execution_count": 5,
=======
   "execution_count": 4,
>>>>>>> 7cf32bee4afc234a7ba6cfbd7c29059acda74c62
   "metadata": {},
   "outputs": [],
   "source": [
    "# TODO: Replace <FILL IN> with appropriate code\n",
    "\n",
    "# flatten the images into a single line of pixels\n",
    "XX = tf.reshape(X, [-1, 784], name=\"input_flattened\")\n",
    "\n",
    "# The model\n",
    "Y_hat = tf.nn.softmax(tf.add(tf.matmul(XX, W), b), name=\"predictions\")"
   ]
  },
  {
   "cell_type": "markdown",
   "metadata": {},
   "source": [
    "### Define The Cost Function\n",
    "Now, we have model predictions $\\hat{Y}$ and correct labels $Y$, so for each instance $i$ (image) we can compute the cross-entropy as the **cost function**: $cross\\_entropy = -\\sum(Y_i * log(\\hat{Y}i))$. You can use `reduce_mean` to add all the components in a tensor."
   ]
  },
  {
   "cell_type": "code",
<<<<<<< HEAD
   "execution_count": 6,
=======
   "execution_count": 5,
>>>>>>> 7cf32bee4afc234a7ba6cfbd7c29059acda74c62
   "metadata": {},
   "outputs": [
    {
     "name": "stdout",
     "output_type": "stream",
     "text": [
<<<<<<< HEAD
      "WARNING:tensorflow:From /home/alexandrosferles/.local/lib/python3.6/site-packages/tensorflow/python/ops/losses/losses_impl.py:691: softmax_cross_entropy_with_logits (from tensorflow.python.ops.nn_ops) is deprecated and will be removed in a future version.\n",
=======
      "WARNING:tensorflow:From /Users/alexandros.ferles/.local/lib/python3.6/site-packages/tensorflow/python/ops/losses/losses_impl.py:691: softmax_cross_entropy_with_logits (from tensorflow.python.ops.nn_ops) is deprecated and will be removed in a future version.\n",
>>>>>>> 7cf32bee4afc234a7ba6cfbd7c29059acda74c62
      "Instructions for updating:\n",
      "\n",
      "Future major versions of TensorFlow will allow gradients to flow\n",
      "into the labels input on backprop by default.\n",
      "\n",
      "See tf.nn.softmax_cross_entropy_with_logits_v2.\n",
      "\n"
     ]
    }
   ],
   "source": [
    "# TODO: Replace <FILL IN> with appropriate code\n",
    "\n",
    "cross_entropy = tf.reduce_mean(tf.losses.softmax_cross_entropy(onehot_labels= Y, logits=Y_hat))"
   ]
  },
  {
   "cell_type": "markdown",
   "metadata": {},
   "source": [
    "### Traine the Model\n",
    "Now, select the gradient descent optimiser `GradientDescentOptimizer` and ask it to minimise the cross-entropy cost. In this step, TensorFlow computes the partial derivatives of the cost function relatively to all the weights and all the biases (the gradient). The gradient is then used to update the weights and biases. Set the learning rate is $0.005$."
   ]
  },
  {
   "cell_type": "markdown",
   "metadata": {},
   "source": [
    "## TODO: Replace <FILL IN> with appropriate code"
   ]
  },
  {
   "cell_type": "code",
<<<<<<< HEAD
   "execution_count": 7,
=======
   "execution_count": 6,
>>>>>>> 7cf32bee4afc234a7ba6cfbd7c29059acda74c62
   "metadata": {},
   "outputs": [],
   "source": [
    "optimizer = tf.train.GradientDescentOptimizer(learning_rate = 0.005)\n",
    "train_step = optimizer.minimize(cross_entropy)"
   ]
  },
  {
   "cell_type": "markdown",
   "metadata": {},
   "source": [
    "### Execute the Model\n",
    "It is time to run the training loop. All the TensorFlow instructions up to this point have been preparing a computation graph in memory but nothing has been computed yet. The computation requires actual data to be fed into the placeholders. This is supplied in the form of a Python dictionary, where the keys are the names of the placeholders. During the trainig print out the cost every 200 steps. Moreove, after training the model, print out the accurray of the model by testing it on the test data."
   ]
  },
  {
   "cell_type": "code",
<<<<<<< HEAD
   "execution_count": 10,
=======
   "execution_count": 7,
>>>>>>> 7cf32bee4afc234a7ba6cfbd7c29059acda74c62
   "metadata": {},
   "outputs": [
    {
     "name": "stdout",
     "output_type": "stream",
     "text": [
<<<<<<< HEAD
      "Train set loss for update step 0: 2.308873176574707\n",
      "Test set accuracy for update step 0:  8.85%\n",
      "Train set loss for update step 200: 2.2959718704223633\n",
      "Test set accuracy for update step 200:  11.98%\n",
      "Train set loss for update step 400: 2.282435894012451\n",
      "Test set accuracy for update step 400:  14.52%\n",
      "Train set loss for update step 600: 2.2683756351470947\n",
      "Test set accuracy for update step 600:  17.45%\n",
      "Train set loss for update step 800: 2.253019332885742\n",
      "Test set accuracy for update step 800:  20.86%\n",
      "Train set loss for update step 1000: 2.235271692276001\n",
      "Test set accuracy for update step 1000:  24.82%\n",
      "Train set loss for update step 1200: 2.2160489559173584\n",
      "Test set accuracy for update step 1200:  28.77%\n",
      "Train set loss for update step 1400: 2.195143699645996\n",
      "Test set accuracy for update step 1400:  33.11%\n",
      "Train set loss for update step 1600: 2.172874927520752\n",
      "Test set accuracy for update step 1600:  37.33%\n",
      "Train set loss for update step 1800: 2.1509034633636475\n",
      "Test set accuracy for update step 1800:  40.25%\n",
      "Train set loss for update step 2000: 2.130131721496582\n",
      "Test set accuracy for update step 2000:  43.47%\n",
      "Train set loss for update step 2200: 2.1085753440856934\n",
      "Test set accuracy for update step 2200:  47.51%\n",
      "Train set loss for update step 2400: 2.0826892852783203\n",
      "Test set accuracy for update step 2400:  52.26%\n",
      "Train set loss for update step 2600: 2.0521297454833984\n",
      "Test set accuracy for update step 2600:  57.07%\n",
      "Train set loss for update step 2800: 2.0243008136749268\n",
      "Test set accuracy for update step 2800:  59.24%\n",
      "Train set loss for update step 3000: 2.0017476081848145\n",
      "Test set accuracy for update step 3000:  60.81%\n",
      "Train set loss for update step 3200: 1.9826772212982178\n",
      "Test set accuracy for update step 3200:  61.87%\n",
      "Train set loss for update step 3400: 1.9659488201141357\n",
      "Test set accuracy for update step 3400:  63.11%\n",
      "Train set loss for update step 3600: 1.9508248567581177\n",
      "Test set accuracy for update step 3600:  64.64%\n",
      "Train set loss for update step 3800: 1.937301754951477\n",
      "Test set accuracy for update step 3800:  65.94%\n",
      "Train set loss for update step 4000: 1.9249861240386963\n",
      "Test set accuracy for update step 4000:  67.15%\n",
      "Train set loss for update step 4200: 1.9140337705612183\n",
      "Test set accuracy for update step 4200:  67.96%\n",
      "Train set loss for update step 4400: 1.904417872428894\n",
      "Test set accuracy for update step 4400:  68.44%\n",
      "Train set loss for update step 4600: 1.8957397937774658\n",
      "Test set accuracy for update step 4600:  68.73%\n",
      "Train set loss for update step 4800: 1.887954592704773\n",
      "Test set accuracy for update step 4800:  69.11%\n",
      "--------------------------------\n",
      "\n",
      "Final test set accuracy: 69.33%\n"
=======
      "Train set loss for update step 0: 2.309166669845581\n",
      "Test set accuracy for update step 0:  6.11%\n",
      "Train set loss for update step 200: 2.291320562362671\n",
      "Test set accuracy for update step 200:  11.93%\n",
      "Train set loss for update step 400: 2.264312267303467\n",
      "Test set accuracy for update step 400:  19.35%\n",
      "Train set loss for update step 600: 2.240617513656616\n",
      "Test set accuracy for update step 600:  23.03%\n",
      "Train set loss for update step 800: 2.2198522090911865\n",
      "Test set accuracy for update step 800:  26.71%\n",
      "Train set loss for update step 1000: 2.199279546737671\n",
      "Test set accuracy for update step 1000:  30.49%\n",
      "Train set loss for update step 1200: 2.1784753799438477\n",
      "Test set accuracy for update step 1200:  34.52%\n",
      "Train set loss for update step 1400: 2.1566412448883057\n",
      "Test set accuracy for update step 1400:  38.34%\n",
      "Train set loss for update step 1600: 2.134305715560913\n",
      "Test set accuracy for update step 1600:  42.09%\n",
      "Train set loss for update step 1800: 2.11112642288208\n",
      "Test set accuracy for update step 1800:  45.18%\n",
      "Train set loss for update step 2000: 2.087923765182495\n",
      "Test set accuracy for update step 2000:  47.97%\n",
      "Train set loss for update step 2200: 2.0665204524993896\n",
      "Test set accuracy for update step 2200:  50.5%\n",
      "Train set loss for update step 2400: 2.0471954345703125\n",
      "Test set accuracy for update step 2400:  52.13%\n",
      "Train set loss for update step 2600: 2.0306055545806885\n",
      "Test set accuracy for update step 2600:  53.47%\n",
      "Train set loss for update step 2800: 2.0154476165771484\n",
      "Test set accuracy for update step 2800:  54.62%\n",
      "Train set loss for update step 3000: 2.001652240753174\n",
      "Test set accuracy for update step 3000:  55.9%\n",
      "Train set loss for update step 3200: 1.9884119033813477\n",
      "Test set accuracy for update step 3200:  57.37%\n",
      "Train set loss for update step 3400: 1.9752713441848755\n",
      "Test set accuracy for update step 3400:  58.9%\n",
      "Train set loss for update step 3600: 1.9627526998519897\n",
      "Test set accuracy for update step 3600:  60.29%\n",
      "Train set loss for update step 3800: 1.9514927864074707\n",
      "Test set accuracy for update step 3800:  60.91%\n",
      "Train set loss for update step 4000: 1.9417673349380493\n",
      "Test set accuracy for update step 4000:  61.4%\n",
      "Train set loss for update step 4200: 1.9329068660736084\n",
      "Test set accuracy for update step 4200:  61.77%\n",
      "Train set loss for update step 4400: 1.9249528646469116\n",
      "Test set accuracy for update step 4400:  62.14%\n",
      "Train set loss for update step 4600: 1.917771577835083\n",
      "Test set accuracy for update step 4600:  62.38%\n",
      "Train set loss for update step 4800: 1.9108880758285522\n",
      "Test set accuracy for update step 4800:  62.83%\n",
      "--------------------------------\n",
      "\n",
      "Final test set accuracy: 63.45%\n"
>>>>>>> 7cf32bee4afc234a7ba6cfbd7c29059acda74c62
     ]
    }
   ],
   "source": [
    "# TODO: Replace <FILL IN> with appropriate code\n",
    "from matplotlib import pyplot as plt\n",
    "train_losses = []\n",
    "\n",
    "X_train_temp, Y_train = mnist.train.images, mnist.train.labels\n",
    "X_train = np.reshape(X_train_temp, (-1, 28, 28, 1))\n",
    "\n",
    "test_accuracies = []\n",
    "\n",
    "predictions = tf.equal(tf.argmax(Y_hat, 1), tf.argmax(Y, 1))\n",
    "accuracy = tf.reduce_mean(tf.cast(predictions, tf.float32))\n",
    "\n",
    "X_test_temp, Y_test = mnist.test.images, mnist.test.labels\n",
    "X_test = np.reshape(X_test_temp, (-1, 28, 28, 1))\n",
    "\n",
    "# init\n",
    "init = tf.global_variables_initializer()\n",
    "\n",
    "n_epochs = 5000\n",
    "with tf.Session() as sess:\n",
    "    sess.run(init)\n",
    "    \n",
    "    for i in range(n_epochs):\n",
    "        \n",
    "        X_batch_temp, Y_batch = mnist.train.next_batch(100)\n",
    "        X_batch = np.reshape(X_batch_temp, (-1, 28, 28, 1))\n",
    "        \n",
    "        sess.run(train_step, feed_dict={X: X_batch, Y: Y_batch})\n",
    "        \n",
    "        if i % 200 == 0:\n",
    "            train_loss = sess.run(cross_entropy, feed_dict={X: X_train, Y: Y_train})\n",
    "            print(f'Train set loss for update step {i}: {train_loss}')\n",
    "            train_losses.append(train_loss)\n",
    "            test_accuracy = sess.run(accuracy, feed_dict={X: X_test, Y: Y_test})\n",
    "            print(f'Test set accuracy for update step {i}:  {round(test_accuracy*100, 2)}%')\n",
    "            test_accuracies.append(test_accuracy)\n",
    "    \n",
    "    test_set_accuracy = sess.run(accuracy, feed_dict={X: X_test, Y: Y_test})\n",
    "\n",
    "    print('--------------------------------')\n",
    "    print()\n",
    "    print(f'Final test set accuracy: {round(test_set_accuracy*100, 2)}%')    "
   ]
  },
  {
   "cell_type": "markdown",
   "metadata": {},
   "source": [
    "Training set cross-entropy loss evolution:"
   ]
  },
  {
   "cell_type": "code",
<<<<<<< HEAD
   "execution_count": 11,
=======
   "execution_count": 8,
>>>>>>> 7cf32bee4afc234a7ba6cfbd7c29059acda74c62
   "metadata": {},
   "outputs": [
    {
     "data": {
      "text/plain": [
<<<<<<< HEAD
       "Text(0.5, 1.0, 'Training set loss evolution, 1-layer NN')"
      ]
     },
     "execution_count": 11,
=======
       "Text(0.5,1,'Training set loss evolution, 1-layer NN')"
      ]
     },
     "execution_count": 8,
>>>>>>> 7cf32bee4afc234a7ba6cfbd7c29059acda74c62
     "metadata": {},
     "output_type": "execute_result"
    },
    {
     "data": {
<<<<<<< HEAD
      "image/png": "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\n",
=======
      "image/png": "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\n",
>>>>>>> 7cf32bee4afc234a7ba6cfbd7c29059acda74c62
      "text/plain": [
       "<Figure size 432x288 with 1 Axes>"
      ]
     },
     "metadata": {
      "needs_background": "light"
     },
     "output_type": "display_data"
    }
   ],
   "source": [
    "plt.plot(train_losses)\n",
    "plt.title(\"Training set loss evolution, 1-layer NN\")"
   ]
  },
  {
   "cell_type": "markdown",
   "metadata": {},
   "source": [
    "Test set accuracy evolution:"
   ]
  },
  {
   "cell_type": "code",
<<<<<<< HEAD
   "execution_count": 12,
=======
   "execution_count": 9,
>>>>>>> 7cf32bee4afc234a7ba6cfbd7c29059acda74c62
   "metadata": {},
   "outputs": [
    {
     "data": {
      "text/plain": [
<<<<<<< HEAD
       "Text(0.5, 1.0, 'Test set accuracy evolution, 1-layer NN')"
      ]
     },
     "execution_count": 12,
=======
       "Text(0.5,1,'Test set accuracy evolution, 1-layer NN')"
      ]
     },
     "execution_count": 9,
>>>>>>> 7cf32bee4afc234a7ba6cfbd7c29059acda74c62
     "metadata": {},
     "output_type": "execute_result"
    },
    {
     "data": {
<<<<<<< HEAD
      "image/png": "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\n",
=======
      "image/png": "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\n",
>>>>>>> 7cf32bee4afc234a7ba6cfbd7c29059acda74c62
      "text/plain": [
       "<Figure size 432x288 with 1 Axes>"
      ]
     },
     "metadata": {
      "needs_background": "light"
     },
     "output_type": "display_data"
    }
   ],
   "source": [
    "plt.plot(test_accuracies)\n",
    "plt.title(\"Test set accuracy evolution, 1-layer NN\")"
   ]
  },
  {
   "cell_type": "markdown",
   "metadata": {},
   "source": [
    "# 2. Add More Layers\n",
    "\n",
    "<img src=\"figs/8-comic2.png\" style=\"width: 500px;\"/>\n",
    "\n",
    "Now, let's improve the recognition accuracy by adding more layers to the neural network. The neurons in the second layer, instead of computing weighted sums of pixels will compute weighted sums of neuron outputs from the previous layer. We keep the softmax function as the activation function on the last layer, but on intermediate layers we will use the the **sigmoid** activation function. So, let's build a five-layer fully connected neural network with the following structure, and train the model with the trainging data and print out its accuracy on the test data.\n",
    "<img src=\"figs/9-five_layer.png\" style=\"width: 500px;\"/>"
   ]
  },
  {
   "cell_type": "code",
<<<<<<< HEAD
   "execution_count": 13,
=======
   "execution_count": 10,
>>>>>>> 7cf32bee4afc234a7ba6cfbd7c29059acda74c62
   "metadata": {},
   "outputs": [
    {
     "name": "stdout",
     "output_type": "stream",
     "text": [
<<<<<<< HEAD
      "Train set loss for update step 0: 2.3030364513397217\n",
      "Test set accuracy for update step 0:  9.58%\n",
      "Train set loss for update step 200: 2.30299711227417\n",
      "Test set accuracy for update step 200:  9.58%\n",
      "Train set loss for update step 400: 2.3029236793518066\n",
      "Test set accuracy for update step 400:  9.58%\n",
      "Train set loss for update step 600: 2.302990436553955\n",
      "Test set accuracy for update step 600:  9.58%\n",
      "Train set loss for update step 800: 2.303009033203125\n",
      "Test set accuracy for update step 800:  9.58%\n",
      "Train set loss for update step 1000: 2.3030271530151367\n",
      "Test set accuracy for update step 1000:  9.58%\n",
      "Train set loss for update step 1200: 2.3030714988708496\n",
      "Test set accuracy for update step 1200:  9.58%\n",
      "Train set loss for update step 1400: 2.3029286861419678\n",
      "Test set accuracy for update step 1400:  9.58%\n",
      "Train set loss for update step 1600: 2.3027985095977783\n",
      "Test set accuracy for update step 1600:  9.58%\n",
      "Train set loss for update step 1800: 2.302783489227295\n",
      "Test set accuracy for update step 1800:  9.58%\n",
      "Train set loss for update step 2000: 2.3027994632720947\n",
      "Test set accuracy for update step 2000:  9.58%\n",
      "Train set loss for update step 2200: 2.302708625793457\n",
      "Test set accuracy for update step 2200:  13.19%\n",
      "Train set loss for update step 2400: 2.302729845046997\n",
      "Test set accuracy for update step 2400:  10.28%\n",
      "Train set loss for update step 2600: 2.302776336669922\n",
      "Test set accuracy for update step 2600:  10.28%\n",
      "Train set loss for update step 2800: 2.3026938438415527\n",
      "Test set accuracy for update step 2800:  10.28%\n",
      "Train set loss for update step 3000: 2.302793264389038\n",
      "Test set accuracy for update step 3000:  10.28%\n",
      "Train set loss for update step 3200: 2.302652597427368\n",
      "Test set accuracy for update step 3200:  10.28%\n",
      "Train set loss for update step 3400: 2.302713632583618\n",
      "Test set accuracy for update step 3400:  10.28%\n",
      "Train set loss for update step 3600: 2.302640438079834\n",
      "Test set accuracy for update step 3600:  10.28%\n",
      "Train set loss for update step 3800: 2.302565574645996\n",
      "Test set accuracy for update step 3800:  10.28%\n",
      "Train set loss for update step 4000: 2.3024046421051025\n",
      "Test set accuracy for update step 4000:  10.28%\n",
      "Train set loss for update step 4200: 2.302422523498535\n",
      "Test set accuracy for update step 4200:  10.28%\n",
      "Train set loss for update step 4400: 2.302368402481079\n",
      "Test set accuracy for update step 4400:  10.28%\n",
      "Train set loss for update step 4600: 2.3023698329925537\n",
      "Test set accuracy for update step 4600:  10.28%\n",
      "Train set loss for update step 4800: 2.3023810386657715\n",
=======
      "Train set loss for update step 0: 2.303044080734253\n",
      "Test set accuracy for update step 0:  9.58%\n",
      "Train set loss for update step 200: 2.303009271621704\n",
      "Test set accuracy for update step 200:  9.58%\n",
      "Train set loss for update step 400: 2.30302095413208\n",
      "Test set accuracy for update step 400:  9.58%\n",
      "Train set loss for update step 600: 2.3029608726501465\n",
      "Test set accuracy for update step 600:  9.58%\n",
      "Train set loss for update step 800: 2.3030447959899902\n",
      "Test set accuracy for update step 800:  9.58%\n",
      "Train set loss for update step 1000: 2.3029799461364746\n",
      "Test set accuracy for update step 1000:  9.58%\n",
      "Train set loss for update step 1200: 2.3029963970184326\n",
      "Test set accuracy for update step 1200:  9.58%\n",
      "Train set loss for update step 1400: 2.3029000759124756\n",
      "Test set accuracy for update step 1400:  9.58%\n",
      "Train set loss for update step 1600: 2.302751064300537\n",
      "Test set accuracy for update step 1600:  9.58%\n",
      "Train set loss for update step 1800: 2.3027358055114746\n",
      "Test set accuracy for update step 1800:  9.58%\n",
      "Train set loss for update step 2000: 2.302722215652466\n",
      "Test set accuracy for update step 2000:  9.58%\n",
      "Train set loss for update step 2200: 2.3027310371398926\n",
      "Test set accuracy for update step 2200:  9.58%\n",
      "Train set loss for update step 2400: 2.3028647899627686\n",
      "Test set accuracy for update step 2400:  12.04%\n",
      "Train set loss for update step 2600: 2.302658796310425\n",
      "Test set accuracy for update step 2600:  10.28%\n",
      "Train set loss for update step 2800: 2.302748203277588\n",
      "Test set accuracy for update step 2800:  10.28%\n",
      "Train set loss for update step 3000: 2.302774429321289\n",
      "Test set accuracy for update step 3000:  10.28%\n",
      "Train set loss for update step 3200: 2.3026418685913086\n",
      "Test set accuracy for update step 3200:  10.28%\n",
      "Train set loss for update step 3400: 2.3027260303497314\n",
      "Test set accuracy for update step 3400:  10.28%\n",
      "Train set loss for update step 3600: 2.3026013374328613\n",
      "Test set accuracy for update step 3600:  10.28%\n",
      "Train set loss for update step 3800: 2.3026232719421387\n",
      "Test set accuracy for update step 3800:  10.28%\n",
      "Train set loss for update step 4000: 2.302384853363037\n",
      "Test set accuracy for update step 4000:  10.28%\n",
      "Train set loss for update step 4200: 2.3025190830230713\n",
      "Test set accuracy for update step 4200:  10.28%\n",
      "Train set loss for update step 4400: 2.3023765087127686\n",
      "Test set accuracy for update step 4400:  10.28%\n",
      "Train set loss for update step 4600: 2.3025124073028564\n",
      "Test set accuracy for update step 4600:  10.28%\n",
      "Train set loss for update step 4800: 2.302382230758667\n",
>>>>>>> 7cf32bee4afc234a7ba6cfbd7c29059acda74c62
      "Test set accuracy for update step 4800:  10.28%\n",
      "--------------------------------\n",
      "\n",
      "Final test set accuracy: 10.28%\n"
     ]
    }
   ],
   "source": [
    "# TODO: Replace <FILL IN> with appropriate code\n",
    "\n",
    "# neural network with five layers\n",
    "#\n",
    "# · · · · · · · · · ·          (input data, flattened pixels)       X [batch, 784]   \n",
    "# \\x/x\\x/x\\x/x\\x/x\\x/       -- fully connected layer (sigmoid)      W1 [784, 200]      B1 [200]\n",
    "#  · · · · · · · · ·                                                Y1_hat [batch, 200]\n",
    "#   \\x/x\\x/x\\x/x\\x/         -- fully connected layer (sigmoid)      W2 [200, 100]      B2 [100]\n",
    "#    · · · · · · ·                                                  Y2_hat [batch, 100]\n",
    "#     \\x/x\\x/x\\x/           -- fully connected layer (sigmoid)      W3 [100, 60]       B3 [60]\n",
    "#      · · · · ·                                                    Y3_hat [batch, 60]\n",
    "#       \\x/x\\x/             -- fully connected layer (sigmoid)      W4 [60, 30]        B4 [30]\n",
    "#        · · ·                                                      Y4_hat [batch, 30]\n",
    "#         \\x/               -- fully connected layer (softmax)      W5 [30, 10]        B5 [10]\n",
    "#          ·                                                        Y_hat [batch, 10]\n",
    "\n",
    "# to reset the Tensorflow default graph\n",
    "reset_graph()\n",
    "\n",
    "########################################\n",
    "# define variables and placeholders\n",
    "########################################\n",
    "X = tf.placeholder(tf.float32, [None, 28, 28, 1], name=\"input\")\n",
    "Y = tf.placeholder(tf.float32, shape=(None, 10), name=\"labels\")\n",
    "\n",
    "# five layers and their number of neurons, i.e., 200, 100, 60, 30, and 10\n",
    "W1 = tf.Variable(tf.truncated_normal([784, 200], stddev=0.1), name=\"weigths1\")\n",
    "B1 = tf.zeros([200], name=\"bias1\")\n",
    "\n",
    "W2 = tf.Variable(tf.truncated_normal([200, 100], stddev=0.1), name=\"weigths2\")\n",
    "B2 = tf.zeros([100], name=\"bias2\")\n",
    "\n",
    "W3 = tf.Variable(tf.truncated_normal([100, 60], stddev=0.1), name=\"weigths3\")\n",
    "B3 = tf.zeros([60], name=\"bias3\")\n",
    "\n",
    "W4 = tf.Variable(tf.truncated_normal([60, 30], stddev=0.1), name=\"weigths4\")\n",
    "B4 = tf.zeros([30], name=\"bias4\")\n",
    "\n",
    "W5 = tf.Variable(tf.truncated_normal([30, 10], stddev=0.1), name=\"weigths5\")\n",
    "B5 = tf.zeros([10], name=\"bias5\")\n",
    "\n",
    "########################################\n",
    "# build the model\n",
    "########################################\n",
    "XX = XX = tf.reshape(X, [-1, 784], name=\"input_flattened\")\n",
    "\n",
    "Y1_hat = tf.nn.sigmoid(tf.add(tf.matmul(XX, W1), B1), name=\"out1\")\n",
    "Y2_hat = tf.nn.sigmoid(tf.add(tf.matmul(Y1_hat, W2), B2), name=\"out2\")\n",
    "Y3_hat = tf.nn.sigmoid(tf.add(tf.matmul(Y2_hat, W3), B3), name=\"out3\")\n",
    "Y4_hat = tf.nn.sigmoid(tf.add(tf.matmul(Y3_hat, W4), B4), name=\"out4\")\n",
    "Y_hat = tf.nn.softmax(tf.add(tf.matmul(Y4_hat, W5), B5), name=\"out_final\")\n",
    "\n",
    "########################################\n",
    "# define the cost function\n",
    "########################################\n",
    "cross_entropy = tf.reduce_mean(tf.losses.softmax_cross_entropy(onehot_labels= Y, logits=Y_hat))\n",
    "\n",
    "########################################\n",
    "# define the optimizer\n",
    "########################################\n",
    "optimizer = tf.train.GradientDescentOptimizer(learning_rate = 0.005)\n",
    "train_step = optimizer.minimize(cross_entropy)\n",
    "\n",
    "########################################\n",
    "# execute the model\n",
    "########################################\n",
    "init = tf.global_variables_initializer()\n",
    "\n",
    "n_epochs = 5000\n",
    "\n",
    "X_train_temp, Y_train = mnist.train.images, mnist.train.labels\n",
    "X_train = np.reshape(X_train_temp, (-1, 28, 28, 1))\n",
    "\n",
    "test_accuracies = []\n",
    "\n",
    "predictions = tf.equal(tf.argmax(Y_hat, 1), tf.argmax(Y, 1))\n",
    "accuracy = tf.reduce_mean(tf.cast(predictions, tf.float32))\n",
    "\n",
    "X_test_temp, Y_test = mnist.test.images, mnist.test.labels\n",
    "X_test = np.reshape(X_test_temp, (-1, 28, 28, 1))\n",
    "\n",
    "with tf.Session() as sess:\n",
    "    sess.run(init)\n",
    "    \n",
    "    for i in range(n_epochs):\n",
    "        \n",
    "        X_batch_temp, Y_batch = mnist.train.next_batch(100)\n",
    "        X_batch = np.reshape(X_batch_temp, (-1, 28, 28, 1))\n",
    "        \n",
    "        sess.run(train_step, feed_dict={X: X_batch, Y: Y_batch})\n",
    "        \n",
    "        if i % 200 == 0:\n",
    "            train_loss = sess.run(cross_entropy, feed_dict={X: X_train, Y: Y_train})\n",
    "            print(f'Train set loss for update step {i}: {train_loss}')\n",
    "            train_losses.append(train_loss)\n",
    "            test_accuracy = sess.run(accuracy, feed_dict={X: X_test, Y: Y_test})\n",
    "            print(f'Test set accuracy for update step {i}:  {round(test_accuracy*100, 2)}%')\n",
    "            test_accuracies.append(test_accuracy)\n",
    "    \n",
    "    test_set_accuracy = sess.run(accuracy, feed_dict={X: X_test, Y: Y_test})\n",
    "\n",
    "    print('--------------------------------')\n",
    "    print()\n",
    "    print(f'Final test set accuracy: {round(test_set_accuracy*100, 2)}%')    "
   ]
  },
  {
   "cell_type": "code",
<<<<<<< HEAD
   "execution_count": 14,
=======
   "execution_count": 11,
>>>>>>> 7cf32bee4afc234a7ba6cfbd7c29059acda74c62
   "metadata": {},
   "outputs": [
    {
     "data": {
      "text/plain": [
<<<<<<< HEAD
       "Text(0.5, 1.0, 'Multi-layer NN training set cross entropy loss evolution')"
      ]
     },
     "execution_count": 14,
=======
       "Text(0.5,1,'Multi-layer NN training set cross entropy loss evolution')"
      ]
     },
     "execution_count": 11,
>>>>>>> 7cf32bee4afc234a7ba6cfbd7c29059acda74c62
     "metadata": {},
     "output_type": "execute_result"
    },
    {
     "data": {
<<<<<<< HEAD
      "image/png": "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\n",
=======
      "image/png": "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\n",
>>>>>>> 7cf32bee4afc234a7ba6cfbd7c29059acda74c62
      "text/plain": [
       "<Figure size 432x288 with 1 Axes>"
      ]
     },
     "metadata": {
      "needs_background": "light"
     },
     "output_type": "display_data"
    }
   ],
   "source": [
    "plt.plot(train_losses)\n",
    "plt.title(\"Multi-layer NN training set cross entropy loss evolution\")"
   ]
  },
  {
   "cell_type": "code",
<<<<<<< HEAD
   "execution_count": 15,
=======
   "execution_count": 12,
>>>>>>> 7cf32bee4afc234a7ba6cfbd7c29059acda74c62
   "metadata": {},
   "outputs": [
    {
     "data": {
      "text/plain": [
<<<<<<< HEAD
       "Text(0.5, 1.0, 'Multi-layer NN test set accuracy evolution')"
      ]
     },
     "execution_count": 15,
=======
       "Text(0.5,1,'Multi-layer NN test set accuracy evolution')"
      ]
     },
     "execution_count": 12,
>>>>>>> 7cf32bee4afc234a7ba6cfbd7c29059acda74c62
     "metadata": {},
     "output_type": "execute_result"
    },
    {
     "data": {
<<<<<<< HEAD
      "image/png": "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\n",
=======
      "image/png": "iVBORw0KGgoAAAANSUhEUgAAAYQAAAEICAYAAABfz4NwAAAABHNCSVQICAgIfAhkiAAAAAlwSFlzAAALEgAACxIB0t1+/AAAADl0RVh0U29mdHdhcmUAbWF0cGxvdGxpYiB2ZXJzaW9uIDIuMi4zLCBodHRwOi8vbWF0cGxvdGxpYi5vcmcvIxREBQAAIABJREFUeJzt3XucpFV95/HPt69z6R5gplvDVVDJJhgS1AGzSSTGG2CUMRswsEbBFwY3G3djzEU2MWCIrklM1iQbYyQRL1wENEEncQyikWgSNTOwCI4jYSQ40wzBhhm6eobumb789o/nPENRVFU/1VU9XdX1fb9e/eqq5/7U7VvnnHrOUURgZmbWs9wHYGZm7cGBYGZmgAPBzMwSB4KZmQEOBDMzSxwIZmYGOBDamqSQ9Nw687dLekmNeSen9fuW7ADNlpmkByW9fJHrniRpv6TeVh9Xp3IgLIH0Ij0kaaRi+t3pQ/rkRWzzo5LeXT4tIp4XEXc0dbBHQHo8HpG0tmzamyXdUXY/JN0rqads2rslfbTGNl8iaaxFx3eHpDe3YlsV271U0j+1eru2OJXhERG7ImIoIuaW87jaiQNh6fw7cHF+R9LpwOrlO5ylp0yt11Qf8MsLbOI44KLWHpXV42/HVs6BsHSuA95Ydv8S4OPlC1R+M631jVLS5cDrgd9IRdy/TdMLF5clvUnSDkmTkh6Q9Jayed+U9Jqy+/2SHpV0Rrr/o5L+RdLjkr5RXk2VzuE9kv4ZeAJ4do1DeB/wa5KOrnOYfwD8zkLVXKmk8TnguPR47Jd0nKQeSVdI+o6kxyTdIml9WmeVpOvT9MclbZX0TEnvAV4M/Fnazp9V2V/VddO8oyR9WNLDkh5KpZpeST8I/AXwn9N2H69xLjWflzR/UypZltJ5nZumr5f0EUl7JO2T9Ok0/WmvofKqx1TS/KCkLZIOAD8l6acl/b+0j92S3lWx/k+UPf+70z7OTKW+vrLlflbS3TXOc1DSH0raldb7C0mr07wdkl5dtmxfev29IN0/X1n16OPp9faDNfbxlFK0ykqRkq4DTgL+Nj0fv6GKatX0Gtosaa+knZJ+oWxb70qvp4+n52q7pI3VjqOjRYT/WvwHPAi8HLgP+EGgF9gNPAsI4OS03B3Am8vWuxT4p7L7ATw33f4o8O5q+6lxDCen9fvS/Z8GngMI+EmyD+8XpHm/Adxctu4m4N50+3jgMeBVZF8gXpHuj5adwy7geWSlgP46j8ff5OcAvBm4o+JcTwXuzB8T4N3AR2uc30uAsYppbwO+BpwADAIfAj6R5r0F+FtgTXo+Xgisq/Y8VNlXvXU/nfazFngG8K/AW6o9nzW2Xe95OQuYSI95T3oufiDN+yxwM3AM0A/8ZK19VnkdTQA/nra5Kj2Wp6f7Pww8Arw2LX8SMElW2u0HNgBnpHnfAs4r28+twK/WOM8/BjYD64Hh9Hi+N827Erih4jH5drr9/cCB9Bj0k71WdwIDle8BKt4jla8RKt4vPP098o/An6fH5AxgHHhZmvcuYJrsfdALvBf42nJ/1rT6zyWEpZWXEl4BfBt4aLkOJCI+GxHficw/Ap8n+2YMcD3wKknr0v03kB07wM8DWyJiS0TMR8TtwDayN0buoxGxPSJmI2KmzmFcCfwPSaO1DhP4beBKSYONnyVvAX4rIsYi4iDZm/iC9A1whuzD7LkRMRcRd0ZEqeB2q66bSgnnAW+LiAMR8T3g/TRQ7bXA83IZcG1E3J4e+4ci4tuSjk37/W8RsS8iZtK6RX0mIv45bXM6Iu6IiHvT/XuAT5CFE2Ql0y9ExCfSfh6LiLwU8DGy1wepJHYOcGPlziQJ+AXgVyJib0RMAv+77HG6EThf0pp0/7+WbefngM+mx2AG+EOyqtcfa+B8FyTpROAngHekx+Ru4K/I3gu5f0rvgzmy98ePtPIY2oF/gbK0rgO+DJxCRXVRq0naX3b3tCrzzwOuIvvG1UP2bfdegIjYk6p8flbSrWQfNnl9/7OAC1VWpUT2Te1LZfd3FznGiPimpL8DrgB21Fhmi6RdwOVFtlnhWcCtkubLps0BzyR7Lk4EblJWbXU9WXjUC7Bc1XXT/vqBh7PPPCB7bAs9HlD/eUn73FJltROBvRGxr+h+Kjzl+CS9CPg94IeAAbLS1SfL9vWdGtu5HtghaQh4HfCViHi4ynKjZOd1Z9njJLJv2kTETkk7gNcoqw49H3h+Wu444Lv5ShExL2k3WWmplY4je0wny6Z9FyivFvqPsttPAKsk9UXEbIuPZdm4hLCEIuK7ZI3LryKrLql0gOyNkvu+eptbYF9DZX+7yuelb9t/Tfbt6pkRcTTZB43KFsu/7V0IfDUi8tLMbuC6iDi67G9tRPxe0WOrcBXZt8V6b+h3kn3grqmzTLV97iarwig/1lXpm/VMRPxORJxG9u3y1TzZxrPQY1tr3d3AQWCkbH/rIuJ5RbZb4HnZTVadVO0816t6e8xTXlOSqr2mKo/rRrLqnBMj4iiyto+FjoH0Gvkq8DM8tVRZ6VFgCnhe2eN0VEQMlS3zCbJqqU3AtyJiZ5q+hyx48/MRWUhVK20v9H6q93zsIXtMh8umnVRjPyuWA2HpXQa8NCIOVJl3N/BfJK1JjX6X1dnOI9RusF1I/q1vHJhN30pfWbHMp4EXkJUMyksz15N9czsnNZauSo11JyzmQNIb/Wbgf9ZZ5g6yb8mX1NnUI8AGSUeVTfsL4D2SngUgaVTSpnT7pySdruxXNSWyaqC5sm3VfGxrrZu+DX8e+CNJ65Q1aj9HUl7d8ghwgqSBGpte6Hn5MPAmSS9L2z5e0g+k/X4O+HNJxyj7EcDZaZ1vAM+TdIakVWTVZgsZJvt2PC3pLLIqm9wNwMslvS419m5Q+rFB8nGyev3TydoQniYi5oG/BN4v6RkA6VzOKVvspnTuv8hTq51uAX46PQb9wK+ShfC/VNnV3WRVn+tTEL6tYn7N5zkidqdtvje9xn+Y7P14Q7XlVyoHwhJL9cPbasx+P3CI7IX6Meq/+D4MnJZ+afHpBo9hkuwD+BZgH9kbfnPFMlNk31ZPoaw0k94om4DfJPvg2g38Os29dq4ma4St551kDZBVRcS3yb5VPpAek+OAPyE7r89LmiRrYH5RWuX7gE+RfaDvIGtAvD7N+xOytoZ9kv60yu7qrftGsg/2b5E9tp8Cjk3z/gHYDvyHpEernEPd5yUi/hV4E9nrZCLtN/+2/AayYPo28D3Sh19E/BvZ4/sF4H6gyHUQ/x24Oj1mV6bjyY9hF1kJ91eBvWQfuuV157emY7q1xpee3DvIGoO/JqmUju8/le3nYbLSxo+RfWHIp99HVnL9v2QljdcAr4mIQ1X2cR1ZID5IFtQ3V8x/L/DO9Hr5tSrrX0zW0LwnnddVqc2sayjCA+RYRtKVwPdHxM8v97FY55D0HbJfVn1huY/FmuNGZQMO/0rkMp76qwqzuiT9LFnd/D8s97FY81xlZKQLcHYDn4uILy/38VhnUNb1yAeBX0rtBNbhXGVkZmaASwhmZpZ0VBvCyMhInHzyyct9GGZmHeXOO+98NCJq9RBwWEcFwsknn8y2bbV+wWlmZtVI+u7CS7nKyMzMEgeCmZkBDgQzM0scCGZmBjgQzMwscSCYmRngQDAzs8SBYNakPY9P8cUdjyz3YZg1rVAgSDpX0n2Sdkq6osr8syXdJWlW0gVl08+Q9FVJ2yXdI+nnyuadIunrku6XdHOdQUTM2trHvvogb7nuTubm3S+YdbYFAyGNEvUBsnF2TwMullQ5Zu8u4FKePsD2E8Ab05CC5wJ/XDbs3+8D74+IU8kGB6k3WphZ23r8wAyz88HeA9XGbDHrHEVKCGcBOyPigTRK0U1kI2gdFhEPRsQ9wHzF9H+LiPvT7T1kIzuNpnFRX0o2uhRko4W9tqkzMVsmE1MzADy6/+AyH4lZc4oEwvFkfeXnxqg/QHpVaazWAeA7wAbg8YiYXWibki6XtE3StvHx8UZ3a7bkStMOBFsZigSCqkxrqLJU0rFk452+KQ2kUXibEXFNRGyMiI2jowt21md2xDkQbKUoEghjwIll908gG4S6EEnrgM8C74yIr6XJjwJHS8p7W21om2bt5HCV0aTbEKyzFQmErcCp6VdBA8BFwOYiG0/L3wp8PCI+mU+PbJi2LwH5L5IuAT7TyIGbtYvSVFbz6RKCdboFAyHV878VuA3YAdwSEdslXS3pfABJZ0oaAy4EPiRpe1r9dcDZwKWS7k5/Z6R57wDeLmknWZvCh1t6ZmZHwPx8HK4yGncgWIcrNEBORGwBtlRMu7Ls9layap/K9a4Hrq+xzQfIfsFk1rH2H5olH5b80f2uMrLO5iuVzZow8cTM4duPTrqEYJ3NgWDWhLy66Og1/W5DsI7nQDBrQt6g/OyRtTx24BDz7r7COpgDwawJ+U9Onz06xNx88PjUzAJrmLUvB4JZE/Iqo+eMDgH+6al1NgeCWRNKh0sIawE3LFtncyCYNaE0NYMEp4xkgeBrEayTORDMmlCanmXdqn5GhwYBX4tgnc2BYNaEiakZ1q3u46jV/fT1yG0I1tEcCGZNKE3NsG5VPz09YsPQgNsQrKM5EMyaMDE1w1Gr+wEYGRp0CcE6mgPBrAml6ayEAHkguA3BOpcDwawJLiHYSuJAMGtCaWqWdauzToNHhgZ4bP8hItx9hXUmB4LZIh2anWdqZu4pJYRDc/OUpmcXWNOsPTkQzBYp77ZiXR4IwwOAu6+wzuVAMFukvNuK8kZlcPcV1rkcCGaLlPd0Wl5lBL5a2TqXA8FskfK2gicblfNAcAnBOpMDwWyRKksI69cO0CMHgnUuB4LZIlW2IfT2iPVrBxwI1rEcCGaLVPkrI8iqjcYn3YZgncmBYLZIE1MzDPT1sKq/9/A0X61sncyBYLZIpanZw9VFuZEhVxlZ53IgmC1SaWqGo9IvjHJ5CcHdV1gnciCYLVJpeuYp7QcAI8ODTM/Mc+DQ3DIdldniORDMFqm8p9Ocr1a2TuZAMFukfLS0ciND7s/IOpcDwWyRStNPdn2d89XK1skcCGaLEBFVq4xGh7NAGHd/RtaBHAhmi/DEoTnm5uNpVUbr16YqI7chWAcqFAiSzpV0n6Sdkq6oMv9sSXdJmpV0QcW8v5f0uKS/q5j+UUn/Lunu9HdGc6diduRU9mOU6+/t4Zg1/a4yso60YCBI6gU+AJwHnAZcLOm0isV2AZcCN1bZxPuAN9TY/K9HxBnp7+7CR222zKp1W5Hz1crWqYqUEM4CdkbEAxFxCLgJ2FS+QEQ8GBH3APOVK0fEF4HJVhysWbuYeKJ6CQHyQHAbgnWeIoFwPLC77P5YmtYK75F0j6T3Sxps0TbNltzhsRBWVQmEYZcQrDMVCQRVmdaK6/L/F/ADwJnAeuAdVXcuXS5pm6Rt4+PjLditWfMOd31d8bNTSP0ZuVHZOlCRQBgDTiy7fwKwp9kdR8TDkTkIfISsaqractdExMaI2Dg6Otrsbs1aolajMmRVRgcOzTHl7iuswxQJhK3AqZJOkTQAXARsbnbHko5N/wW8Fvhms9s0O1LyRuXhalVGvlrZOtSCgRARs8BbgduAHcAtEbFd0tWSzgeQdKakMeBC4EOStufrS/oK8EngZZLGJJ2TZt0g6V7gXmAEeHcrT8xsKU1MzTA82Edvz9NrVH21snWqp1eAVhERW4AtFdOuLLu9lawqqdq6L64x/aXFD9OsvZSmZqv+5BTKA8G/NLLO4iuVzRahND3D8Krq36dGhl1CsM7kQDBbhGr9GOU2uPsK61AOBLNFKE09fXCc3Kr+XoZX9bmEYB3HgWC2CKU6JQSAUV+tbB3IgWC2CKXp2apXKedGhgYZdwnBOowDwaxBs3Pz7D84W7eEMDI84Coj6zgOBLMGTeb9GFXptiI3MjToRmXrOA4EswYd7vp6gSqj0vQsB2fdfYV1DgeCWYPq9WOUyy9Oe8wNy9ZBHAhmDSpN5VVG9QLB/RlZ53EgmDWoUAnBVytbB3IgmDXoyeEzazcqj+b9GU26ysg6hwPBrEGNtCH4WgTrJA4EswaVpmbo6xGr+3trLrN6oJe1A72uMrKO4kAwa1BpOuvHKBvbqbZsbGVXGVnncCCYNWhiqv5VyjlfnGadxoFg1qDS1AzraoyFUG5kyN1XWGdxIJg1aKJO19flRoYGHQjWURwIZg3K2xAWMjI0yL4nZpiZmz8CR2XWPAeCWYOyKqMCgZAuTtt3wA3L1hkcCGYNiAhKBRuVR1P3Fb4WwTqFA8GsAQdn5zk0N1/3KuVcfnGaf3pqncKBYNaAIlcp5zYc7r7CJQTrDA4EswaUphYeCyHnHk+t0zgQzBrQSAlhaLCPwb4eB4J1DAeCWQOe7Ol04UCQlK5FcBuCdQYHglkDDg+OU+BKZcj7M3IJwTqDA8GsAY1UGUH209NxNypbh3AgmDXgcKNywUBwlZF1EgeCWQMmpmZYM9BLf2+xt87I0CB7Dxxkbj6W+MjMmudAMGtAabpYtxW5kaEB5gP2PeFSgrU/B4JZAyamZgq3H8CT/Rm5Ydk6QaFAkHSupPsk7ZR0RZX5Z0u6S9KspAsq5v29pMcl/V3F9FMkfV3S/ZJuljTQ3KmYLb3S1Gyhbityh7uvmHQJwdrfgoEgqRf4AHAecBpwsaTTKhbbBVwK3FhlE+8D3lBl+u8D74+IU4F9wGXFD9tseTReZeQSgnWOIiWEs4CdEfFARBwCbgI2lS8QEQ9GxD3A0zp+j4gvApPl05QNRvtS4FNp0seA1zZ++GZHVqNVRqMOBOsgRQLheGB32f2xNK0ZG4DHI2J2oW1KulzSNknbxsfHm9ytWXNKBUdLy61b3cdAb4+7wLaOUCQQVGVas7+hK7zNiLgmIjZGxMbR0dEmd2u2ePPzweTB2YYCQRIbhgbchmAdoUggjAEnlt0/AdjT5H4fBY6WlLfOtWKbZktq8uAsEcW7rch5bGXrFEUCYStwavpV0ABwEbC5mZ1GRABfAvJfJF0CfKaZbZottUavUs6NDA04EKwjLBgIqZ7/rcBtwA7glojYLulqSecDSDpT0hhwIfAhSdvz9SV9Bfgk8DJJY5LOSbPeAbxd0k6yNoUPt/LEzFqt0X6Mci4hWKcoVPaNiC3AloppV5bd3kpW7VNt3RfXmP4A2S+YzDrC4a6vG/jZKWQXpz22/xDz80FPT7XmM7P24CuVzQoqNVFCmJ2PwyUMs3blQDAr6PBYCA1cqQxPDqX52AFXG1l7cyCYFbTYNoT84rRx//TU2pwDwayg0vQMPYK1Aw2WENzBnXUIB4JZQRNTMwyv6m+4Ydj9GVmncCCYFVRqsB+j3NGr++ntkQPB2p4Dwayg0nRjXV/nenrE+rXuvsLanwPBrKBGezot54vTrBM4EMwKKk01NhZCOXdfYZ3AgWBW0EQTgTA6NMij+11lZO3NgWBWUGl6hqPWLLKEMDzI+P6DZP06mrUnB4JZAQdn55iemW+46+vcyNAAh2bnmTw4u/DCZsvEgWBWQN5tRTONygCPTrodwdqXA8GsgMM9nTYbCG5HsDbmQDArYGKRg+PkfLWydQIHglkBh0dLW+zPToezHk8dCNbOHAhmBTzZ0+niGpXXrxlAchuCtTcHglkBpel8LITFlRD6entYv2aAcbchWBtzIJgV0GyVEbj7Cmt/DgSzAkpTMwz29bCqv3fR2xgZdvcV1t4cCGYFlKZnFl1dlHMJwdqdA8GsgGZ6Os2NDA26C2xraw4EswJKU7OL7rYiNzI0yNTMHAfcfYW1KQeCWQETU62oMvK1CNbeHAhmBZSmW1BlNOyrla29ORDMCmhmcJzcqPszsjbnQDBbQERQmp5tSaMyuIRg7cuBYLaAA4fmmJsP1i2y24rchrwNwb80sjblQDBbwEQLrlIG6O/t4eg1/S4hWNtyIJgtoHS4Y7vmAgF8cZq1NweC2QKaHQuh3Ia17r7C2lehQJB0rqT7JO2UdEWV+WdLukvSrKQLKuZdIun+9HdJ2fQ70jbvTn/PaP50zFqvpSWE4UH/ysja1oKtZJJ6gQ8ArwDGgK2SNkfEt8oW2wVcCvxaxbrrgauAjUAAd6Z196VFXh8R25o+C7MldLjr6ybbECD76anHRLB2VaSEcBawMyIeiIhDwE3ApvIFIuLBiLgHmK9Y9xzg9ojYm0LgduDcFhy32REz0dI2hAEmD84yPTPX9LbMWq1IIBwP7C67P5amFbHQuh9J1UW/LUnVNiDpcknbJG0bHx8vuFuz1smrjIaa7MsIfC2CtbcigVDtgzoKbr/euq+PiNOBF6e/N1TbQERcExEbI2Lj6Ohowd2atc7E1AzDg3309lT9ztKQEV+tbG2sSCCMASeW3T8B2FNw+zXXjYiH0v9J4EayqimzttOKsRByh/szcjuCtaEigbAVOFXSKZIGgIuAzQW3fxvwSknHSDoGeCVwm6Q+SSMAkvqBVwPfbPzwzZZeqQU9nebc46m1swUDISJmgbeSfbjvAG6JiO2SrpZ0PoCkMyWNARcCH5K0Pa27F/hdslDZClydpg2SBcM9wN3AQ8BftvzszFqgNDXLUU12W5FzG4K1s0Kv8ojYAmypmHZl2e2tZNVB1da9Fri2YtoB4IWNHqzZcihNz3DS+jUt2daq/l6GB/vchmBtyVcqmy2gFcNnlhsZHmTcJQRrQw4EswW0sg0BsnYENypbO3IgmNUxMzfPgUNzLblKOecO7qxdORDM6phM3Va0qlEZ8kBwG4K1HweCWR2lFvZ0mhsZGmRiaoZDs5U9vZgtLweCWR2t7McoNzKcXYvw2AFXG1l7cSCY1VGaXpoSAngoTWs/DgSzOlo1fGY5X5xm7cqBYFZHaSpvVG5dIIw6EKxNORDM6nhy+MwW/spoOO/PyFVG1l5a9yo3W4FK0zP094rV/b0t2+aagT7WDPQytu8JHnMpwQo6anU/fb1L+x3egWBWR2lqhnWr+qkxftOifd+6Vdzw9V3c8PVdLd2urVxfePtP8txnDC3pPhwIZnW0uh+j3B+97ke496GJlm/XVq687WkpORDM6ihNzzK8BIHw/JOO4fknHdPy7Zo1w43KZnVMTM2wrgVjKZt1AgeCWR2TS1RlZNaOHAhmdUy0uOtrs3bmQDCrISIoTbuEYN3DgWBWw/TMPDNz0dJuK8zamQPBrIaluErZrJ05EMxqyHs6dZWRdQsHglkNS9HTqVk7cyCY1VBagsFxzNqZA8GshoklGD7TrJ05EMxqcAnBuo0DwayG0nQ2OM6wu66wLuFAMKthYmqGNQO99C9xH/Rm7cKvdLMaSu7HyLqMA8Gshok0OI5Zt3AgmNXgfoys2zgQzGooTc262wrrKoUCQdK5ku6TtFPSFVXmny3pLkmzki6omHeJpPvT3yVl018o6d60zT9VqwetNWuSu762brNgIEjqBT4AnAecBlws6bSKxXYBlwI3Vqy7HrgKeBFwFnCVpHzcwA8ClwOnpr9zF30WZkugNO02BOsuRUoIZwE7I+KBiDgE3ARsKl8gIh6MiHuA+Yp1zwFuj4i9EbEPuB04V9KxwLqI+GpEBPBx4LXNnoxZq8zNB5PTsy4hWFcpEgjHA7vL7o+laUXUWvf4dHvBbUq6XNI2SdvGx8cL7tasOfvTRWluVLZuUiQQqtXtR8Ht11q38DYj4pqI2BgRG0dHRwvu1qw5T/Z06kZl6x5FAmEMOLHs/gnAnoLbr7XuWLq9mG2aLTmPhWDdqEggbAVOlXSKpAHgImBzwe3fBrxS0jGpMfmVwG0R8TAwKelH06+L3gh8ZhHHb7YkSu7p1LrQgoEQEbPAW8k+3HcAt0TEdklXSzofQNKZksaAC4EPSdqe1t0L/C5ZqGwFrk7TAH4R+CtgJ/Ad4HMtPTOzJnhwHOtGhSpII2ILsKVi2pVlt7fy1Cqg8uWuBa6tMn0b8EONHKzZkXK4ymiNA8G6h69UNqvCjcrWjRwIZlWUpmbpEQwNOhCsezgQzKrIu61wjyrWTRwIZlW4p1PrRg4EsypKHgvBupADwayKrMrI7QfWXRwIZlWUpmddZWRdx4FgVoWHz7Ru5EAwq6I05UZl6z4OBLMK0zNzHJyddz9G1nUcCGYV8m4rHAjWbRwIZhVKU9ngOO62wrqNA8GswoS7vrYu5UAwq+DBcaxbORDMKpQ8FoJ1KQeCWYU8EFxCsG7jQDCrkLchDLtR2bqMA8GsQml6lsG+Hlb19y73oZgdUQ4Eswq+Stm6lQPBrEI+OI5Zt3EgmFXw4DjWrRwIZhWynk7doGzdx4FgVqE05bEQrDs5EMwqlKbdhmDdyYFgVmZ+PjyesnUtB4JZmQOHZpkPX6Vs3cmBYFbmyZ5O3ahs3acrXvW/deu9/Ou/713uw7AOcGhuHnDHdtaduiIQjjt6Nac+c2i5D8M6xAufdQwvevaG5T4MsyOuKwLhl37quct9CGZmbc9tCGZmBhQMBEnnSrpP0k5JV1SZPyjp5jT/65JOTtMHJH1E0r2SviHpJWXr3JG2eXf6e0aLzsnMzBZhwSojSb3AB4BXAGPAVkmbI+JbZYtdBuyLiOdKugj4feDngF8AiIjT0wf+5ySdGRHzab3XR8S2Fp6PmZktUpESwlnAzoh4ICIOATcBmyqW2QR8LN3+FPAySQJOA74IEBHfAx4HNrbiwM3MrLWKBMLxwO6y+2NpWtVlImIWmAA2AN8ANknqk3QK8ELgxLL1PpKqi347BcjTSLpc0jZJ28bHxwudlJmZNa5IIFT7oI6Cy1xLFiDbgD8G/gWYTfNfHxGnAy9Of2+otvOIuCYiNkbExtHR0QKHa2Zmi1EkEMZ46rf6E4A9tZaR1AccBeyNiNmI+JWIOCMiNgFHA/cDRMRD6f8kcCNZ1ZSZmS2TIoGwFThV0imSBoCLgM0Vy2wGLkm3LwD+ISJC0hpJawEkvQKYjYhvpSqkkTS9H3g18M0WnI+ZmS2SIiprf6osJL2KrMqnF7g2It4j6WpgW0RslrQKuA54PrAXuCgiHkg/P70NmAceAi6LiO+mkPgy0J+2+QXg7RExt8BxjAPfXdSZwgjw6CLX7XTdfO7Q3effzecO3X3ZbO7dAAACw0lEQVT+5ef+rIhYsM69UCCsBJK2RURX/sKpm88duvv8u/ncobvPfzHn7iuVzcwMcCCYmVnSTYFwzXIfwDLq5nOH7j7/bj536O7zb/jcu6YNwczM6uumEoKZmdXhQDAzM6BLAmGh7rtXMkkPpu7H75a04nuWlXStpO9J+mbZtPWSbpd0f/p/zHIe41Kpce7vkvRQWTfzr1rOY1wqkk6U9CVJOyRtl/TLafqKf+7rnHvDz/2Kb0NI3Xf/G2XddwMXV3TfvWJJehDYGBFdcXGOpLOB/cDHI+KH0rQ/IOtK5ffSF4JjIuIdy3mcS6HGub8L2B8Rf7icx7bUJB0LHBsRd0kaBu4EXgtcygp/7uuc++to8LnvhhJCke67bYWIiC+TXS1frrx79o+RvVlWnBrn3hUi4uGIuCvdngR2kPXCvOKf+zrn3rBuCIQi3XevZAF8XtKdki5f7oNZJs+MiIche/MA3TY631sl3ZOqlFZclUml1GXO84Gv02XPfcW5Q4PPfTcEQpHuu1eyH4+IFwDnAb+UqhWse3wQeA5wBvAw8EfLezhLS9IQ8NfA2yKitNzHcyRVOfeGn/tuCIQi3XevWBGxJ/3/HnAr3dnN+COpnjWvb/3eMh/PERMRj0TEXBq29i9Zwc9/6jn5r4EbIuJv0uSueO6rnftinvtuCIQi3XevSJLWpkYmUg+zr6Q7uxkv7579EuAzy3gsR1T+YZj8DCv0+U8jLn4Y2BER/6ds1op/7mud+2Ke+xX/KyOo3n33Mh/SESHp2WSlAoA+4MaVfu6SPgG8hKzr30eAq4BPA7cAJwG7gAsjYsU1vtY495eQVRkE8CDwlrxOfSWR9BPAV4B7ybrbB/hNsrr0Ff3c1zn3i2nwue+KQDAzs4V1Q5WRmZkV4EAwMzPAgWBmZokDwczMAAeCmZklDgQzMwMcCGZmlvx/Mp93VZHUUjUAAAAASUVORK5CYII=\n",
>>>>>>> 7cf32bee4afc234a7ba6cfbd7c29059acda74c62
      "text/plain": [
       "<Figure size 432x288 with 1 Axes>"
      ]
     },
     "metadata": {
      "needs_background": "light"
     },
     "output_type": "display_data"
    }
   ],
   "source": [
    "plt.plot(test_accuracies)\n",
    "plt.title(\"Multi-layer NN test set accuracy evolution\")"
   ]
  },
  {
   "cell_type": "markdown",
   "metadata": {},
   "source": [
    "---\n",
    "# 3. Special Care for Deep Networks\n",
    "As layers were added, neural networks tended to converge with more difficulties. For example, the accuracy could stuck at 0.1. Here, we want to apply some updates to the network we built in the previous part to improve its performance. \n",
    "\n",
    "### ReLU Activation Function\n",
    "<img src=\"figs/10-comic3.png\" style=\"width: 500px;\"/>\n",
    "The sigmoid activation function is actually quite problematic in deep networks. It squashes all values between 0 and 1 and when you do so repeatedly, neuron outputs and their gradients can vanish entirely. An alternative activation function is **ReLU** that shows better performance compare to sigmoid. It looks like as below:\n",
    "<img src=\"figs/11-relu.png\" style=\"width: 300px;\"/>\n",
    "\n",
    "### A Better Optimizer\n",
    "In very high dimensional spaces like here, **saddle points** are frequent. These are points that are not local minima, but where the gradient is nevertheless zero and the gradient descent optimizer stays stuck there. One possible solution to tackle this probelm is to use better optimizers, such as Adam optimizer `tf.train.AdamOptimizer`.\n",
    "\n",
    "### Random Initialisations\n",
    "When working with ReLUs, the best practice is to initialise bias values to small positive values, so that neurons operate in the non-zero range of the ReLU initially.\n",
    "\n",
    "### Learning Rate\n",
    "<img src=\"figs/12-comic4.png\" style=\"width: 500px;\"/>\n",
    "With two, three or four intermediate layers, you can now get close to 98% accuracy, if you push the iterations to 5000 or beyond. But, the results are not very consistent, and the curves jump up and down by a whole percent. A good solution is to start fast and decay the learning rate exponentially from $0.005$ to $0.0001$ for example. In order to pass a different learning rate to the `AdamOptimizer` at each iteration, you will need to define a new placeholder and feed it a new value at each iteration through `feed_dict`. Here is the formula for exponential decay: $learning\\_rate = lr\\_min + (lr\\_max - lr\\_min) * e^{\\frac{-i}{2000}}$, where $i$ is the iteration number.\n",
    "\n",
    "### NaN?\n",
    "In the network you built in the last section, you might see accuracy curve crashes and the console outputs NaN for the cross-entropy. It may happen, because you are attempting to compute a $log(0)$, which is indeed Not A Number (NaN). Remember that the cross-entropy involves a log, computed on the output of the softmax layer. Since softmax is essentially an exponential, which is never zero, we should be fine, but with 32 bit precision floating-point operations, exp(-100) is already a genuine zero. TensorFlow has a handy function that computes the softmax and the cross-entropy in a single step, implemented in a numerically stable way. To use it, you will need to separate the weighted sum plus bias on the last layer, before softmax is applied and then give it with the true values to the function `tf.nn.softmax_cross_entropy_with_logits`.\n",
    "\n",
    "In the code below, apply the following changes and show their impact on the accuracy of the model on training data, as well as the test data:\n",
    "* Replace the sigmoid activation function with ReLU\n",
    "* Use the Adam optimizer\n",
    "* Initialize weights with small random values between -0.2 and +0.2, and make sure biases are initialised with small positive values, for example 0.1\n",
    "* Update the learning rate in different iterations. Start fast and decay the learning rate exponentially from $0.005$ to $0.0001$, i.e., \n",
    "```\n",
    "max_learning_rate = 0.005\n",
    "min_learning_rate = 0.0001\n",
    "decay_speed = 2000.0\n",
    "```\n",
    "* Use `tf.nn.softmax_cross_entropy_with_logits` to prevent getting NaN in output."
   ]
  },
  {
   "cell_type": "code",
   "execution_count": 16,
   "metadata": {},
   "outputs": [
    {
     "name": "stdout",
     "output_type": "stream",
     "text": [
<<<<<<< HEAD
      "Train set loss for update step 0: 227.02622985839844\n",
      "Test set accuracy for update step 0:  13.62%\n",
      "Train set loss for update step 200: 172.00299072265625\n",
      "Test set accuracy for update step 200:  74.24%\n",
      "Train set loss for update step 400: 164.4776153564453\n",
      "Test set accuracy for update step 400:  82.07%\n",
      "Train set loss for update step 600: 162.25167846679688\n",
      "Test set accuracy for update step 600:  84.03%\n",
      "Train set loss for update step 800: 162.34002685546875\n",
      "Test set accuracy for update step 800:  83.82%\n",
      "Train set loss for update step 1000: 160.88693237304688\n",
      "Test set accuracy for update step 1000:  85.04%\n",
      "Train set loss for update step 1200: 160.78721618652344\n",
      "Test set accuracy for update step 1200:  85.27%\n",
      "Train set loss for update step 1400: 160.79580688476562\n",
      "Test set accuracy for update step 1400:  85.1%\n",
      "Train set loss for update step 1600: 160.33387756347656\n",
      "Test set accuracy for update step 1600:  85.62%\n",
      "Train set loss for update step 1800: 160.56385803222656\n",
      "Test set accuracy for update step 1800:  85.3%\n",
      "Train set loss for update step 2000: 159.5750732421875\n",
      "Test set accuracy for update step 2000:  86.33%\n",
      "Train set loss for update step 2200: 159.58773803710938\n",
      "Test set accuracy for update step 2200:  86.34%\n",
      "Train set loss for update step 2400: 160.02735900878906\n",
      "Test set accuracy for update step 2400:  85.71%\n",
      "Train set loss for update step 2600: 159.3041229248047\n",
      "Test set accuracy for update step 2600:  86.32%\n",
      "Train set loss for update step 2800: 152.8677520751953\n",
      "Test set accuracy for update step 2800:  92.77%\n",
      "Train set loss for update step 3000: 150.62744140625\n",
      "Test set accuracy for update step 3000:  94.72%\n",
      "Train set loss for update step 3200: 149.96017456054688\n",
      "Test set accuracy for update step 3200:  95.34%\n",
      "Train set loss for update step 3400: 150.07102966308594\n",
      "Test set accuracy for update step 3400:  95.36%\n",
      "Train set loss for update step 3600: 149.65625\n",
      "Test set accuracy for update step 3600:  95.72%\n",
      "Train set loss for update step 3800: 149.36618041992188\n",
      "Test set accuracy for update step 3800:  96.17%\n",
      "Train set loss for update step 4000: 149.1944580078125\n",
      "Test set accuracy for update step 4000:  96.08%\n",
      "Train set loss for update step 4200: 148.88442993164062\n",
      "Test set accuracy for update step 4200:  96.22%\n",
      "Train set loss for update step 4400: 148.71730041503906\n",
      "Test set accuracy for update step 4400:  96.5%\n",
      "Train set loss for update step 4600: 148.60195922851562\n",
      "Test set accuracy for update step 4600:  96.55%\n",
      "Train set loss for update step 4800: 148.60679626464844\n",
      "Test set accuracy for update step 4800:  96.62%\n",
=======
      "Train set loss for update step 0: 224.49085998535156\n",
      "Test set accuracy for update step 0:  17.06%\n",
      "Train set loss for update step 200: 172.75604248046875\n",
      "Test set accuracy for update step 200:  73.15%\n",
      "Train set loss for update step 400: 164.3184814453125\n",
      "Test set accuracy for update step 400:  81.95%\n",
      "Train set loss for update step 600: 161.4046173095703\n",
      "Test set accuracy for update step 600:  84.52%\n",
      "Train set loss for update step 800: 161.45388793945312\n",
      "Test set accuracy for update step 800:  84.15%\n",
      "Train set loss for update step 1000: 160.4095001220703\n",
      "Test set accuracy for update step 1000:  85.28%\n",
      "Train set loss for update step 1200: 160.22389221191406\n",
      "Test set accuracy for update step 1200:  85.65%\n",
      "Train set loss for update step 1400: 159.94082641601562\n",
      "Test set accuracy for update step 1400:  85.68%\n",
      "Train set loss for update step 1600: 159.84097290039062\n",
      "Test set accuracy for update step 1600:  85.87%\n",
      "Train set loss for update step 1800: 159.91928100585938\n",
      "Test set accuracy for update step 1800:  85.4%\n",
      "Train set loss for update step 2000: 154.1392059326172\n",
      "Test set accuracy for update step 2000:  91.46%\n",
      "Train set loss for update step 2200: 151.4438018798828\n",
      "Test set accuracy for update step 2200:  94.49%\n",
      "Train set loss for update step 2400: 151.1473388671875\n",
      "Test set accuracy for update step 2400:  94.23%\n",
      "Train set loss for update step 2600: 150.3206787109375\n",
      "Test set accuracy for update step 2600:  95.39%\n",
      "Train set loss for update step 2800: 150.35653686523438\n",
      "Test set accuracy for update step 2800:  95.41%\n",
      "Train set loss for update step 3000: 149.8018798828125\n",
      "Test set accuracy for update step 3000:  95.92%\n",
      "Train set loss for update step 3200: 149.5511016845703\n",
      "Test set accuracy for update step 3200:  96.16%\n",
      "Train set loss for update step 3400: 149.40859985351562\n",
      "Test set accuracy for update step 3400:  96.1%\n",
      "Train set loss for update step 3600: 149.29986572265625\n",
      "Test set accuracy for update step 3600:  96.39%\n",
      "Train set loss for update step 3800: 149.09556579589844\n",
      "Test set accuracy for update step 3800:  96.43%\n",
      "Train set loss for update step 4000: 149.12380981445312\n",
      "Test set accuracy for update step 4000:  96.34%\n",
      "Train set loss for update step 4200: 149.21121215820312\n",
      "Test set accuracy for update step 4200:  96.03%\n",
      "Train set loss for update step 4400: 148.9820098876953\n",
      "Test set accuracy for update step 4400:  96.27%\n",
      "Train set loss for update step 4600: 148.83718872070312\n",
      "Test set accuracy for update step 4600:  96.35%\n",
      "Train set loss for update step 4800: 148.73976135253906\n",
      "Test set accuracy for update step 4800:  96.56%\n",
>>>>>>> 7cf32bee4afc234a7ba6cfbd7c29059acda74c62
      "--------------------------------\n",
      "\n",
      "Final test set accuracy: 96.78%\n"
     ]
    }
   ],
   "source": [
    "# TODO: Replace <FILL IN> with appropriate code\n",
    "\n",
    "# neural network with 5 layers\n",
    "#\n",
    "# · · · · · · · · · ·          (input data, flattened pixels)       X [batch, 784]   \n",
    "# \\x/x\\x/x\\x/x\\x/x\\x/       -- fully connected layer (sigmoid)      W1 [784, 200]      B1[200]\n",
    "#  · · · · · · · · ·                                                Y1_hat [batch, 200]\n",
    "#   \\x/x\\x/x\\x/x\\x/         -- fully connected layer (sigmoid)      W2 [200, 100]      B2[100]\n",
    "#    · · · · · · ·                                                  Y2_hat [batch, 100]\n",
    "#     \\x/x\\x/x\\x/           -- fully connected layer (sigmoid)      W3 [100, 60]       B3[60]\n",
    "#      · · · · ·                                                    Y3_hat [batch, 60]\n",
    "#       \\x/x\\x/             -- fully connected layer (sigmoid)      W4 [60, 30]        B4[30]\n",
    "#        · · ·                                                      Y4_hat [batch, 30]\n",
    "#         \\x/               -- fully connected layer (softmax)      W5 [30, 10]        B5[10]\n",
    "#          ·                                                        Y_hat [batch, 10]\n",
    "\n",
    "# to reset the Tensorflow default graph\n",
    "reset_graph()\n",
    "\n",
    "########################################\n",
    "# define variables and placeholders\n",
    "########################################\n",
    "X = tf.placeholder(tf.float32, [None, 28, 28, 1], name=\"input\")\n",
    "Y = tf.placeholder(tf.float32, shape=(None, 10), name=\"labels\")\n",
    "\n",
    "# variable learning rate\n",
    "learning_rate = tf.placeholder(tf.float32, shape=[])\n",
    "\n",
    "# five layers and their number of neurons, i.e., 200, 100, 60, 30, and 10\n",
    "# when using RELUs, make sure biases are initialised with small positive values, for example 0.1\n",
    "\n",
    "bias_initializer = tf.constant_initializer(value=0.1)\n",
    "\n",
    "W1 = tf.Variable(tf.truncated_normal([784, 200], stddev=0.2), name=\"weigths1\")\n",
    "B1 = tf.get_variable(\"bias1\", shape=[200], initializer=bias_initializer)\n",
    "\n",
    "W2 = tf.Variable(tf.truncated_normal([200, 100], stddev=0.2), name=\"weigths2\")\n",
    "B2 = tf.get_variable(\"bias2\", shape=[100], initializer=bias_initializer)\n",
    "\n",
    "W3 = tf.Variable(tf.truncated_normal([100, 60], stddev=0.2), name=\"weigths3\")\n",
    "B3 = tf.get_variable(\"bias3\", shape=[60], initializer=bias_initializer)\n",
    "\n",
    "W4 = tf.Variable(tf.truncated_normal([60, 30], stddev=0.2), name=\"weigths4\")\n",
    "B4 = tf.get_variable(\"bias4\", shape=[30], initializer=bias_initializer)\n",
    "\n",
    "W5 = tf.Variable(tf.truncated_normal([30, 10], stddev=0.2), name=\"weigths5\")\n",
    "B5 = tf.get_variable(\"bias5\", shape=[10], initializer=bias_initializer)\n",
    "\n",
    "########################################\n",
    "# build the model\n",
    "########################################\n",
    "XX = tf.reshape(X, [-1, 784], name=\"input_flattened\")\n",
    "\n",
    "Y1_hat = tf.nn.relu(tf.add(tf.matmul(XX, W1), B1), name=\"out1\")\n",
    "Y2_hat = tf.nn.relu(tf.add(tf.matmul(Y1_hat, W2), B2), name=\"out2\")\n",
    "Y3_hat = tf.nn.relu(tf.add(tf.matmul(Y2_hat, W3), B3), name=\"out3\")\n",
    "Y4_hat = tf.nn.relu(tf.add(tf.matmul(Y3_hat, W4), B4), name=\"out4\")\n",
    "Y_hat = tf.nn.softmax(tf.add(tf.matmul(Y4_hat, W5), B5), name=\"out_final\")\n",
    "\n",
    "########################################\n",
    "# defining the cost function\n",
    "########################################\n",
    "cross_entropy = tf.losses.softmax_cross_entropy(onehot_labels=Y, logits=Y_hat)\n",
    "cross_entropy = tf.reduce_mean(cross_entropy) * 100\n",
    "\n",
    "########################################\n",
    "# define the optimizer\n",
    "########################################\n",
    "optimizer = tf.train.AdamOptimizer(learning_rate)\n",
    "train_step = optimizer.minimize(cross_entropy)\n",
    "\n",
    "########################################\n",
    "# execute the model\n",
    "########################################\n",
    "init = tf.global_variables_initializer()\n",
    "\n",
    "n_epochs = 5000\n",
    "\n",
    "max_learning_rate = 0.005\n",
    "min_learning_rate = 0.0001\n",
    "decay_speed = 2000.0\n",
    "\n",
    "train_losses = []\n",
    "test_accuracies = []\n",
    "learning_rates= []\n",
    "\n",
    "predictions = tf.equal(tf.argmax(Y_hat, 1), tf.argmax(Y, 1))\n",
    "accuracy = tf.reduce_mean(tf.cast(predictions, tf.float32))\n",
    "\n",
    "X_train_temp, Y_train = mnist.train.images, mnist.train.labels\n",
    "X_train = np.reshape(X_train_temp, (-1, 28, 28, 1))\n",
    "\n",
    "X_test_temp, Y_test = mnist.test.images, mnist.test.labels\n",
    "X_test = np.reshape(X_test_temp, (-1, 28, 28, 1))\n",
    "    \n",
    "# checks if learning rate has reached its minimum value\n",
    "flag = False\n",
    "\n",
    "new_learning_rate = max_learning_rate\n",
    "\n",
    "with tf.Session() as sess:\n",
    "    sess.run(init)\n",
    "    \n",
    "    for i in range(n_epochs):\n",
    "        \n",
    "        X_batch_temp, Y_batch = mnist.train.next_batch(100)\n",
    "        X_batch = np.reshape(X_batch_temp, (-1, 28, 28, 1))\n",
    "        \n",
    "        if not flag:\n",
    "            new_learning_rate = min_learning_rate + (max_learning_rate - min_learning_rate) * np.exp(-i / 2000)\n",
    "            if new_learning_rate < min_learning_rate:\n",
    "                flag = True\n",
    "                new_learning_rate = min_learning_rate\n",
    "        learning_rates.append(new_learning_rate)\n",
    "        \n",
    "        sess.run(train_step, feed_dict={X: X_batch, Y: Y_batch, learning_rate: new_learning_rate})\n",
    "        \n",
    "        if i % 200 == 0:\n",
    "            train_loss = sess.run(cross_entropy, feed_dict={X: X_train, Y: Y_train, learning_rate: new_learning_rate})\n",
    "            print(f'Train set loss for update step {i}: {train_loss}')\n",
    "            train_losses.append(train_loss)\n",
    "            test_accuracy = sess.run(accuracy, feed_dict={X: X_test, Y: Y_test, learning_rate: new_learning_rate})\n",
    "            print(f'Test set accuracy for update step {i}:  {round(test_accuracy*100, 2)}%')\n",
    "            test_accuracies.append(test_accuracy)\n",
    "    \n",
    "    test_set_accuracy = sess.run(accuracy, feed_dict={X: X_test, Y: Y_test})\n",
    "\n",
    "    print('--------------------------------')\n",
    "    print()\n",
    "    print(f'Final test set accuracy: {round(test_set_accuracy*100, 2)}%')  "
   ]
  },
  {
   "cell_type": "code",
   "execution_count": 17,
   "metadata": {},
   "outputs": [
    {
     "data": {
      "text/plain": [
<<<<<<< HEAD
       "Text(0.5, 1.0, 'Training set loss, multi-Layer NN with ReLU activation')"
=======
       "Text(0.5,1,'Training set loss, multi-Layer NN with ReLU activation')"
>>>>>>> 7cf32bee4afc234a7ba6cfbd7c29059acda74c62
      ]
     },
     "execution_count": 17,
     "metadata": {},
     "output_type": "execute_result"
    },
    {
     "data": {
<<<<<<< HEAD
      "image/png": "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\n",
=======
      "image/png": "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\n",
>>>>>>> 7cf32bee4afc234a7ba6cfbd7c29059acda74c62
      "text/plain": [
       "<Figure size 432x288 with 1 Axes>"
      ]
     },
     "metadata": {
      "needs_background": "light"
     },
     "output_type": "display_data"
    }
   ],
   "source": [
    "plt.plot(train_losses)\n",
    "plt.title(\"Training set loss, multi-Layer NN with ReLU activation\")"
   ]
  },
  {
   "cell_type": "code",
   "execution_count": 18,
   "metadata": {},
   "outputs": [
    {
     "data": {
      "text/plain": [
<<<<<<< HEAD
       "Text(0.5, 1.0, 'Test set accuracy, multi-Layer NN with ReLU activation')"
=======
       "Text(0.5,1,'Test set accuracy, multi-Layer NN with ReLU activation')"
>>>>>>> 7cf32bee4afc234a7ba6cfbd7c29059acda74c62
      ]
     },
     "execution_count": 18,
     "metadata": {},
     "output_type": "execute_result"
    },
    {
     "data": {
<<<<<<< HEAD
      "image/png": "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\n",
=======
      "image/png": "iVBORw0KGgoAAAANSUhEUgAAAXcAAAEICAYAAACktLTqAAAABHNCSVQICAgIfAhkiAAAAAlwSFlzAAALEgAACxIB0t1+/AAAADl0RVh0U29mdHdhcmUAbWF0cGxvdGxpYiB2ZXJzaW9uIDIuMi4zLCBodHRwOi8vbWF0cGxvdGxpYi5vcmcvIxREBQAAIABJREFUeJzt3XmcXHWZ7/HPt/csnQXSYckORjAqCrQouKEoBlSQcRmijjBXBb2i40UdQREUZfSijsxcIw4qCi4ExFGjEwcBEXGBSQcQCCEQA0maQNIhW3eS3p/7xzmdVDpV3dWd7lSq6vt+vepVdZY69ZxTdZ76nV+d85QiAjMzKy0VhQ7AzMxGnpO7mVkJcnI3MytBTu5mZiXIyd3MrAQ5uZuZlSAndzvoSPqKpO8OMP39kn51IGMqdpJ+IOmfB5g+4DYvB5K+IOmbo7Ts30n6+9FYdi4FTe6S2jJuvZJ2ZQy/Zz+We6+k945krOlyPyTpjpFeruUm6VhJ3ZnjIuJ7EfHWAZ6zSNJlox9d/tL1CEk/6zf+VkmXpI/np/N8vd88TZLO3Z/Xj4jzI+LqjNdZNdxlSapL49yR7qvNkv6vJOX5/Jz7kaRnJb0q3/mHK9s2iIgrIuKiEVj2Pl+UEfH6iLh5f5c9FAVN7hExvu8GrAXemjHux4WMrVhJqix0DOVOUlWOSb3A6ySdOMDTtwMflDRt5CMbccek++5pwD8CI96gsuE7qLtlJFVK+pyk1ZI2SfqxpEnptHFpC22zpK2S7pM0OW31vAz4btqq+HqW5WZ9bjrtEEk3pi2IdZKukFQh6XjgGuDUdLnP5oj5QkmPSWqVtErS/+o3/Z2SHpK0XdITkk5Lx0/JeN0tkm5Ox+/VasloNU1PhxdJ+ndJv5W0AzhZ0jmS/pq+xhpJn+kXw6np0c02SWslvVvSq9P1rciY7z2S7s3zvXpW0sWSlqfb51pJR0i6PY3jvyVNSOfdp9WUrcWW+gNQqT1HdMfvT0sujas5jel/JL0iHT8zbYlOyJj3lZLW922T9L1dmX5u/qsvAWe8Jx+W9DfgkRwvH8DXgS8NEGILcDMw6JGHpHpJ7Rnb9UuSOiSNSYe/Jukr6eNFki6TdCjwc+CojG16aLrIMZJuSj+7D0l66WAxAETESuBeYPf8ufajfJY3FJIaJP1GUkv6vvxS0hEZ0/fZr3JtA2W0uCX9XtIH+r3WSklnpo9zfY7eBlwMnJcu93/S8bt7E5TktS+k+94GSddLqk+nHSupW9I/pstvkfSp4Wybgzq5A58CTgdeBUwHuoBvpNM+AFQB04ApwEVAZ0R8AlgKfCA9AvhEluVmfW467cfANuAo4CTgbcA/RMQDwMeB36fLPTxHzM8AZwATgA8BCyW9EEDSq4HrgH8CJpG0eNalz7sZEHAscBiwML9NBCQtps8B9em6bwfenb7GOcAnJc1PY3ge8Gvgq8ChwInA8oi4J90Gr+233B8OIY5z0ufPA84FfknyQT8MGA98eAjL6vMaoCfjiO6BYSwj01+AF5Os+y+Bn0qqjoi1wH3A2zPmfS/w44joVdIt8nHgrSTr8wDwo37LfgvJ9jx+gNf/N+DEHF9kfa4E3itpzkArEhGtwEPAq9NRrwGagVdkDN/d7znPkbxPqzO26XPp5HOA60k+N3eSNGYGlX6+TwYyv7Cz7kf5LG+IKoBvAzOBvu31jYzp++xXg2yDPj8BFvQNKDnaOgT4bToq1+foF8C/Ajekyz0pS8wXAu8ied/mAlPT5/SpBBqB5wFnAldJOirP7bHbwZ7cLwQuiYj1EdEOfAH4e0kiSfQNwNER0R0RSyNiR57LzfpcSbNIdoiLI2JnRDwD/DtJospLRCyOiCcjcQfJztW3I38A+HZE3BURvRGxNiIeT3fiVwP/OyK2RkRnRPwh39cEbo2I+9JldkTEnRGxPB2+H7iFPUn7H4BfRcTP0nVviYi/ptNuJD20lnRY+pyh9BNeExGb0kT5Z+BPEfFwROwi2QEGSnoHRETcGBFbIqIL+BeSnbNvx7mBPetfQ7ID9n25XQh8KSIeT5/7BeBV6Xbqc1X6/u0a4PXbgK8AVw0wzzrg+8Dn81ilu4HXSqolSRTXpsP1wHHAn/JYRp/fRcTtEdFDst6DtdyXKzlafAT4L6Cv1bvf+1G+ImJDRPwyInZFxDbgy6Sf9f3cr24FTsk4Cng38NOI6E5fd6DP0WDeA3w1ItZExHbgs8B70rzW54qIaI+IpcBjJO/lkBy0yT1d0RnAEiVdJ1tJWksVJBvyeyQf7FvTw5d/Uf79zbmeOwuoA1oyXvPfSL7x8437rPQwbXP6/NeTHB2Qrs/fsjxtBrAxbYkNx7rMgbQ74e70kG4bcH4eMUCS3P9OUh1Jq+X2iNg0hDg2ZDzelWV4/BCWlZf08Lbv0HrQlqakS9PD623AFpL3u2/b/Ax4mZLuljOB5oh4KJ02C/h2xueiBegmOaLss9f7MIBvAUdLeuMA81wFnCPp2EGWdTdwKvByoAn4HUlyeyXwcJo88pXZ1biTwd+vF5IcLb4vfb2x6fj92Y+6gep+46pJGmT7UNI1dX3axbGdpGWd+Vkf1n4VEZuB24F3pd1Jf09yNNL3ugN9jgZzJLAmY3gNMIbkyACSI9XM/S6f92IfB21yj6Rc5dPA6yNiUsatLm0ddkTE5RFxLEkr4Z3saRkMWOpygOeuA9qAyRmvNyEiTshnuZLGAT8FvghMjYhJJDtb3zfyOuDoLE9dB0yVlO0N3MGenQYgW3dQ/7huIWlxz4iIicAP8oiBiHiS5DD/rSQt/KF0yQzFXuskqZo9H+x9whpoQZGc4dB3aP3xgeZNk+lHSQ7JJ6WvuYt026St6p+TtNL6r/864Px+n8UxEbEs31gzYm4n6XfP2fceERtIvgSuHGRx9wAvAd5MkugfJOmCOJ1+XTJDjTMf6dHhD0k+N5emowfbjwayFpjdb9wc9k6GmS4h+YJ9WURMIFnvzM96rv0qn21wE0kj57UkXzp/hsE/R3ksez3JF2CfmenzN+cRU94O2uSe+jbwFUkzACRNlfTW9PEbJM1Lv1W3k2z8nvR5GxjgECnXc9Pkdi9wddoiqJA0N6N/dAMwI01G2YwhaWVsBHolnUXSqurzXeBCSa9Jlz1D0vPT1/0D8E1JEyXVSHpN+pwHgeMlvVDSWODygTZYesQzHnguItolnULy5dXnRuAtSn50rVTyg9Rx/aZ/Lt1+v8pY7nxJ7QO99hCsAA6RdFq6Lb9A7s/iRpIfVGcO8TWqlPzQ2XerJmlldpG0umtIEmddv+fdSNJ9Np+MlhrJZ/EySccAKPnx/u0M3/dIugZfN8A8VwNvZIDPctoVsZzk94y7I6KXpAX/AXIn9w3kTnrD9WXgI5IOzWM/Aqjo9/7UpuNvBj6Rzi8lP1S+j9zdg/UkLdutkqaQ8UP0IPtVPtvglyRHJ58FbkobnH2vOdDnaAMwp183S6abSH4Hm5l2n30J+EnG8kfEwZ7crwbuAH4nqZXkm7Pv238aycZvJenzW0LSYoXkB5X3Kfl1/Oosyx3ouQtIvo0fI/kmvZk9h5P/DTwFbJTU3H+h6aHUJ0mS4nMkPyItyZh+D8mPrN8i+bHpTvYc1i8g+WJ4guTw+MPpcx5Ot8M9aUy/z7Wx0vkjfY2vpdvsn0mOJvqm/w04G/gMyeFkE8kHuM9PSX7IuSUiOjLGz2Bo/bcDxbiJ5EflH5P8APgskLX7JyK2kKz/svQQP68zOIArSFpDfbffkLwvfyDpllqdvmZLv+fdRfIl/ce0r7gvjpuAbwL/mR7+P0iSeIcl7av9PLmPWPq6Br4BTB5kcXeTtBrvzxgeB/wxx/x/BRYDa9JtmjOGfEVEE8ln6eJ01ED7ESRfapnvT9/vZQuBRST72jaSBtHFEXFXjpf+Gkl3yHMk67uk3/Ss+xV5bIOI2JnOcxrJD6x9BvscLSI5Mt0s6c9ZYr4W+E+SfPY3ku1zcZb59otG+MvCilx6NLMWODci/pgx/kfAdyIiV2uwZKQ75Lciov/ZMGZFI9fFFla+FgDbMxM7QESUxQUqkl4JPJ/kx1WzouXkbrspuWBpNskPimVH0iLgTcBHBjqd0awYuFvGzKwEDfqDanoO6UZJWS+pTn/R/ncll9o/JCmf053MzGwU5dMt8wOSswRuzDH9DJIr4+aSXEhxbXo/oClTpsTs2bPzCtLMzBLLli3bFBENg803aHKPiD9Imj3ALGcDN6an4N0raZKkIzJPI8tm9uzZNDU1DfbyZmaWQVKuC7r2MhLnuU9j78uum9Nx2YK6QElt6qaWlv6nF5uZ2UgZieSe7SqsrL/SRsR1EdEYEY0NDYMeVZiZ2TCNRHJvJrl6sc90ktoJZmZWICOR3BeTXOrfVwdi22D97WZmNroG/UFV0k0kxa+mpPVUriAtyRkR3yap5XAmSaH+nSR/t2VmZgWUz9kyCwaZHsBHRiwiMzPbbwd7VUgzMxsG15Yxs2Hr6O5hR0cPPb1Bb/TdoLc3iGCvcdE3LS15UlUhKitEdWUFVZXp44oKKivT+wpRXSlyl0U/OPT0Bru6etjZ2U17Zy87u7rZ1dmT3Lp62JneZw6fduxUXjJj0qjG5eRuVmS6e3rZ2dXDzo4ednR277nv7GZHR89e953dvUhJ4qysEBUSlRWk95njRKVERYXo6O6hrb2b1vZuWtu7aO1IHre1d9Pa0bVnWkey/NHWF+fYmkrq66qYUFedcV/NhDFVyX3mtDHVjKutoqunlx0d3ezs7Nlzn7nNdm+7ZHp7Vw/dvUFPb9DdG3T39O413JOO22u4d+j1uabW1zq5m5WDju4eWlo72LC9g5bWdjZs72Dj7vsONm5vp6W1g7aObjqGkFAlGG5twArB+NokcdbXVVFfV0XD+FqOmjKe8elwfW0V42qrqKqsoELpl4aE0scV6ReJpN3TK9KYeiLo7tk7ie6+TxNnV5pIu3qCXZ3dbE+/cLbv6mbt5p20tnezvb2L1vbuIa/buJoqxtZWMq4mWYexNZVMGltDdXoUUZUePfQdYVTlGF9bVcmYmgrG1FQxprqSsTWVjKmuZEzN3o+TaVXUVlVQUTH6RyNO7mbDtKuzh4eat7Js7RbWbd5JRJK0gkjv0y6I9HFEpPfJ8NadnWlCb2fLzn3//7myQkytr2VqfS0zDhnLCbMmU19XlSSlmsrdCWnvJJUkkHE1VYypqaSmqoKIJFH2RNDbmyTVnt6gd/e4yBgHtdUVjE+XfbB3ifTp6Q3aOvYk/tb2Lto6uqmpqki2R7p9+rZbbVVF0azbcDm5m+Xp2W3tLFuzJb1tZvn67bsPyaeMr0lbqCD67kF947KMn1BXxYxDxnLirMkcNqGOwybUMrW+jqnp/aHjakakhSclrc5S3tkrK8TEMdVMHFM9+J8SlolSfr+tzEUE9z25mc07OhlXW8X42qTVNq6mivFpd0JNVfYTxrp7enns2VaWrdlC05ot3L9mC09vTf6/o666gpdMn8QFrzmKE2dN5viZkzlkXM2BXDWzQTm5W0la3dLGF371KHc/PnCBuprKiuSQvXZPwhewfP12dnX1AHD4hDpOnD2Z979qDifOmsy8IydQXemziO3g5uRuJWVHRzffvGsV371nNXVVlXzuLfM45ehD2dHRTVtHchbJnsfdtHUm9zs6enaP6+rp5V2N0zlx9iGcOGsyR06sK/n+WSs9Tu5WEiKCXz/0DFf91wqe3d7OO06czqfnH0tDfW2hQzMrCCd3K3orn23lisWPcO/qzbxo2gQWvucETpzlX9WsvDm5W9Ha3t7FNbc/wQ1/eYr6uiquOudFnPuymVQegHOIzQ52Tu5WdHp7g58/8DRf/s1jPLejgwUnzeRTpx/DZJ+xYrabk7sVlUee3sYVi5ezbM0Wjp85ie+f/zJePH1iocMyO+g4uVvRWHjXKr7225UcOq6Gr77jON5+wvQDchm3WTHK62RdSfMlrZS0StIlWabPknSnpIck/V7S9JEP1crZzx9o5qu3reQtxx3JnZ84lXc2znBiNxvAoMldUiWwEDgDmAcskDSv32xfA26MiOOAK4Evj3SgVr6antrMp299mJOPOpSvv/MlySXmZjagfFruJwGrImJ1RHQCi4Cz+80zD7gzfXxXlulmw7Ju804u/OEypk0ew7XvPSFnuQAz21s+e8o0YF3GcHM6LtNfgbenj88B6iUduv/hWTlrbe/i/Tcspbs3+N55jUwa67NhzPKVT3LP1rHZv0L0J4HXSnoAeC3wNLBPgWVJF0hqktTU0jJwzQ8rb909vXz0pgdY3bKDa99zAkc1jC90SGZFJZ/k3gzMyBieDqzPnCEi1kfE30XE8cBn03Hb+i8oIq6LiMaIaGxoaNiPsK3UXbVkBb9f2cKVZ7+IU543pdDhmBWdfJL7UmCupDmSaoBzgcWZM0iaIqlvWZcC149smFZOfnTvGr7/p6d4/6vm8O6Xzyx0OGZFadDkHhHdwEXAbcAK4JaIWC7pSklnpbOdCqyU9DhwGHDVKMVrJe6PT2ziisXLef2xU/nMmS8odDhmRUsx3D9Y3E+NjY3R1NRUkNe2g9OqjW2c860/ceTEMdz64ZOpr/Mpj2b9SVoWEY2DzefzyuygsGVHJ++/YSm1VRV897xGJ3az/eTyA1Zwnd29fOhHy3hmWzs3ffAVzDhkbKFDMit6brlbQUUEl/3iYe57cjNffcdxrsNuNkKc3K2gvnPPam5pauZjr38eZ7+0/7VxZjZc7pYpMe1dPWzb1cWWnZ1s3dnF1p2dbG/vJiLoDYiA3giCpNW8ezi9h+S+qydo7+qhvauHXV09tHf1squrh47M4c6e3fO0d/cyvraKhvpaGsbXMqW+hobxdel9LQ31tUxJ7+uqKwG4/dENfPk3j/HmFx/Bx9/w/AJuNbPS4+ReJDq7e1m+fhsPNW9jw/Z2tu5KEvfWnV1s2bnn8a6unhF7TQnqqioZU1PJmOpKaqsrGFNdSV11Mjx5bPXux7XVFbS2d9PS2sHqTW3c92QHW3Z2ZV1uffolsH7bLo6bNpGvvfMlrvBoNsKc3A9Sz25r5/61W7h/zRbuX7uFR9Zvp7O7F4DKCjF5bDUTx1QzeWwN0ybV8cIjJzBpTDWTx9UwaWw1k8bUJPOMrWZCXTWVFUKCCgkB0t7DFRIIKpRMq6oQtVUVSMNPul09vTzX1klLaweb2jpoae2gJb3f1NbBi6ZN5LI3v4AxNZUjs9HMbDcn9xHyP09u5s4VGxhXW5Uk17E1SbIdmybbsdWMr63Kmiw7unt45OntPLB2Cw+s3cr9a7fwzLZ2AGqqKnjxtImcd/IsTpg5mZfOnMThE+r2K+keKNWVFRw+sY7DJ9YVOhSzsuPkvp+WPrWZb9z+OH/+23NUVYju3twXhVVVaK/EP2lsDc/t6GD509vp7Ela5dMmjaFx9iEcP2MSJ8yazLwjJrjMrZkNmZP7MC1bs4Vr7nice57YxJTxNVz25hfwnpfPoqpSbN3ZxbZdnWzZ2cWWHZ379I9v29XJlh1dNG/ZSX1dFf/4ytkcP3MyJ8ycxNQJbuWa2f5zch+iB9Zu4Rt3PMEfHm/h0HE1fObMY3nvK2YxtmbPpmyoT84KMTMrFCf3PD24bivX3PE4v1/ZwiHjarj0jGP5h5P3TupmZgcLZ6ZBPNS8lWvueILfPbaRyWOr+fT8Y3nfybMYV+tNZ2YHL2eoHB55ehvX3PE4d6zYyKSx1XzqTcdw3imzGe+kbmZFwJkqi0fXb+dtC//EuNoqPnn68znvlNmuUmhmRcXJvZ+I4Au/Wk59XRV3XPxaDh3vH0bNrPjkdQK1pPmSVkpaJemSLNNnSrpL0gOSHpJ05siHemAsefhZ7ntyM584/RgndjMrWoMmd0mVwELgDGAesEDSvH6zXUby93vHk/zH6rdGOtADob2rh39ZsoJjD69nwUn+704zK175tNxPAlZFxOqI6AQWAWf3myeACenjicD6kQvxwPmPu1fz9NZdXPHWF1LpQlZmVsTySe7TgHUZw83puEyfB94rqRlYAnw024IkXSCpSVJTS0vLMMIdPeu37uLau1dx5osP5+SjDy10OGZm+yWf5J6tCdu/gMoC4AcRMR04E/ihpH2WHRHXRURjRDQ2NDQMPdpR9JXfPEYEXHrGCwodipnZfssnuTcDMzKGp7Nvt8v7gVsAIuIvQB0wZSQCPBCWPrWZxX9dz4WvOcr/32lmJSGf5L4UmCtpjqQakh9MF/ebZy1wGoCkF5Ak94Or3yWHnt7g84uXc8TEOj506tGFDsfMbEQMmtwjohu4CLgNWEFyVsxySVdKOiud7RPAByX9FbgJOD8icte+PYj8tGkdy9dv55IzjnWdGDMrGXlls4hYQvJDaea4yzMePwq8cmRDG33b27v46m0raZw1mbNecmShwzEzGzFl3VT9f3c+weadnfzgrScVxT8bmZnlq2z/4udvLW18/09P8a4TZ/Di6RMLHY6Z2Ygq2+T+pV8/ypjqSj75pmMKHYqZ2Ygry+R+12MbuWtlCx87ba7/McnMSlLZJffO7l6++OtHOWrKOM47ZXahwzEzGxVll9xv/MtTrN60g8+9ZR41VWW3+mZWJsoqu7W0dvBvdzzBqcc08LpjpxY6HDOzUVNWyf3rv13Jrq4eLntz/4rFZmalpWyS+8PN27i5aR3nnzKb500dX+hwzMxGVVkk976/zjtkbA0fPW1uocMxMxt1ZZHcf/XQMzSt2cKn3nQME8f4j67NrPSVRXK/4c9P8fzDxvPOxhmDz2xmVgLKIrk/u62dFx050X+dZ2Zlo+STe0TQ0tbBFF+JamZlpOSTe2tHN53dvTSMd3I3s/JR8sm9pbUDgCn1NQWOxMzswMkruUuaL2mlpFWSLsky/RuSHkxvj0vaOvKhDs+mvuTulruZlZFB/6xDUiWwEHgjyZ9lL5W0OP33JQAi4v9kzP9R4PhRiHVYNrV1Arj6o5mVlXxa7icBqyJidUR0AouAsweYfwHJ/6geFFpa2wG33M2svOST3KcB6zKGm9Nx+5A0C5gD/C7H9AskNUlqamlpGWqsw7KprZMKweSx7nM3s/KRT3LPdnJ45Jj3XODWiOjJNjEirouIxohobGhoyDfG/bKprYNDxtX6HHczKyv5JPdmIPPSzunA+hzznstB1CUDSXJ3f7uZlZt8kvtSYK6kOZJqSBL44v4zSToGmAz8ZWRD3D8trR1MGe8uGTMrL4Mm94joBi4CbgNWALdExHJJV0o6K2PWBcCiiMjVZVMQm9o6fQGTmZWdQU+FBIiIJcCSfuMu7zf8+ZELa2S49ICZlauSvkLVpQfMrFyVdHJ36QEzK1clndxdesDMylVpJ3eXHjCzMlXSyd2lB8ysXJV0cnfpATMrVyWe3F16wMzKU8knd/e3m1k5Kunk7tIDZlauSjq5u/SAmZWrkk3ufaUH3C1jZuWoZJP79vak9IBPgzSzclSyyX1Tm0sPmFn5Kt3k7tIDZlbGSje5u/SAmZWxkk3uLj1gZuUsr+Quab6klZJWSbokxzzvkvSopOWSfjKyYQ6dSw+YWTkb9J+YJFUCC4E3kvxZ9lJJiyPi0Yx55gKXAq+MiC2Spo5WwPly6QEzK2f5tNxPAlZFxOqI6AQWAWf3m+eDwMKI2AIQERtHNsyha2n1Oe5mVr7ySe7TgHUZw83puEzPB54v6U+S7pU0P9uCJF0gqUlSU0tLy/AiztOmNpceMLPylU9yz9avEf2Gq4C5wKnAAuC7kibt86SI6yKiMSIaGxoahhrrkLj0gJmVs3ySezMwI2N4OrA+yzy/jIiuiHgSWEmS7AvCpQfMrNzlk9yXAnMlzZFUA5wLLO43zy+A1wFImkLSTbN6JAMdCpceMLNyN2hyj4hu4CLgNmAFcEtELJd0paSz0tluA56T9ChwF/CpiHhutIIejEsPmFm5G/RUSICIWAIs6Tfu8ozHAVyc3grOpQfMrNyV5BWqLj1gZuWuJJO7Sw+YWbkryeTu0gNmVu5KNLl3cOh4lx4ws/JVksk9+WNsd8mYWfkqyeTu0gNmVu5KNLm79ICZlbeSS+4uPWBmVoLJ3aUHzMxKMLm79ICZWSkmd5ceMDMrveTekrbc3eduZuWs5JK7W+5mZqWY3F16wMysFJO7Sw+YmZVccnfpATOzPJO7pPmSVkpaJemSLNPPl9Qi6cH09oGRDzU/Lj1gZpbHPzFJqgQWAm8k+SPspZIWR8Sj/Wa9OSIuGoUYh2RTWydHN4wvdBhmZgWVT8v9JGBVRKyOiE5gEXD26IY1PBFBS6tLD5iZ5ZPcpwHrMoab03H9vV3SQ5JulTQj24IkXSCpSVJTS0vLMMId2Pb2bjp7XHrAzCyf5J7ttJPoN/wrYHZEHAfcAdyQbUERcV1ENEZEY0NDw9AizYNLD5iZJfJJ7s1AZkt8OrA+c4aIeC4iOtLB7wAnjkx4Q9N3AVPD+LpCvLyZ2UEjn+S+FJgraY6kGuBcYHHmDJKOyBg8C1gxciHmr8UtdzMzII+zZSKiW9JFwG1AJXB9RCyXdCXQFBGLgY9JOgvoBjYD549izDm59ICZWWLQ5A4QEUuAJf3GXZ7x+FLg0pENbehcesDMLFFSV6i69ICZWaKkkrtLD5iZJUoqubv0gJlZosSSeycNbrmbmZVOcnfpATOzPUomubv0gJnZHiWT3F16wMxsj9JJ7i49YGa2W8kkd5ceMDPbo2SSu0sPmJntUTrJ3aUHzMx2K5nk3tLq0gNmZn1KJrknV6e6S8bMDEouubtLxswMSiq5d/rqVDOzVEkk992lB9wtY2YG5JncJc2XtFLSKkmXDDDfOySFpMaRC3FwLj1gZra3QZO7pEpgIXAGMA9YIGlelvnqgY8B9410kINx6QEzs73l03I/CVgVEasjohNYBJydZb4vAlcD7SMYX15cesDMbG/5JPdpwLqM4eZ03G6SjgdmRMSvB1qQpAskNUlqamlpGXKwubj0gJnZ3vJJ7tmuCordE6UK4BvAJwZbUERcFxGNEdHY0NCQf5SDcOkBM7O95ZPcm4EZGcPTgfUZw/XAi4DfS3rhvxyFAAAHtElEQVQKeAWw+ED+qOrSA2Zme8snuS8F5kqaI6kGOBdY3DcxIrZFxJSImB0Rs4F7gbMiomlUIs7CpQfMzPY2aHKPiG7gIuA2YAVwS0Qsl3SlpLNGO8B8uPSAmdneqvKZKSKWAEv6jbs8x7yn7n9YQ+PSA2ZmeyuJK1RdesDMbG9Fn9xdesDMbF9Fn9xdesDMbF9Fn9xdesDMbF9Fn9xbXHrAzGwfRZ/c3XI3M9tX8Sd3lx4wM9tH8Sf3tk4qK+TSA2ZmGYo+ube0dnDIuBqXHjAzy1D0yd2lB8zM9lUiyd1dMmZmmYo+ube0drj0gJlZP0Wd3CMiqSvjbhkzs70UdXJ36QEzs+yKOrn7AiYzs+yKOrm79ICZWXZ5JXdJ8yWtlLRK0iVZpn9I0sOSHpT0R0nzRj7UfbnlbmaW3aDJXVIlsBA4A5gHLMiSvH8SES+OiJcCVwP/OuKRZuHSA2Zm2eXTcj8JWBURqyOiE1gEnJ05Q0RszxgcB8TIhZibSw+YmWWXz3+oTgPWZQw3Ay/vP5OkjwAXAzXA67MtSNIFwAUAM2fOHGqs+3DpATOz7PJpuWfLnPu0zCNiYUQcDXwauCzbgiLiuohojIjGhoaGoUWahUsPmJlll09ybwZmZAxPB9YPMP8i4G37E1S+XHrAzCy7fJL7UmCupDmSaoBzgcWZM0iamzH4ZuCJkQsxN5ceMDPLbtA+94jolnQRcBtQCVwfEcslXQk0RcRi4CJJbwC6gC3AeaMZdBqXSw+YmeWQzw+qRMQSYEm/cZdnPP6nEY5rUC49YGaWW9Feodp3AZO7ZczM9lW0yb3FFzCZmeVUtMndpQfMzHIr3uTulruZWU5Fm9xb2jpcesDMLIeiTe6bWjtdesDMLIfiTe4uPWBmllORJ3d3yZiZZVO0yd2lB8zMcivK5O7SA2ZmAyvK5O7SA2ZmAyvK5O7SA2ZmAyvK5O7SA2ZmAyvK5O7SA2ZmAyvO5O6Wu5nZgPJK7pLmS1opaZWkS7JMv1jSo5IeknSnpFkjH+oeLj1gZjawQZO7pEpgIXAGMA9YIGlev9keABoj4jjgVuDqkQ40k0sPmJkNLJ+W+0nAqohYHRGdJH+AfXbmDBFxV0TsTAfvJfkT7VHj0gNmZgPLJ7lPA9ZlDDen43J5P/Cb/QlqMJvafHWqmdlA8vkP1Wx9H5F1Rum9QCPw2hzTLwAuAJg5c2aeIe6rpbWDo6eOH/bzzcxKXT4t92ZgRsbwdGB9/5kkvQH4LHBWRHRkW1BEXBcRjRHR2NDQMJx4XXrAzCwP+ST3pcBcSXMk1QDnAoszZ5B0PPAfJIl948iHuYdLD5iZDW7Q5B4R3cBFwG3ACuCWiFgu6UpJZ6WzfRUYD/xU0oOSFudY3H7ruzrVfe5mZrnl0+dORCwBlvQbd3nG4zeMcFw57b461S13M7Ociu4KVZceMDMbXPEld5ceMDMbVNEl9yMnjeH0eYe59ICZ2QDy6nM/mJz+wsM5/YWHFzoMM7ODWtG13M3MbHBO7mZmJcjJ3cysBDm5m5mVICd3M7MS5ORuZlaCnNzNzEqQk7uZWQlSRNb/3Rj9F5ZagDXDfPoUYNMIhlNsynn9y3ndobzX3+uemBURg/4hRsGS+/6Q1BQRjYWOo1DKef3Led2hvNff6z60dXe3jJlZCXJyNzMrQcWa3K8rdAAFVs7rX87rDuW9/l73ISjKPnczMxtYsbbczcxsAE7uZmYlqOiSu6T5klZKWiXpkkLHcyBJekrSw5IelNRU6HhGm6TrJW2U9EjGuEMk3S7pifR+ciFjHC051v3zkp5O3/8HJZ1ZyBhHi6QZku6StELSckn/lI4vl/c+1/oP6f0vqj53SZXA48AbgWZgKbAgIh4taGAHiKSngMaIKIsLOSS9BmgDboyIF6XjrgY2R8RX0i/3yRHx6ULGORpyrPvngbaI+FohYxttko4AjoiI+yXVA8uAtwHnUx7vfa71fxdDeP+LreV+ErAqIlZHRCewCDi7wDHZKImIPwCb+40+G7ghfXwDyYe+5ORY97IQEc9ExP3p41ZgBTCN8nnvc63/kBRbcp8GrMsYbmYYK13EAvitpGWSLih0MAVyWEQ8A8lOAEwtcDwH2kWSHkq7bUqyWyKTpNnA8cB9lOF732/9YQjvf7Eld2UZVzz9SvvvlRFxAnAG8JH00N3Kx7XA0cBLgWeArxc2nNElaTzwM+DjEbG90PEcaFnWf0jvf7El92ZgRsbwdGB9gWI54CJifXq/Efg5STdVudmQ9kn29U1uLHA8B0xEbIiInojoBb5DCb//kqpJEtuPI+I/09Fl895nW/+hvv/FltyXAnMlzZFUA5wLLC5wTAeEpHHpjytIGgecDjwy8LNK0mLgvPTxecAvCxjLAdWX2FLnUKLvvyQB3wNWRMS/Zkwqi/c+1/oP9f0vqrNlANLTf64BKoHrI+KqAod0QEg6iqS1DlAF/KTU113STcCpJOVONwBXAL8AbgFmAmuBd0ZEyf3wmGPdTyU5JA/gKeDCvj7oUiLpVcA9wMNAbzr6MyT9zuXw3uda/wUM4f0vuuRuZmaDK7ZuGTMzy4OTu5lZCXJyNzMrQU7uZmYlyMndzKwEObmbmZUgJ3czsxL0/wH7Oqz2xUvoTQAAAABJRU5ErkJggg==\n",
>>>>>>> 7cf32bee4afc234a7ba6cfbd7c29059acda74c62
      "text/plain": [
       "<Figure size 432x288 with 1 Axes>"
      ]
     },
     "metadata": {
      "needs_background": "light"
     },
     "output_type": "display_data"
    }
   ],
   "source": [
    "plt.plot(test_accuracies)\n",
    "plt.title(\"Test set accuracy, multi-Layer NN with ReLU activation\")"
   ]
  },
  {
   "cell_type": "code",
   "execution_count": 19,
   "metadata": {},
   "outputs": [
    {
     "data": {
      "text/plain": [
<<<<<<< HEAD
       "Text(0.5, 1.0, 'Learning rate evolution')"
=======
       "Text(0.5,1,'Learning rate evolution')"
>>>>>>> 7cf32bee4afc234a7ba6cfbd7c29059acda74c62
      ]
     },
     "execution_count": 19,
     "metadata": {},
     "output_type": "execute_result"
    },
    {
     "data": {
<<<<<<< HEAD
      "image/png": "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\n",
=======
      "image/png": "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\n",
>>>>>>> 7cf32bee4afc234a7ba6cfbd7c29059acda74c62
      "text/plain": [
       "<Figure size 432x288 with 1 Axes>"
      ]
     },
     "metadata": {
      "needs_background": "light"
     },
     "output_type": "display_data"
    }
   ],
   "source": [
    "plt.plot(learning_rates)\n",
    "plt.title(\"Learning rate evolution\")"
   ]
  },
  {
   "cell_type": "markdown",
   "metadata": {},
   "source": [
    "---\n",
    "# 4. Overfitting and Dropout\n",
    "<img src=\"figs/13-comic5.png\" style=\"width: 500px;\"/>\n",
    "You will have noticed that cross-entropy curves for test and training data start disconnecting after a couple thousand iterations. The learning algorithm works on training data only and optimises the training cross-entropy accordingly. It never sees test data so it is not surprising that after a while its work no longer has an effect on the test cross-entropy which stops dropping and sometimes even bounces back up. \n",
    "<img src=\"figs/14-overfit.png\" style=\"width: 500px;\"/>\n",
    "This disconnect is usually labeled **overfitting** and when you see it, you can try to apply a regularisation technique called **dropout**. In dropout, at each training iteration, you drop random neurons from the network. You choose a probability `pkeep` for a neuron to be kept, usually between 50% and 75%, and then at each iteration of the training loop, you randomly remove neurons with all their weights and biases. Different neurons will be dropped at each iteration. When testing the performance of your network of course you put all the neurons back (`pkeep = 1`).\n",
    "<img src=\"figs/15-dropout.png\" style=\"width: 500px;\"/>\n",
    "TensorFlow offers a dropout function to be used on the outputs of a layer of neurons. It randomly zeroes-out some of the outputs and boosts the remaining ones by `1 / pkeep`. You can add dropout after each intermediate layer in the network now. \n",
    "\n",
    "In the following code, use the dropout between each layer during the training, and set the probability `pkeep` once to $50%$ and another time to $75%$ and compare their results."
   ]
  },
  {
   "cell_type": "code",
<<<<<<< HEAD
   "execution_count": null,
=======
   "execution_count": 35,
>>>>>>> 7cf32bee4afc234a7ba6cfbd7c29059acda74c62
   "metadata": {},
   "outputs": [
    {
     "name": "stdout",
     "output_type": "stream",
     "text": [
      "####################################################################\n",
      "\n",
      "DROPOUT APPLIED: 0.5\n",
      "\n",
<<<<<<< HEAD
      "Train set loss for update step 0: 234.12611389160156\n",
      "Test set accuracy for update step 0:  7.39%\n",
      "Train set loss for update step 200: 224.8258056640625\n",
      "Test set accuracy for update step 200:  42.98%\n",
      "Train set loss for update step 400: 216.25123596191406\n",
      "Test set accuracy for update step 400:  48.23%\n",
      "Train set loss for update step 600: 211.53802490234375\n",
      "Test set accuracy for update step 600:  42.4%\n",
      "Train set loss for update step 800: 204.3121337890625\n",
      "Test set accuracy for update step 800:  51.0%\n",
      "Train set loss for update step 1000: 200.28135681152344\n",
      "Test set accuracy for update step 1000:  57.49%\n",
      "Train set loss for update step 1200: 197.32460021972656\n",
      "Test set accuracy for update step 1200:  58.23%\n",
      "Train set loss for update step 1400: 195.1085968017578\n",
      "Test set accuracy for update step 1400:  58.2%\n",
      "Train set loss for update step 1600: 193.74620056152344\n",
      "Test set accuracy for update step 1600:  59.08%\n",
      "Train set loss for update step 1800: 193.07901000976562\n",
      "Test set accuracy for update step 1800:  58.25%\n",
      "Train set loss for update step 2000: 191.21043395996094\n",
      "Test set accuracy for update step 2000:  59.89%\n",
      "Train set loss for update step 2200: 190.5458526611328\n",
      "Test set accuracy for update step 2200:  62.36%\n",
      "Train set loss for update step 2400: 189.69041442871094\n",
      "Test set accuracy for update step 2400:  62.22%\n",
      "Train set loss for update step 2600: 188.5999755859375\n",
      "Test set accuracy for update step 2600:  64.6%\n",
      "Train set loss for update step 2800: 187.54428100585938\n",
      "Test set accuracy for update step 2800:  65.94%\n",
      "Train set loss for update step 3000: 187.49575805664062\n",
      "Test set accuracy for update step 3000:  65.97%\n",
      "Train set loss for update step 3200: 186.55348205566406\n",
      "Test set accuracy for update step 3200:  66.51%\n",
      "Train set loss for update step 3400: 185.67935180664062\n",
      "Test set accuracy for update step 3400:  67.33%\n",
      "Train set loss for update step 3600: 185.1078338623047\n",
      "Test set accuracy for update step 3600:  67.28%\n",
      "Train set loss for update step 3800: 184.58079528808594\n",
      "Test set accuracy for update step 3800:  67.34%\n",
      "Train set loss for update step 4000: 184.48548889160156\n",
      "Test set accuracy for update step 4000:  67.32%\n",
      "Train set loss for update step 4200: 183.89134216308594\n",
      "Test set accuracy for update step 4200:  67.42%\n",
      "Train set loss for update step 4400: 183.52340698242188\n",
      "Test set accuracy for update step 4400:  67.63%\n",
      "Train set loss for update step 4600: 183.0250244140625\n",
      "Test set accuracy for update step 4600:  68.63%\n",
      "Train set loss for update step 4800: 182.6267547607422\n",
      "Test set accuracy for update step 4800:  68.89%\n",
      "--------------------------------\n",
      "\n",
      "Final test set accuracy: 69.72%\n",
=======
      "Train set loss for update step 0: 234.4036865234375\n",
      "Test set accuracy for update step 0:  10.83%\n",
      "Train set loss for update step 200: 228.41177368164062\n",
      "Test set accuracy for update step 200:  19.51%\n",
      "Train set loss for update step 400: 217.26731872558594\n",
      "Test set accuracy for update step 400:  35.95%\n",
      "Train set loss for update step 600: 213.75253295898438\n",
      "Test set accuracy for update step 600:  39.33%\n",
      "Train set loss for update step 800: 211.4066619873047\n",
      "Test set accuracy for update step 800:  39.47%\n",
      "Train set loss for update step 1000: 210.9558868408203\n",
      "Test set accuracy for update step 1000:  39.39%\n",
      "Train set loss for update step 1200: 208.97064208984375\n",
      "Test set accuracy for update step 1200:  40.14%\n",
      "Train set loss for update step 1400: 208.74049377441406\n",
      "Test set accuracy for update step 1400:  42.0%\n",
      "Train set loss for update step 1600: 206.90548706054688\n",
      "Test set accuracy for update step 1600:  42.75%\n",
      "Train set loss for update step 1800: 205.56954956054688\n",
      "Test set accuracy for update step 1800:  46.64%\n",
      "Train set loss for update step 2000: 204.73956298828125\n",
      "Test set accuracy for update step 2000:  48.4%\n",
      "Train set loss for update step 2200: 203.4536895751953\n",
      "Test set accuracy for update step 2200:  47.66%\n",
      "Train set loss for update step 2400: 201.37057495117188\n",
      "Test set accuracy for update step 2400:  51.19%\n",
      "Train set loss for update step 2600: 201.64718627929688\n",
      "Test set accuracy for update step 2600:  52.56%\n",
      "Train set loss for update step 2800: 199.19146728515625\n",
      "Test set accuracy for update step 2800:  52.94%\n",
      "Train set loss for update step 3000: 198.0706024169922\n",
      "Test set accuracy for update step 3000:  55.03%\n",
      "Train set loss for update step 3200: 197.0457763671875\n",
      "Test set accuracy for update step 3200:  55.13%\n",
      "Train set loss for update step 3400: 196.0089874267578\n",
      "Test set accuracy for update step 3400:  55.86%\n",
      "Train set loss for update step 3600: 195.3558807373047\n",
      "Test set accuracy for update step 3600:  56.62%\n",
      "Train set loss for update step 3800: 195.1267852783203\n",
      "Test set accuracy for update step 3800:  56.76%\n",
      "Train set loss for update step 4000: 194.8866424560547\n",
      "Test set accuracy for update step 4000:  57.16%\n",
      "Train set loss for update step 4200: 194.43402099609375\n",
      "Test set accuracy for update step 4200:  56.82%\n",
      "Train set loss for update step 4400: 194.0720977783203\n",
      "Test set accuracy for update step 4400:  57.35%\n",
      "Train set loss for update step 4600: 193.53443908691406\n",
      "Test set accuracy for update step 4600:  57.13%\n",
      "Train set loss for update step 4800: 193.46731567382812\n",
      "Test set accuracy for update step 4800:  57.29%\n",
      "--------------------------------\n",
      "\n",
      "Final test set accuracy: 57.26%\n",
>>>>>>> 7cf32bee4afc234a7ba6cfbd7c29059acda74c62
      "####################################################################\n",
      "\n",
      "####################################################################\n",
      "\n",
      "DROPOUT APPLIED: 0.75\n",
      "\n",
<<<<<<< HEAD
      "Train set loss for update step 0: 232.0356903076172\n",
      "Test set accuracy for update step 0:  14.73%\n",
      "Train set loss for update step 200: 176.25282287597656\n",
      "Test set accuracy for update step 200:  73.67%\n",
      "Train set loss for update step 400: 173.242919921875\n",
      "Test set accuracy for update step 400:  75.48%\n",
      "Train set loss for update step 600: 171.20751953125\n",
      "Test set accuracy for update step 600:  77.25%\n",
      "Train set loss for update step 800: 165.54263305664062\n",
      "Test set accuracy for update step 800:  85.44%\n",
      "Train set loss for update step 1000: 160.2613983154297\n",
      "Test set accuracy for update step 1000:  90.21%\n",
      "Train set loss for update step 1200: 158.38084411621094\n",
      "Test set accuracy for update step 1200:  90.95%\n",
      "Train set loss for update step 1400: 158.78741455078125\n",
      "Test set accuracy for update step 1400:  90.5%\n",
      "Train set loss for update step 1600: 157.3679656982422\n",
      "Test set accuracy for update step 1600:  91.52%\n",
      "Train set loss for update step 1800: 155.54953002929688\n",
      "Test set accuracy for update step 1800:  92.91%\n",
      "Train set loss for update step 2000: 155.87644958496094\n",
      "Test set accuracy for update step 2000:  92.39%\n",
      "Train set loss for update step 2200: 155.87547302246094\n",
      "Test set accuracy for update step 2200:  92.49%\n",
      "Train set loss for update step 2400: 155.4241180419922\n",
      "Test set accuracy for update step 2400:  93.0%\n",
      "Train set loss for update step 2600: 154.825439453125\n",
      "Test set accuracy for update step 2600:  93.36%\n",
      "Train set loss for update step 2800: 154.12091064453125\n",
      "Test set accuracy for update step 2800:  93.67%\n",
      "Train set loss for update step 3000: 154.4334716796875\n",
      "Test set accuracy for update step 3000:  93.61%\n",
      "Train set loss for update step 3200: 153.6511993408203\n",
      "Test set accuracy for update step 3200:  93.96%\n",
      "Train set loss for update step 3400: 153.4400634765625\n",
      "Test set accuracy for update step 3400:  94.1%\n",
      "Train set loss for update step 3600: 153.113525390625\n",
      "Test set accuracy for update step 3600:  94.33%\n",
      "Train set loss for update step 3800: 153.30706787109375\n",
      "Test set accuracy for update step 3800:  94.2%\n",
      "Train set loss for update step 4000: 153.06019592285156\n"
=======
      "Train set loss for update step 0: 231.99656677246094\n",
      "Test set accuracy for update step 0:  9.21%\n",
      "Train set loss for update step 200: 176.61419677734375\n",
      "Test set accuracy for update step 200:  77.28%\n",
      "Train set loss for update step 400: 170.80909729003906\n",
      "Test set accuracy for update step 400:  79.53%\n",
      "Train set loss for update step 600: 166.47108459472656\n",
      "Test set accuracy for update step 600:  82.75%\n",
      "Train set loss for update step 800: 166.54043579101562\n",
      "Test set accuracy for update step 800:  82.53%\n",
      "Train set loss for update step 1000: 167.37420654296875\n",
      "Test set accuracy for update step 1000:  80.83%\n",
      "Train set loss for update step 1200: 164.81991577148438\n",
      "Test set accuracy for update step 1200:  83.75%\n",
      "Train set loss for update step 1400: 164.90016174316406\n",
      "Test set accuracy for update step 1400:  83.29%\n",
      "Train set loss for update step 1600: 164.62796020507812\n",
      "Test set accuracy for update step 1600:  83.63%\n",
      "Train set loss for update step 1800: 163.75323486328125\n",
      "Test set accuracy for update step 1800:  84.4%\n",
      "Train set loss for update step 2000: 157.91976928710938\n",
      "Test set accuracy for update step 2000:  91.6%\n",
      "Train set loss for update step 2200: 156.04244995117188\n",
      "Test set accuracy for update step 2200:  93.15%\n",
      "Train set loss for update step 2400: 155.37155151367188\n",
      "Test set accuracy for update step 2400:  93.29%\n",
      "Train set loss for update step 2600: 154.62757873535156\n",
      "Test set accuracy for update step 2600:  93.86%\n",
      "Train set loss for update step 2800: 153.91297912597656\n",
      "Test set accuracy for update step 2800:  94.31%\n",
      "Train set loss for update step 3000: 153.3419647216797\n",
      "Test set accuracy for update step 3000:  94.51%\n",
      "Train set loss for update step 3200: 153.3079071044922\n",
      "Test set accuracy for update step 3200:  94.3%\n",
      "Train set loss for update step 3400: 153.33712768554688\n",
      "Test set accuracy for update step 3400:  94.45%\n",
      "Train set loss for update step 3600: 152.99331665039062\n",
      "Test set accuracy for update step 3600:  94.67%\n",
      "Train set loss for update step 3800: 152.7341766357422\n",
      "Test set accuracy for update step 3800:  94.73%\n",
      "Train set loss for update step 4000: 152.58731079101562\n",
      "Test set accuracy for update step 4000:  95.02%\n",
      "Train set loss for update step 4200: 152.61671447753906\n",
      "Test set accuracy for update step 4200:  94.85%\n",
      "Train set loss for update step 4400: 152.4591827392578\n",
      "Test set accuracy for update step 4400:  95.08%\n",
      "Train set loss for update step 4600: 152.27732849121094\n",
      "Test set accuracy for update step 4600:  94.96%\n",
      "Train set loss for update step 4800: 152.1244354248047\n",
      "Test set accuracy for update step 4800:  95.15%\n",
      "--------------------------------\n",
      "\n",
      "Final test set accuracy: 95.06%\n",
      "####################################################################\n",
      "\n"
>>>>>>> 7cf32bee4afc234a7ba6cfbd7c29059acda74c62
     ]
    }
   ],
   "source": [
    "# TODO: Replace <FILL IN> with appropriate code\n",
    "\n",
    "# neural network with 5 layers\n",
    "#\n",
    "# · · · · · · · · · ·          (input data, flattened pixels)       X [batch, 784]   \n",
    "# \\x/x\\x/x\\x/x\\x/x\\x/       -- fully connected layer (sigmoid)      W1 [784, 200]      B1[200]\n",
    "#  · · · · · · · · ·                                                Y1_hat [batch, 200]\n",
    "#   \\x/x\\x/x\\x/x\\x/         -- fully connected layer (sigmoid)      W2 [200, 100]      B2[100]\n",
    "#    · · · · · · ·                                                  Y2_hat [batch, 100]\n",
    "#     \\x/x\\x/x\\x/           -- fully connected layer (sigmoid)      W3 [100, 60]       B3[60]\n",
    "#      · · · · ·                                                    Y3_hat [batch, 60]\n",
    "#       \\x/x\\x/             -- fully connected layer (sigmoid)      W4 [60, 30]        B4[30]\n",
    "#        · · ·                                                      Y4_hat [batch, 30]\n",
    "#         \\x/               -- fully connected layer (softmax)      W5 [30, 10]        B5[10]\n",
    "#          ·                                                        Y_hat [batch, 10]\n",
    "\n",
    "# to reset the Tensorflow default graph\n",
    "reset_graph()\n",
    "\n",
    "########################################\n",
    "# define variables and placeholders\n",
    "########################################\n",
    "X = tf.placeholder(tf.float32, [None, 28, 28, 1], name=\"input\")\n",
    "Y = tf.placeholder(tf.float32, shape=(None, 10), name=\"labels\")\n",
    "\n",
    "# variable learning rate\n",
    "learning_rate = tf.placeholder(tf.float32, shape=[])\n",
    "\n",
    "# probability of keeping a node during dropout = 1.0 at test time (no dropout) and 0.75 at training time\n",
    "pkeep = tf.placeholder(tf.float32, shape=[])\n",
    "\n",
    "bias_initializer= tf.constant_initializer(value=0.1)\n",
    "# five layers and their number of neurons, i.e., 200, 100, 60, 30, and 10\n",
    "# when using RELUs, make sure biases are initialised with small positive values, for example 0.1\n",
    "W1 = tf.Variable(tf.truncated_normal([784, 200], stddev=0.2), name=\"weigths1\")\n",
    "B1 = tf.get_variable(\"bias1\", shape=[200], initializer=bias_initializer)\n",
    "\n",
    "W2 = tf.Variable(tf.truncated_normal([200, 100], stddev=0.2), name=\"weigths2\")\n",
    "B2 = tf.get_variable(\"bias2\", shape=[100], initializer=bias_initializer)\n",
    "\n",
    "W3 = tf.Variable(tf.truncated_normal([100, 60], stddev=0.2), name=\"weigths3\")\n",
    "B3 = tf.get_variable(\"bias3\", shape=[60], initializer=bias_initializer)\n",
    "\n",
    "W4 = tf.Variable(tf.truncated_normal([60, 30], stddev=0.2), name=\"weigths4\")\n",
    "B4 = tf.get_variable(\"bias4\", shape=[30], initializer=bias_initializer)\n",
    "\n",
    "W5 = tf.Variable(tf.truncated_normal([30, 10], stddev=0.2), name=\"weigths5\")\n",
    "B5 = tf.get_variable(\"bias5\", shape=[10], initializer=bias_initializer)\n",
    "\n",
    "########################################\n",
    "# build the model\n",
    "########################################\n",
    "XX = tf.reshape(X, [-1, 784], name=\"input_flattened\")\n",
    "\n",
    "Y1_hat = tf.nn.relu(tf.add(tf.matmul(XX, W1), B1), name=\"out1\")\n",
    "Y1_hat_dropout = tf.nn.dropout(Y1_hat, keep_prob=pkeep, name=\"dropout1\")\n",
    "Y2_hat_dropout = tf.nn.dropout(tf.nn.relu(tf.add(tf.matmul(Y1_hat_dropout, W2), B2)), keep_prob=pkeep, name=\"dropout2\")\n",
    "Y3_hat_dropout = tf.nn.dropout(tf.nn.relu(tf.add(tf.matmul(Y2_hat_dropout, W3), B3)), keep_prob=pkeep, name=\"dropout3\")\n",
    "Y4_hat_dropout = tf.nn.dropout(tf.nn.relu(tf.add(tf.matmul(Y3_hat_dropout, W4), B4)), keep_prob=pkeep, name=\"dropout4\")\n",
    "Y_hat = tf.nn.softmax(tf.add(tf.matmul(Y4_hat_dropout, W5), B5), name=\"dropout5\")\n",
    "\n",
    "########################################\n",
    "# define the cost function\n",
    "########################################\n",
    "cross_entropy = tf.losses.softmax_cross_entropy(onehot_labels=Y, logits=Y_hat)\n",
    "cross_entropy = tf.reduce_mean(cross_entropy) * 100\n",
    "\n",
    "########################################\n",
    "# define the optimizer\n",
    "########################################\n",
    "optimizer = tf.train.AdamOptimizer(learning_rate)\n",
    "train_step = optimizer.minimize(cross_entropy)\n",
    "\n",
    "########################################\n",
    "# execute the model\n",
    "########################################\n",
    "init = tf.global_variables_initializer()\n",
    "\n",
    "max_learning_rate = 0.005\n",
    "min_learning_rate = 0.0001\n",
    "decay_speed = 2000.0\n",
    "\n",
    "train_losses = {'0.5': [], '0.75': []}\n",
    "test_accuracies = {'0.5': [], '0.75': []}\n",
    "\n",
    "predictions = tf.equal(tf.argmax(Y_hat, 1), tf.argmax(Y, 1))\n",
    "accuracy = tf.reduce_mean(tf.cast(predictions, tf.float32))\n",
    "\n",
    "X_train_temp, Y_train = mnist.train.images, mnist.train.labels\n",
    "X_train = np.reshape(X_train_temp, (-1, 28, 28, 1))\n",
    "\n",
    "X_test_temp, Y_test = mnist.test.images, mnist.test.labels\n",
    "X_test = np.reshape(X_test_temp, (-1, 28, 28, 1))\n",
    "    \n",
    "# checks if learning rate has reached its minimum value\n",
    "flag = False\n",
    "\n",
    "new_learning_rate = max_learning_rate\n",
    "for dropout_amount in [0.5, 0.75]:\n",
    "    print('####################################################################')\n",
    "    print()\n",
    "    print(f\"DROPOUT APPLIED: {dropout_amount}\")\n",
    "    print()\n",
    "    with tf.Session() as sess:\n",
    "        sess.run(init)\n",
    "\n",
    "        for i in range(n_epochs):\n",
    "\n",
    "            X_batch_temp, Y_batch = mnist.train.next_batch(100)\n",
    "            X_batch = np.reshape(X_batch_temp, (-1, 28, 28, 1))\n",
    "\n",
    "            if not flag:\n",
    "                new_learning_rate = min_learning_rate + (max_learning_rate - min_learning_rate) * np.exp(-i / 2000)\n",
    "                if new_learning_rate < min_learning_rate:\n",
    "                    flag = True\n",
    "                    new_learning_rate = min_learning_rate\n",
    "            learning_rates.append(new_learning_rate)\n",
    "\n",
    "            sess.run(train_step, feed_dict={X: X_batch, Y: Y_batch, learning_rate: new_learning_rate, pkeep: dropout_amount})\n",
    "\n",
    "            if i % 200 == 0:\n",
    "                train_loss = sess.run(cross_entropy, feed_dict={X: X_train, Y: Y_train, learning_rate: new_learning_rate, pkeep: dropout_amount})\n",
    "                print(f'Train set loss for update step {i}: {train_loss}')\n",
    "                train_losses[str(dropout_amount)].append(train_loss)\n",
    "                test_accuracy = sess.run(accuracy, feed_dict={X: X_test, Y: Y_test, learning_rate: new_learning_rate, pkeep: 1.0})\n",
    "                print(f'Test set accuracy for update step {i}:  {round(test_accuracy*100, 2)}%')\n",
    "                test_accuracies[str(dropout_amount)].append(test_accuracy)\n",
    "\n",
    "        test_set_accuracy = sess.run(accuracy, feed_dict={X: X_test, Y: Y_test, learning_rate: new_learning_rate, pkeep: 1.0})\n",
    "\n",
    "        print('--------------------------------')\n",
    "        print()\n",
    "        print(f'Final test set accuracy: {round(test_set_accuracy*100, 2)}%') \n",
    "        \n",
    "        print('####################################################################')\n",
    "        print()\n",
    "\n"
   ]
  },
  {
   "cell_type": "markdown",
   "metadata": {},
   "source": [
    "Learning stats for $dropout=0.5$"
   ]
  },
  {
   "cell_type": "code",
   "execution_count": 36,
   "metadata": {},
   "outputs": [
    {
     "data": {
      "text/plain": [
       "Text(0.5,1,'Train set cross entropy loss evolution with dropout=0.5')"
      ]
     },
     "execution_count": 36,
     "metadata": {},
     "output_type": "execute_result"
    },
    {
     "data": {
      "image/png": "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\n",
      "text/plain": [
       "<Figure size 432x288 with 1 Axes>"
      ]
     },
     "metadata": {
      "needs_background": "light"
     },
     "output_type": "display_data"
    }
   ],
   "source": [
    "plt.plot(train_losses['0.5'])\n",
    "plt.title('Train set cross entropy loss evolution with dropout=0.5')"
   ]
  },
  {
   "cell_type": "code",
   "execution_count": 37,
   "metadata": {},
   "outputs": [
    {
     "data": {
      "text/plain": [
       "Text(0.5,1,'Test set accuracy evolution with dropout=0.5')"
      ]
     },
     "execution_count": 37,
     "metadata": {},
     "output_type": "execute_result"
    },
    {
     "data": {
      "image/png": "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\n",
      "text/plain": [
       "<Figure size 432x288 with 1 Axes>"
      ]
     },
     "metadata": {
      "needs_background": "light"
     },
     "output_type": "display_data"
    }
   ],
   "source": [
    "plt.plot(test_accuracies['0.5'])\n",
    "plt.title('Test set accuracy evolution with dropout=0.5')"
   ]
  },
  {
   "cell_type": "markdown",
   "metadata": {},
   "source": [
    "Learning stats for $dropout=0.75$"
   ]
  },
  {
   "cell_type": "code",
   "execution_count": 38,
   "metadata": {},
   "outputs": [
    {
     "data": {
      "text/plain": [
       "Text(0.5,1,'Train set cross entropy loss evolution with dropout=0.75')"
      ]
     },
     "execution_count": 38,
     "metadata": {},
     "output_type": "execute_result"
    },
    {
     "data": {
      "image/png": "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\n",
      "text/plain": [
       "<Figure size 432x288 with 1 Axes>"
      ]
     },
     "metadata": {
      "needs_background": "light"
     },
     "output_type": "display_data"
    }
   ],
   "source": [
    "plt.plot(train_losses['0.75'])\n",
    "plt.title('Train set cross entropy loss evolution with dropout=0.75')"
   ]
  },
  {
   "cell_type": "code",
   "execution_count": 39,
   "metadata": {},
   "outputs": [
    {
     "data": {
      "text/plain": [
       "Text(0.5,1,'Test set accuracy evolution with dropout=0.75')"
      ]
     },
     "execution_count": 39,
     "metadata": {},
     "output_type": "execute_result"
    },
    {
     "data": {
      "image/png": "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\n",
      "text/plain": [
       "<Figure size 432x288 with 1 Axes>"
      ]
     },
     "metadata": {
      "needs_background": "light"
     },
     "output_type": "display_data"
    }
   ],
   "source": [
    "plt.plot(test_accuracies['0.75'])\n",
    "plt.title('Test set accuracy evolution with dropout=0.75')"
   ]
  },
  {
   "cell_type": "markdown",
   "metadata": {},
   "source": [
    "---\n",
    "# 6. Convolutional Network\n",
    "<img src=\"figs/16-comic6.png\" style=\"width: 500px;\"/>\n",
    "In the previous sections, all pixels of images flattened into a single vector, which was a really bad idea. Handwritten digits are made of shapes and we discarded the shape information when we flattened the pixels. However, we can use **convolutional neural networks (CNN)** to take advantage of shape information. CNNs apply *a series of filters* to the raw pixel data of an image to extract and learn higher-level features, which the model can then use for classification. CNNs contains three components:\n",
    "  - **Convolutional layers**: apply a specified number of convolution filters to the image. For each subregion, the layer performs a set of mathematical operations to produce a single value in the output feature map. Convolutional layers then typically apply a ReLU activation function to the output to introduce nonlinearities into the model.\n",
    "  - **Pooling layers**: downsample the image data extracted by the convolutional layers to reduce the dimensionality of the feature map in order to decrease processing time. A commonly used pooling algorithm is max pooling, which extracts subregions of the feature map (e.g., 2x2-pixel tiles), keeps their maximum value, and discards all other values.\n",
    "  - **Dense (fully connected) layers**: perform classification on the features extracted by the convolutional layers and downsampled by the pooling layers. In a dense layer, every node in the layer is connected to every node in the preceding layer.\n",
    "  \n",
    "Typically, a CNN is composed of a *stack of **convolutional modules*** that perform feature extraction. Each *module* consists of a *convolutional layer* followed by a *pooling layer*. The last convolutional module is followed by one or more dense layers that perform classification. The final dense layer in a CNN contains a single neuron for each target class in the model, with a softmax activation function to generate a value between 0-1 for each neuron. We can interpret the softmax values for a given image as relative measurements of how likely it is that the image falls into each target class.\n",
    "\n",
    "Now, let us build a convolutional network for handwritten digit recognition. In this assignment, we will use the architecture shown in the following figure that has three convolutional layers, one fully-connected layer, and one softmax layer. Notice that the second and third convolutional layers have a stride of two that explains why they bring the number of output values down from 28x28 to 14x14 and then 7x7. A convolutional layer requires a weights tensor like `[4, 4, 3, 2]`, in which the first two numbers define the size of a filter (map), the third number shows the *depth* of the filter that is the number of *input channel*, and the last number shows the number of *output channel*. The output channel defines the number of times that we repeat the same thing with a different set of weights in one layer. In our implementation, we assume the output depth of first three convolutional layers, are 4, 8, 12, and the size of fully connected layer is 200.\n",
    "<img src=\"figs/17-arch1.png\" style=\"width: 600px;\"/>\n",
    "\n",
    "Convolutional layers can be implemented in TensorFlow using the `tf.nn.conv2d` function, which performs the scanning of the input image in both directions using the supplied weights. This is only the weighted sum part of the neuron. You still need to add a bias and feed the result through an activation function. The padding strategy that works here is to copy pixels from the sides of the image. All digits are on a uniform background so this just extends the background and should not add any unwanted shapes."
   ]
  },
  {
   "cell_type": "code",
   "execution_count": null,
   "metadata": {},
   "outputs": [],
   "source": [
    "# TODO: Replace <FILL IN> with appropriate code\n",
    "\n",
    "# · · · · · · · · · ·      (input data, 1-deep)               X [batch, 28, 28, 1]\n",
    "# @ @ @ @ @ @ @ @ @ @   -- conv. layer 5x5x1=>4 stride 1      W1 [5, 5, 1, 4]        B1 [4]\n",
    "# ∶∶∶∶∶∶∶∶∶∶∶∶∶∶∶∶∶∶∶                                         Y1_hat [batch, 28, 28, 4]\n",
    "#   @ @ @ @ @ @ @ @     -- conv. layer 5x5x4=>8 stride 2      W2 [5, 5, 4, 8]        B2 [8]\n",
    "#   ∶∶∶∶∶∶∶∶∶∶∶∶∶∶∶                                           Y2_hat [batch, 14, 14, 8]\n",
    "#     @ @ @ @ @ @       -- conv. layer 4x4x8=>12 stride 2     W3 [4, 4, 8, 12]       B3 [12]\n",
    "#     ∶∶∶∶∶∶∶∶∶∶∶                                             Y3_hat [batch, 7, 7, 12] => reshaped to YY [batch, 7*7*12]\n",
    "#      \\x/x\\x\\x/        -- fully connected layer (relu)       W4 [7*7*12, 200]       B4 [200]\n",
    "#       · · · ·                                               Y4_hat [batch, 200]\n",
    "#       \\x/x\\x/         -- fully connected layer (softmax)    W5 [200, 10]           B5 [10]\n",
    "#        · · ·                                                Y_hat [batch, 10]\n",
    "\n",
    "# to reset the Tensorflow default graph\n",
    "reset_graph()\n",
    "\n",
    "########################################\n",
    "# define variables and placeholders\n",
    "########################################\n",
    "X = <FILL IN>\n",
    "Y = <FILL IN>\n",
    "learning_rate = <FILL IN>\n",
    "\n",
    "# three convolutional layers with their channel counts, and a fully connected layer \n",
    "# (the last layer has 10 softmax neurons)\n",
    "# the output depth of first three convolutional layers, are 4, 8, 12, and the size of fully connected\n",
    "# layer is 200\n",
    "W1 = <FILL IN>\n",
    "B1 = <FILL IN>\n",
    "\n",
    "W2 = <FILL IN>\n",
    "B2 = <FILL IN>\n",
    "\n",
    "W3 = <FILL IN>\n",
    "B3 = <FILL IN>\n",
    "\n",
    "W4 = <FILL IN>\n",
    "B4 = <FILL IN>\n",
    "\n",
    "W5 = <FILL IN>\n",
    "B5 = <FILL IN>\n",
    "\n",
    "########################################\n",
    "# build the model\n",
    "########################################\n",
    "stride = 1  # output is 28x28\n",
    "Y1_hat = <FILL IN> # use tf.nn.conv2d\n",
    "\n",
    "stride = 2  # output is 14x14\n",
    "Y2_hat = <FILL IN>\n",
    "\n",
    "stride = 2  # output is 7x7\n",
    "Y3_hat = <FILL IN>\n",
    "\n",
    "# reshape the output from the third convolution for the fully connected layer\n",
    "YY_hat = tf.reshape(<FILL IN>)\n",
    "Y4_hat = <FILL IN>\n",
    "Y_hat = <FILL IN>\n",
    "\n",
    "########################################\n",
    "# define the cost function\n",
    "########################################\n",
    "cross_entropy = tf.nn.softmax_cross_entropy_with_logits(<FILL IN>)\n",
    "cross_entropy = tf.reduce_mean(cross_entropy) * 100\n",
    "\n",
    "########################################\n",
    "# define the optmizer\n",
    "########################################\n",
    "optimizer = <FILL IN>\n",
    "train_step = optimizer.minimize(<FILL IN>)\n",
    "\n",
    "########################################\n",
    "# execute the model\n",
    "########################################\n",
    "init = tf.global_variables_initializer()\n",
    "\n",
    "n_epochs = 5000\n",
    "with tf.Session() as sess:\n",
    "    <FILL IN>"
   ]
  },
  {
   "cell_type": "markdown",
   "metadata": {},
   "source": [
    "# 7. Improve The Performance\n",
    "A good approach to sizing your neural networks is to implement a network that is a little too constrained, then give it a bit more degrees of freedom and add dropout to make sure it is not overfitting. This ends up with a fairly optimal network for your problem. In the above model, we set the output channel to 4 in the first convolutional layer, which means that we repeat the same filter shape (but with different weights) four times. If we assume that those filters evolve during training into shape recognisers, you can intuitively see that this might not be enough for our problem. Handwritten digits are made from more than 4 elemental shapes. So let us bump up the filter sizes a little, and also increase the number of filters in our convolutional layers from 4, 8, 12 to 6, 12, 24 and then add dropout on the fully-connected layer. The following figure shows the new architecture you should build. Please complete the following code based on the given architecture and dropout technique.\n",
    "<img src=\"figs/18-arch2.png\" style=\"width: 600px;\"/>"
   ]
  },
  {
   "cell_type": "code",
   "execution_count": null,
   "metadata": {},
   "outputs": [],
   "source": [
    "# TODO: Replace <FILL IN> with appropriate code\n",
    "\n",
    "# · · · · · · · · · ·    (input data, 1-deep)                 X [batch, 28, 28, 1]\n",
    "# @ @ @ @ @ @ @ @ @ @ -- conv. layer 6x6x1=>6 stride 1        W1 [5, 5, 1, 6]        B1 [6]\n",
    "# ∶∶∶∶∶∶∶∶∶∶∶∶∶∶∶∶∶∶∶                                         Y1_hat [batch, 28, 28, 6]\n",
    "#   @ @ @ @ @ @ @ @   -- conv. layer 5x5x6=>12 stride 2       W2 [5, 5, 6, 12]        B2 [12]\n",
    "#   ∶∶∶∶∶∶∶∶∶∶∶∶∶∶∶                                           Y2_hat [batch, 14, 14, 12]\n",
    "#     @ @ @ @ @ @     -- conv. layer 4x4x12=>24 stride 2      W3 [4, 4, 12, 24]       B3 [24]\n",
    "#     ∶∶∶∶∶∶∶∶∶∶∶                                             Y3_hat [batch, 7, 7, 24] => reshaped to YY [batch, 7*7*24]\n",
    "#      \\x/x\\x\\x/ ✞    -- fully connected layer (relu+dropout) W4 [7*7*24, 200]       B4 [200]\n",
    "#       · · · ·                                               Y4_hat [batch, 200]\n",
    "#       \\x/x\\x/       -- fully connected layer (softmax)      W5 [200, 10]           B5 [10]\n",
    "#        · · ·                                                Y_hat [batch, 10]\n",
    "\n",
    "# to reset the Tensorflow default graph\n",
    "reset_graph()\n",
    "\n",
    "########################################\n",
    "# define variables and placeholders\n",
    "########################################\n",
    "X = <FILL IN>\n",
    "Y = <FILL IN>\n",
    "lr = <FILL IN>\n",
    "pkeep = <FILL IN>\n",
    "\n",
    "# three convolutional layers with their channel counts, and a fully connected layer \n",
    "# (the last layer has 10 softmax neurons)\n",
    "# the output depth of first three convolutional layers, are 6, 12, 24, and the size of fully connected\n",
    "# layer is 200\n",
    "W1 = <FILL IN>\n",
    "B1 = <FILL IN>\n",
    "\n",
    "W2 = <FILL IN>\n",
    "B2 = <FILL IN>\n",
    "\n",
    "W3 = <FILL IN>\n",
    "B3 = <FILL IN>\n",
    "\n",
    "W4 = <FILL IN>\n",
    "B4 = <FILL IN>\n",
    "\n",
    "W5 = <FILL IN>\n",
    "B5 = <FILL IN>\n",
    "\n",
    "########################################\n",
    "# build the model\n",
    "########################################\n",
    "stride = 1  # output is 28x28\n",
    "Y1_hat = <FILL IN>\n",
    "\n",
    "stride = 2  # output is 14x14\n",
    "Y2_hat = <FILL IN>\n",
    "\n",
    "stride = 2  # output is 7x7\n",
    "Y3_hat = <FILL IN>\n",
    "\n",
    "# reshape the output from the third convolution for the fully connected layer\n",
    "YY_hat = tf.reshape(<FILL IN>)\n",
    "Y4_hat = <FILL IN>\n",
    "YY4_hat = tf.nn.dropout(<FILL IN>\n",
    "Y_hat = <FILL IN>\n",
    "\n",
    "########################################\n",
    "# define the Loss function\n",
    "########################################\n",
    "cross_entropy = tf.nn.softmax_cross_entropy_with_logits(<FILL IN>)\n",
    "cross_entropy = tf.reduce_mean(cross_entropy) * 100\n",
    "\n",
    "########################################\n",
    "# traini the model\n",
    "########################################\n",
    "optimizer = <FILL IN>\n",
    "train_step = optimizer.<FILL IN>\n",
    "\n",
    "########################################\n",
    "# execute the model\n",
    "########################################\n",
    "init = tf.global_variables_initializer()\n",
    "\n",
    "n_epochs = 2000\n",
    "with tf.Session() as sess:\n",
    "    <FILL IN>"
   ]
  },
  {
   "cell_type": "markdown",
   "metadata": {},
   "source": [
    "---\n",
    "# 8. Tensorflow Layers Module\n",
    "The TensorFlow **layers** `tf.layers` module provides a high-level API that makes it easy to construct a neural network. It provides methods that facilitate: (i) the creation of dense (fully connected) layers and convolutional layers, (ii) adding activation functions, and (iii) applying dropout regularization. In this section use the module `tf.layers` to build the network you made in section 7."
   ]
  },
  {
   "cell_type": "code",
   "execution_count": null,
   "metadata": {},
   "outputs": [],
   "source": [
    "# TODO: Replace <FILL IN> with appropriate code\n",
    "\n",
    "# to reset the Tensorflow default graph\n",
    "reset_graph()\n",
    "\n",
    "<FILL IN> # :)"
   ]
  },
  {
   "cell_type": "markdown",
   "metadata": {},
   "source": [
    "---\n",
    "# 9. Keras\n",
    "Keras is a high-level API to build and train deep learning models. It's used for fast prototyping, advanced research, and production. `tf.keras` is TensorFlow's implementation of the Keras API specification. To work with Keras, you need to import `tf.keras` as part of your TensorFlow program setup.\n",
    "```\n",
    "import tensorflow as tf\n",
    "from tensorflow.keras import layers\n",
    "```\n",
    "#### Build a model\n",
    "In Keras, you assemble **layers** to build a model, i.e., a graph of layers. The most common type of model is a stack of layers: the `tf.keras.Sequential` model. For example, the following code builds a simple, fully-connected network (i.e., multi-layer perceptron):\n",
    "```\n",
    "model = tf.keras.Sequential()\n",
    "# adds a densely-connected layer with 64 units to the model:\n",
    "model.add(layers.Dense(64, activation='relu'))\n",
    "# add another\n",
    "model.add(layers.Dense(64, activation='relu'))\n",
    "# add a softmax layer with 10 output units:\n",
    "model.add(layers.Dense(10, activation='softmax'))\n",
    "```\n",
    "There are many `tf.keras.layers` available with some common constructor parameters:\n",
    "* `activation`: set the activation function for the layer, which is specified by the name of a built-in function or as a callable object.\n",
    "* `kernel_initializer` and `bias_initializer`: the initialization schemes that create the layer's weights (weight and bias).\n",
    "* `kernel_regularizer` and `bias_regularizer`: the regularization schemes that apply the layer's weights (weight and bias), such as L1 or L2 regularization.\n",
    "\n",
    "#### Train and evaluate\n",
    "After you construct a model, you can configure its learning process by calling the `compile` method:\n",
    "```\n",
    "model.compile(optimizer=tf.train.AdamOptimizer(0.001),\n",
    "              loss='categorical_crossentropy',\n",
    "              metrics=['accuracy'])\n",
    "```\n",
    "The method `tf.keras.Model.compile` takes three important arguments:\n",
    "* `optimizer`: it specifies the training procedure, e.g., `tf.train.AdamOptimizer` and `tf.train.GradientDescentOptimizer`.\n",
    "* `loss`: the cost function to minimize during optimization, e.g., mean square error (mse), categorical_crossentropy, and binary_crossentropy.\n",
    "* `metrics`: used to monitor training, e.g., `accuracy`.\n",
    "\n",
    "The next step after confiuring the model is to train it by calling the `model.fit` method and giving it training data as its input. After training the model you can call `tf.keras.Model.evaluate` and `tf.keras.Model.predict` methods to evaluate the inference-mode loss and metrics for the data provided or predict the output of the last layer in inference for the data provided, respectively.\n",
    "\n",
    "You can read more about Keras [here](https://www.tensorflow.org/guide/keras).\n",
    "\n",
    "In this task, please use Keras to rebuild the network you made in section 7."
   ]
  },
  {
   "cell_type": "code",
   "execution_count": null,
   "metadata": {},
   "outputs": [],
   "source": [
    "# TODO: Replace <FILL IN> with appropriate code\n",
    "\n",
    "# to reset the Tensorflow default graph\n",
    "reset_graph()\n",
    "\n",
    "<FILL IN> # :)"
   ]
  },
  {
   "cell_type": "markdown",
   "metadata": {},
   "source": [
    "---\n",
    "# 10. Implement LeNet-5\n",
    "In this section, you should implement **LeNet-5** either using Tensorflow or Keras. Please take a look at its [paper](http://yann.lecun.com/exdb/publis/pdf/lecun-01a.pdf) before starting to implement it.\n",
    "The LeNet-5 architecture is perhaps the most widely known CNN architecture. It was created by Yann LeCun in 1998 and widely used for handwritten digit recognition (MNIST). It is composed of the layers shown in the following table.\n",
    "<img src=\"figs/19-letnet5.png\" style=\"width: 600px;\"/>\n",
    "There are a few extra details to be noted:\n",
    "* MNIST images are 28×28 pixels, but they are zero-padded to 32×32 pixels and normalized before being fed to the network. The rest of the network does not use any padding, which is why the size keeps shrinking as the image progresses through the network.\n",
    "* The average pooling layers are slightly more complex than usual: each neuron computes the mean of its inputs, then multiplies the result by a learnable coefficient and adds a learnable bias term, then finally applies the activation function.\n",
    "* Most neurons in layer C3 maps are connected to neurons in only three or four S2 maps (instead of all six S2 maps). See table 1 in the [paper](http://yann.lecun.com/exdb/publis/pdf/lecun-01a.pdf) for details.\n",
    "* The output layer is a bit special: instead of computing the dot product of the inputs and the weight vector, each neuron outputs the square of the Euclidian distance between its input vector and its weight vector. Each output measures how much the image belongs to a particular digit class. The cross-entropy cost function is now preferred, as it penalizes bad predictions much more, producing larger gradients and thus converging faster."
   ]
  },
  {
   "cell_type": "code",
   "execution_count": null,
   "metadata": {},
   "outputs": [],
   "source": [
    "# TODO: Build the LetNet-5 model, and test it on MNIST\n",
    "\n",
    "# to reset the Tensorflow default graph\n",
    "reset_graph()"
   ]
  },
  {
   "cell_type": "markdown",
   "metadata": {},
   "source": [
    "---\n",
    "# 11. Implement AlexNet\n",
    "In the last section, you should implement **AlexNet** either using Tensorflow or Keras. Again, please take a look at its [paper](https://papers.nips.cc/paper/4824-imagenet-classification-with-deep-convolutional-neural-networks.pdf) before start to implement it.\n",
    "The AlexNet CNN architecture won the [ImageNet ILSVRC challenge](http://www.image-net.org/challenges/LSVRC/2012/) in 2012 by a large margin. It was developed by Alex Krizhevsky, Ilya Sutskever, and Geoffrey Hinton. It is quite similar to LeNet-5, only much larger and deeper, and it was the first to stack convolutional layers directly on top of each other, instead of stacking a pooling layer on top of each convolutional layer. The following table presents this architecture.\n",
    "<img src=\"figs/20-alexnet.png\" style=\"width: 600px;\"/>\n",
    "To train the model, we need a big dataset, however, in this assignment you are going to to assign the pretrained weights to your model, using `tf.Variable.assign`. You can download the pretrained weights from [bvlc_alexnet.npy](https://www.cs.toronto.edu/~guerzhoy/tf_alexnet/bvlc_alexnet.npy). This file is a NumPy array file created by the python. After you read this file, you will receive a python dictionary with a <key, value> pair for each layer. Each key is one of the layers names, e.g., `conv1`, and each value is a list of two values: (1) weights, and (2) biases of that layer. Part of the function to load the weights and biases to your model is given, and you need to complete it.\n",
    "\n",
    "Here is what you see if you read and print the shape of each layer from the file:\n",
    "```\n",
    "weight_dic = np.load(\"bvlc_alexnet.npy\", encoding=\"bytes\").item()\n",
    "for layer in weights_dic:\n",
    "    print(\"-\" * 20)\n",
    "    print(layer)\n",
    "    for wb in weights_dic[layer]:\n",
    "        print(wb.shape)\n",
    "\n",
    "#--------------------\n",
    "# fc8\n",
    "# (4096, 1000) # weights\n",
    "# (1000,) # bias\n",
    "#--------------------\n",
    "# fc7\n",
    "# (4096, 4096) # weights\n",
    "# (4096,) # bias\n",
    "#--------------------\n",
    "# fc6\n",
    "# (9216, 4096) # weights\n",
    "# (4096,) # bias\n",
    "#--------------------\n",
    "# conv5\n",
    "# (3, 3, 192, 256) # weights\n",
    "# (256,) # bias\n",
    "#--------------------\n",
    "# conv4\n",
    "# (3, 3, 192, 384) # weights\n",
    "# (384,) # bias\n",
    "#--------------------\n",
    "# conv3\n",
    "# (3, 3, 256, 384) # weights\n",
    "# (384,) # bias\n",
    "#--------------------\n",
    "# conv2\n",
    "# (5, 5, 48, 256) # weights\n",
    "# (256,) # bias\n",
    "#--------------------\n",
    "# conv1\n",
    "# (11, 11, 3, 96) # weights\n",
    "# (96,) # bias\n",
    "```\n"
   ]
  },
  {
   "cell_type": "code",
   "execution_count": null,
   "metadata": {},
   "outputs": [],
   "source": [
    "# TODO: Replace <FILL IN> with appropriate code\n",
    "\n",
    "# to reset the Tensorflow default graph\n",
    "reset_graph()\n",
    "\n",
    "# build the AlexNet model\n",
    "<FILL IN> :)\n",
    "\n",
    "# load inital weights and biases to the model\n",
    "def load_initial_weights(self, session):\n",
    "    # load the weights into memory\n",
    "    weights_dic = np.load('bvlc_alexnet.npy', encoding='bytes').item()\n",
    "\n",
    "    # loop over all layer names stored in the weights dict\n",
    "    for layer in weights_dict:\n",
    "        with tf.variable_scope(layer, reuse=True):\n",
    "            # loop over list of weights/biases and assign them to their corresponding tf variable\n",
    "            for wb in weights_dict[layer]:\n",
    "                # biases\n",
    "                if len(wb.shape) == 1:\n",
    "                    bias = tf.get_variable(<FILL IN>)\n",
    "                    session.run(bias.assign(wb))\n",
    "                # weights\n",
    "                else:\n",
    "                    weight = tf.get_variable(<FILL IN>)\n",
    "                    session.run(weight.assign(wb))\n",
    "                "
   ]
  },
  {
   "cell_type": "markdown",
   "metadata": {},
   "source": [
    "#### Test the model\n",
    "After building the AlexNet model, you can test it on different images and present the accuracy of the model. To do so, first you need to use **OpenCV** library to make the images ready to give as input to the model. OpenCV is a library used for image processing. Below you can see how to read an image file and pre-process it using OpenCV to give it to the model. However, you need to complete the code and test the accuracy of your model. The teset images (shown below) are available in the `test_images` folder.\n",
    "<table width=\"100%\">\n",
    "<tr>\n",
    "<td><img src=\"test_images/test_image1.jpg\" style=\"width:200px;\"></td>\n",
    "<td><p align=\"center\"><img src=\"test_images/test_image2.jpg\" style=\"width:200px;\"></td>\n",
    "<td align=\"right\"><img src=\"test_images/test_image3.jpg\" style=\"width:200px;\"></td>\n",
    "</tr>"
   ]
  },
  {
   "cell_type": "code",
   "execution_count": null,
   "metadata": {},
   "outputs": [],
   "source": [
    "# TODO: Replace <FILL IN> with appropriate code\n",
    "# test the AlexNet model on the given images\n",
    "\n",
    "import cv2\n",
    "\n",
    "#get list of all images\n",
    "current_dir = os.getcwd()\n",
    "image_path = os.path.join(current_dir, 'test_images')\n",
    "img_files = [os.path.join(image_path, f) for f in os.listdir(image_path) if f.endswith('.jpg')]\n",
    "\n",
    "#load all images\n",
    "imgs = []\n",
    "for f in img_files:\n",
    "    imgs.append(cv2.imread(f))\n",
    "\n",
    "with tf.Session() as sess:\n",
    "    <FILL IN>\n",
    "    \n",
    "    # loop over all images\n",
    "    for i, image in enumerate(imgs):\n",
    "        # convert image to float32 and resize to (227x227)\n",
    "        img = cv2.resize(image.astype(np.float32), (227, 227))\n",
    "        \n",
    "        # subtract the ImageNet mean\n",
    "        # Mean subtraction per channel was used to center the data around zero mean for each channel (R, G, B).\n",
    "        # This typically helps the network to learn faster since gradients act uniformly for each channel.\n",
    "        imagenet_mean = np.array([104., 117., 124.], dtype=np.float32)\n",
    "        img -= imagenet_mean\n",
    "        \n",
    "        # reshape as needed to feed into model\n",
    "        img = img.reshape((1, 227, 227, 3))\n",
    "        \n",
    "        <FILL IN>"
   ]
  },
  {
   "cell_type": "code",
   "execution_count": null,
   "metadata": {},
   "outputs": [],
   "source": []
  }
 ],
 "metadata": {
  "kernelspec": {
   "display_name": "Python 3",
   "language": "python",
   "name": "python3"
  },
  "language_info": {
   "codemirror_mode": {
    "name": "ipython",
    "version": 3
   },
   "file_extension": ".py",
   "mimetype": "text/x-python",
   "name": "python",
   "nbconvert_exporter": "python",
   "pygments_lexer": "ipython3",
<<<<<<< HEAD
   "version": "3.6.7"
=======
   "version": "3.6.6"
>>>>>>> 7cf32bee4afc234a7ba6cfbd7c29059acda74c62
  }
 },
 "nbformat": 4,
 "nbformat_minor": 2
}
