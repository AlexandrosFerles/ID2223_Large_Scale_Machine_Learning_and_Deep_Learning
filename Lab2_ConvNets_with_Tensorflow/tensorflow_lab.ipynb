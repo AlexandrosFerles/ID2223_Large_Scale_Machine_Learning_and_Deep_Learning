{
 "cells": [
  {
   "cell_type": "code",
   "execution_count": 2,
   "metadata": {},
   "outputs": [],
   "source": [
    "from __future__ import division, print_function, unicode_literals\n",
    "import numpy as np\n",
    "import tensorflow as tf\n",
    "from matplotlib import pyplot as plt\n",
    "\n",
    "# to make this notebook's output stable across runs\n",
    "def reset_graph(seed=42):\n",
    "    tf.reset_default_graph()\n",
    "    tf.set_random_seed(seed)\n",
    "    np.random.seed(seed)"
   ]
  },
  {
   "cell_type": "markdown",
   "metadata": {},
   "source": [
    "# Tensorflow and Deep Learning\n",
    "\n",
    "In this lab assignment, first you will learn how to build and train a neural network that recognises handwritten digits, and then you will build LeNet-5 CNN architecture, which is widely used for handwritten digit recognition. At the end of this lab assignment, you will make AlexNet CNN architecture, which won the 2012 ImageNet ILSVRC challenge."
   ]
  },
  {
   "cell_type": "markdown",
   "metadata": {},
   "source": [
    "---\n",
    "# 1. Dataset\n",
    "In the first part of the assignment, we use the MNIST dataset, which is a set of 70,000 small images of digits handwritten by high school students and employees of the US Census Bureau. Each image is labeled with the digit it represents. There are 70,000 images, and each image has 784 features. This is because each image is 28×28=784 pixels, and each feature simply represents one pixel's intensity, from 0 (white) to 255 (black). The following figure shows a few images from the MNIST dataset to give you a feel for the complexity of the classification task.\n",
    "\n",
    "<img src=\"figs/1-mnist.png\" style=\"width: 300px;\"/>\n",
    "\n",
    "To begin the assignment, first, use `mnist_data.read_data_sets` and download images and labels. It return two lists, called `mnist.test` with 10K images+labels, and `mnist.train` with 60K images+labels."
   ]
  },
  {
   "cell_type": "code",
   "execution_count": 3,
   "metadata": {},
   "outputs": [
    {
     "name": "stdout",
     "output_type": "stream",
     "text": [
      "Extracting ./Datasets/MNIST/train-images-idx3-ubyte.gz\n",
      "Extracting ./Datasets/MNIST/train-labels-idx1-ubyte.gz\n",
      "Extracting ./Datasets/MNIST/t10k-images-idx3-ubyte.gz\n",
      "Extracting ./Datasets/MNIST/t10k-labels-idx1-ubyte.gz\n"
     ]
    }
   ],
   "source": [
    "# TODO: Replace <FILL IN> with appropriate code\n",
    "\n",
    "from tensorflow.examples.tutorials.mnist import input_data as mnist_data\n",
    "\n",
    "mnist = mnist_data.read_data_sets(\"./Datasets/MNIST/\", one_hot=True)"
   ]
  },
  {
   "cell_type": "markdown",
   "metadata": {},
   "source": [
    "---\n",
    "# 2. A One-Layer Neural Network\n",
    "<img src=\"figs/2-comic1.png\" style=\"width: 500px;\"/>\n",
    "\n",
    "Let's start by building a one-layer neural network. Handwritten digits in the MNIST dataset are 28x28 pixel greyscale images. The simplest approach for classifying them is to use the 28x28=784 pixels as inputs for a **one-layer neural network**. Each neuron in the network does a weighted sum of all of its inputs, adds a bias and then feeds the result through some non-linear activation function. Here we design a one-layer neural network with 10 output neurons since we want to classify digits into 10 classes (0 to 9).\n",
    "<img src=\"figs/3-one_layer.png\" style=\"width: 400px;\"/>\n",
    "\n",
    "\n",
    "For a classification problem, an *activation function* that works well is **softmax**. Applying softmax on a vector is done by taking the exponential of each element and then normalising the vector.\n",
    "<img src=\"figs/4-softmax.png\" style=\"width: 300px;\"/>\n",
    "\n",
    "We can summarise the behaviour of this single layer of neurons into a simple formula using a *matrix multiply*. If we give input data into the network in *mini-batch* of 100 images, it produces 100 predictions as the output. We define the **weights matrix $W$** with 10 columns, in which each column indicates the weight of a one class (a single digit), from 0 to 9. Using the first column of $W$, we can compute the weighted sum of all the pixels of the first image. This sum corresponds to the first neuron that points to the number 0. Using the second column of $W$, we do the same for the second neuron (number 1) and so on until the 10th neuron. We can then repeat the operation for the remaining 99 images in the mini-batch. If we call $X$ the matrix containing our 100 images (each row corresponds to one digit), all the weighted sums for our 10 neurons, computed on 100 images are simply $X.W$. Each neuron must now add its bias. Since we have 10 neurons, we have 10 bias constants. We finally apply the **softmax activation function** and obtain the formula describing a one-layer neural network, applied to 100 images.\n",
    "<img src=\"figs/5-xw.png\" style=\"width: 600px;\"/>\n",
    "<img src=\"figs/6-softmax2.png\" style=\"width: 500px;\"/>\n",
    "\n",
    "Then, we need to use the **cross-entropy** to measure how good the predictions are, i.e., the distance between what the network tells us and what we know to be the truth. The cross-entropy is a function of weights, biases, pixels of the training image and its known label. If we compute the partial derivatives of the cross-entropy relatively to all the weights and all the biases, we obtain a **gradient**, computed for a given image, label and present value of weights and biases. We can update weights and biases by a fraction of the gradient and do the same thing again using the next batch of training images.\n",
    "<img src=\"figs/7-cross_entropy.png\" style=\"width: 600px;\"/>"
   ]
  },
  {
   "cell_type": "markdown",
   "metadata": {
    "collapsed": true
   },
   "source": [
    "\n",
    "### Define Variables and Placeholders\n",
    "First we define TensorFlow **variables** and **placeholders**. *Variables* are all the parameters that you want the training algorithm to determine for you (e.g., weights and biases). *Placeholders* are parameters that will be filled with actual data during training (e.g., training images). The shape of the tensor holding the training images is [None, 28, 28, 1] which stands for:\n",
    "  - 28, 28, 1: our images are 28x28 (784) pixels x 1 value per pixel (grayscale). The last number would be 3 for color images and is not really necessary here.\n",
    "  - None: this dimension will be the number of images in the mini-batch. It will be known at training time.\n",
    "\n",
    "We also need an additional placeholder for the training labels that will be provided alongside training images."
   ]
  },
  {
   "cell_type": "code",
   "execution_count": 4,
   "metadata": {},
   "outputs": [],
   "source": [
    "# TODO: Replace <FILL IN> with appropriate code\n",
    "\n",
    "# neural network with 1 layer of 10 softmax neurons\n",
    "#\n",
    "# · · · · · · · · · ·       (input data, flattened pixels)       X [batch, 784] \n",
    "# \\x/x\\x/x\\x/x\\x/x\\x/    -- fully connected layer (softmax)      W [784, 10]     b[10]\n",
    "#   · · · · · · · ·                                              Y_hat [batch, 10]\n",
    "\n",
    "# input X: 28x28 grayscale images, the first dimension (None) will index the images in the mini-batch\n",
    "X = tf.placeholder(tf.float32, [None, 28, 28, 1], name=\"input\")\n",
    "\n",
    "# correct answers will go here\n",
    "Y = tf.placeholder(tf.float32, shape=(None, 10), name=\"labels\")\n",
    "\n",
    "# weights W[784, 10], 784 = 28 * 28\n",
    "W = tf.Variable(tf.truncated_normal([784, 10], stddev=0.1), name=\"weigths1\")\n",
    "\n",
    "# biases b[10]\n",
    "b = tf.Variable(tf.zeros([10]), name=\"bias1\")"
   ]
  },
  {
   "cell_type": "markdown",
   "metadata": {},
   "source": [
    "### Build The Model\n",
    "Now, we can make a **model** for a one-layer neural network. The formula is the one we explained before, i.e., $\\hat{Y} = softmax(X . W + b)$. You can use the `tf.nn.softmax` and `tf.matmul` to build the model. Here, we need to use the `tf.reshape` to transform our 28x28 images into single vectors of 784 pixels."
   ]
  },
  {
   "cell_type": "code",
   "execution_count": 5,
   "metadata": {},
   "outputs": [],
   "source": [
    "# TODO: Replace <FILL IN> with appropriate code\n",
    "\n",
    "# flatten the images into a single line of pixels\n",
    "XX = tf.reshape(X, [-1, 784], name=\"input_flattened\")\n",
    "\n",
    "# The model\n",
    "Y_hat = tf.nn.softmax(tf.add(tf.matmul(XX, W), b), name=\"predictions\")"
   ]
  },
  {
   "cell_type": "markdown",
   "metadata": {},
   "source": [
    "### Define The Cost Function\n",
    "Now, we have model predictions $\\hat{Y}$ and correct labels $Y$, so for each instance $i$ (image) we can compute the cross-entropy as the **cost function**: $cross\\_entropy = -\\sum(Y_i * log(\\hat{Y}i))$. You can use `reduce_mean` to add all the components in a tensor."
   ]
  },
  {
   "cell_type": "code",
   "execution_count": 6,
   "metadata": {},
   "outputs": [
    {
     "name": "stdout",
     "output_type": "stream",
     "text": [
      "WARNING:tensorflow:From /home/alexandrosferles/.local/lib/python3.6/site-packages/tensorflow/python/ops/losses/losses_impl.py:691: softmax_cross_entropy_with_logits (from tensorflow.python.ops.nn_ops) is deprecated and will be removed in a future version.\n",
      "Instructions for updating:\n",
      "\n",
      "Future major versions of TensorFlow will allow gradients to flow\n",
      "into the labels input on backprop by default.\n",
      "\n",
      "See tf.nn.softmax_cross_entropy_with_logits_v2.\n",
      "\n"
     ]
    }
   ],
   "source": [
    "# TODO: Replace <FILL IN> with appropriate code\n",
    "\n",
    "cross_entropy = tf.reduce_mean(tf.losses.softmax_cross_entropy(onehot_labels= Y, logits=Y_hat))"
   ]
  },
  {
   "cell_type": "markdown",
   "metadata": {},
   "source": [
    "### Traine the Model\n",
    "Now, select the gradient descent optimiser `GradientDescentOptimizer` and ask it to minimise the cross-entropy cost. In this step, TensorFlow computes the partial derivatives of the cost function relatively to all the weights and all the biases (the gradient). The gradient is then used to update the weights and biases. Set the learning rate is $0.005$."
   ]
  },
  {
   "cell_type": "markdown",
   "metadata": {},
   "source": [
    "## TODO: Replace <FILL IN> with appropriate code"
   ]
  },
  {
   "cell_type": "code",
   "execution_count": 7,
   "metadata": {},
   "outputs": [],
   "source": [
    "optimizer = tf.train.GradientDescentOptimizer(learning_rate = 0.005)\n",
    "train_step = optimizer.minimize(cross_entropy)"
   ]
  },
  {
   "cell_type": "markdown",
   "metadata": {},
   "source": [
    "### Execute the Model\n",
    "It is time to run the training loop. All the TensorFlow instructions up to this point have been preparing a computation graph in memory but nothing has been computed yet. The computation requires actual data to be fed into the placeholders. This is supplied in the form of a Python dictionary, where the keys are the names of the placeholders. During the trainig print out the cost every 200 steps. Moreove, after training the model, print out the accurray of the model by testing it on the test data."
   ]
  },
  {
   "cell_type": "code",
   "execution_count": 10,
   "metadata": {},
   "outputs": [
    {
     "name": "stdout",
     "output_type": "stream",
     "text": [
      "Train set loss for update step 0: 2.308873176574707\n",
      "Test set accuracy for update step 0:  8.85%\n",
      "Train set loss for update step 200: 2.2959718704223633\n",
      "Test set accuracy for update step 200:  11.98%\n",
      "Train set loss for update step 400: 2.282435894012451\n",
      "Test set accuracy for update step 400:  14.52%\n",
      "Train set loss for update step 600: 2.2683756351470947\n",
      "Test set accuracy for update step 600:  17.45%\n",
      "Train set loss for update step 800: 2.253019332885742\n",
      "Test set accuracy for update step 800:  20.86%\n",
      "Train set loss for update step 1000: 2.235271692276001\n",
      "Test set accuracy for update step 1000:  24.82%\n",
      "Train set loss for update step 1200: 2.2160489559173584\n",
      "Test set accuracy for update step 1200:  28.77%\n",
      "Train set loss for update step 1400: 2.195143699645996\n",
      "Test set accuracy for update step 1400:  33.11%\n",
      "Train set loss for update step 1600: 2.172874927520752\n",
      "Test set accuracy for update step 1600:  37.33%\n",
      "Train set loss for update step 1800: 2.1509034633636475\n",
      "Test set accuracy for update step 1800:  40.25%\n",
      "Train set loss for update step 2000: 2.130131721496582\n",
      "Test set accuracy for update step 2000:  43.47%\n",
      "Train set loss for update step 2200: 2.1085753440856934\n",
      "Test set accuracy for update step 2200:  47.51%\n",
      "Train set loss for update step 2400: 2.0826892852783203\n",
      "Test set accuracy for update step 2400:  52.26%\n",
      "Train set loss for update step 2600: 2.0521297454833984\n",
      "Test set accuracy for update step 2600:  57.07%\n",
      "Train set loss for update step 2800: 2.0243008136749268\n",
      "Test set accuracy for update step 2800:  59.24%\n",
      "Train set loss for update step 3000: 2.0017476081848145\n",
      "Test set accuracy for update step 3000:  60.81%\n",
      "Train set loss for update step 3200: 1.9826772212982178\n",
      "Test set accuracy for update step 3200:  61.87%\n",
      "Train set loss for update step 3400: 1.9659488201141357\n",
      "Test set accuracy for update step 3400:  63.11%\n",
      "Train set loss for update step 3600: 1.9508248567581177\n",
      "Test set accuracy for update step 3600:  64.64%\n",
      "Train set loss for update step 3800: 1.937301754951477\n",
      "Test set accuracy for update step 3800:  65.94%\n",
      "Train set loss for update step 4000: 1.9249861240386963\n",
      "Test set accuracy for update step 4000:  67.15%\n",
      "Train set loss for update step 4200: 1.9140337705612183\n",
      "Test set accuracy for update step 4200:  67.96%\n",
      "Train set loss for update step 4400: 1.904417872428894\n",
      "Test set accuracy for update step 4400:  68.44%\n",
      "Train set loss for update step 4600: 1.8957397937774658\n",
      "Test set accuracy for update step 4600:  68.73%\n",
      "Train set loss for update step 4800: 1.887954592704773\n",
      "Test set accuracy for update step 4800:  69.11%\n",
      "--------------------------------\n",
      "\n",
      "Final test set accuracy: 69.33%\n"
     ]
    }
   ],
   "source": [
    "# TODO: Replace <FILL IN> with appropriate code\n",
    "from matplotlib import pyplot as plt\n",
    "train_losses = []\n",
    "\n",
    "X_train_temp, Y_train = mnist.train.images, mnist.train.labels\n",
    "X_train = np.reshape(X_train_temp, (-1, 28, 28, 1))\n",
    "\n",
    "test_accuracies = []\n",
    "\n",
    "predictions = tf.equal(tf.argmax(Y_hat, 1), tf.argmax(Y, 1))\n",
    "accuracy = tf.reduce_mean(tf.cast(predictions, tf.float32))\n",
    "\n",
    "X_test_temp, Y_test = mnist.test.images, mnist.test.labels\n",
    "X_test = np.reshape(X_test_temp, (-1, 28, 28, 1))\n",
    "\n",
    "# init\n",
    "init = tf.global_variables_initializer()\n",
    "\n",
    "n_epochs = 5000\n",
    "with tf.Session() as sess:\n",
    "    sess.run(init)\n",
    "    \n",
    "    for i in range(n_epochs):\n",
    "        \n",
    "        X_batch_temp, Y_batch = mnist.train.next_batch(100)\n",
    "        X_batch = np.reshape(X_batch_temp, (-1, 28, 28, 1))\n",
    "        \n",
    "        sess.run(train_step, feed_dict={X: X_batch, Y: Y_batch})\n",
    "        \n",
    "        if i % 200 == 0:\n",
    "            train_loss = sess.run(cross_entropy, feed_dict={X: X_train, Y: Y_train})\n",
    "            print(f'Train set loss for update step {i}: {train_loss}')\n",
    "            train_losses.append(train_loss)\n",
    "            test_accuracy = sess.run(accuracy, feed_dict={X: X_test, Y: Y_test})\n",
    "            print(f'Test set accuracy for update step {i}:  {round(test_accuracy*100, 2)}%')\n",
    "            test_accuracies.append(test_accuracy)\n",
    "    \n",
    "    test_set_accuracy = sess.run(accuracy, feed_dict={X: X_test, Y: Y_test})\n",
    "\n",
    "    print('--------------------------------')\n",
    "    print()\n",
    "    print(f'Final test set accuracy: {round(test_set_accuracy*100, 2)}%')    "
   ]
  },
  {
   "cell_type": "markdown",
   "metadata": {},
   "source": [
    "Training set cross-entropy loss evolution:"
   ]
  },
  {
   "cell_type": "code",
   "execution_count": 11,
   "metadata": {},
   "outputs": [
    {
     "data": {
      "text/plain": [
       "Text(0.5, 1.0, 'Training set loss evolution, 1-layer NN')"
      ]
     },
     "execution_count": 11,
     "metadata": {},
     "output_type": "execute_result"
    },
    {
     "data": {
      "image/png": "[encoded data removed]",
      "text/plain": [
       "<Figure size 432x288 with 1 Axes>"
      ]
     },
     "metadata": {
      "needs_background": "light"
     },
     "output_type": "display_data"
    }
   ],
   "source": [
    "plt.plot(train_losses)\n",
    "plt.title(\"Training set loss evolution, 1-layer NN\")"
   ]
  },
  {
   "cell_type": "markdown",
   "metadata": {},
   "source": [
    "Test set accuracy evolution:"
   ]
  },
  {
   "cell_type": "code",
   "execution_count": 12,
   "metadata": {},
   "outputs": [
    {
     "data": {
      "text/plain": [
       "Text(0.5, 1.0, 'Test set accuracy evolution, 1-layer NN')"
      ]
     },
     "execution_count": 12,
     "metadata": {},
     "output_type": "execute_result"
    },
    {
     "data": {
      "image/png": "[encoded data removed]",
      "text/plain": [
       "<Figure size 432x288 with 1 Axes>"
      ]
     },
     "metadata": {
      "needs_background": "light"
     },
     "output_type": "display_data"
    }
   ],
   "source": [
    "plt.plot(test_accuracies)\n",
    "plt.title(\"Test set accuracy evolution, 1-layer NN\")"
   ]
  },
  {
   "cell_type": "markdown",
   "metadata": {},
   "source": [
    "# 2. Add More Layers\n",
    "\n",
    "<img src=\"figs/8-comic2.png\" style=\"width: 500px;\"/>\n",
    "\n",
    "Now, let's improve the recognition accuracy by adding more layers to the neural network. The neurons in the second layer, instead of computing weighted sums of pixels will compute weighted sums of neuron outputs from the previous layer. We keep the softmax function as the activation function on the last layer, but on intermediate layers we will use the the **sigmoid** activation function. So, let's build a five-layer fully connected neural network with the following structure, and train the model with the trainging data and print out its accuracy on the test data.\n",
    "<img src=\"figs/9-five_layer.png\" style=\"width: 500px;\"/>"
   ]
  },
  {
   "cell_type": "code",
   "execution_count": 13,
   "metadata": {},
   "outputs": [
    {
     "name": "stdout",
     "output_type": "stream",
     "text": [
      "Train set loss for update step 0: 2.3030364513397217\n",
      "Test set accuracy for update step 0:  9.58%\n",
      "Train set loss for update step 200: 2.30299711227417\n",
      "Test set accuracy for update step 200:  9.58%\n",
      "Train set loss for update step 400: 2.3029236793518066\n",
      "Test set accuracy for update step 400:  9.58%\n",
      "Train set loss for update step 600: 2.302990436553955\n",
      "Test set accuracy for update step 600:  9.58%\n",
      "Train set loss for update step 800: 2.303009033203125\n",
      "Test set accuracy for update step 800:  9.58%\n",
      "Train set loss for update step 1000: 2.3030271530151367\n",
      "Test set accuracy for update step 1000:  9.58%\n",
      "Train set loss for update step 1200: 2.3030714988708496\n",
      "Test set accuracy for update step 1200:  9.58%\n",
      "Train set loss for update step 1400: 2.3029286861419678\n",
      "Test set accuracy for update step 1400:  9.58%\n",
      "Train set loss for update step 1600: 2.3027985095977783\n",
      "Test set accuracy for update step 1600:  9.58%\n",
      "Train set loss for update step 1800: 2.302783489227295\n",
      "Test set accuracy for update step 1800:  9.58%\n",
      "Train set loss for update step 2000: 2.3027994632720947\n",
      "Test set accuracy for update step 2000:  9.58%\n",
      "Train set loss for update step 2200: 2.302708625793457\n",
      "Test set accuracy for update step 2200:  13.19%\n",
      "Train set loss for update step 2400: 2.302729845046997\n",
      "Test set accuracy for update step 2400:  10.28%\n",
      "Train set loss for update step 2600: 2.302776336669922\n",
      "Test set accuracy for update step 2600:  10.28%\n",
      "Train set loss for update step 2800: 2.3026938438415527\n",
      "Test set accuracy for update step 2800:  10.28%\n",
      "Train set loss for update step 3000: 2.302793264389038\n",
      "Test set accuracy for update step 3000:  10.28%\n",
      "Train set loss for update step 3200: 2.302652597427368\n",
      "Test set accuracy for update step 3200:  10.28%\n",
      "Train set loss for update step 3400: 2.302713632583618\n",
      "Test set accuracy for update step 3400:  10.28%\n",
      "Train set loss for update step 3600: 2.302640438079834\n",
      "Test set accuracy for update step 3600:  10.28%\n",
      "Train set loss for update step 3800: 2.302565574645996\n",
      "Test set accuracy for update step 3800:  10.28%\n",
      "Train set loss for update step 4000: 2.3024046421051025\n",
      "Test set accuracy for update step 4000:  10.28%\n",
      "Train set loss for update step 4200: 2.302422523498535\n",
      "Test set accuracy for update step 4200:  10.28%\n",
      "Train set loss for update step 4400: 2.302368402481079\n",
      "Test set accuracy for update step 4400:  10.28%\n",
      "Train set loss for update step 4600: 2.3023698329925537\n",
      "Test set accuracy for update step 4600:  10.28%\n",
      "Train set loss for update step 4800: 2.3023810386657715\n",
      "Test set accuracy for update step 4800:  10.28%\n",
      "--------------------------------\n",
      "\n",
      "Final test set accuracy: 10.28%\n"
     ]
    }
   ],
   "source": [
    "# TODO: Replace <FILL IN> with appropriate code\n",
    "\n",
    "# neural network with five layers\n",
    "#\n",
    "# · · · · · · · · · ·          (input data, flattened pixels)       X [batch, 784]   \n",
    "# \\x/x\\x/x\\x/x\\x/x\\x/       -- fully connected layer (sigmoid)      W1 [784, 200]      B1 [200]\n",
    "#  · · · · · · · · ·                                                Y1_hat [batch, 200]\n",
    "#   \\x/x\\x/x\\x/x\\x/         -- fully connected layer (sigmoid)      W2 [200, 100]      B2 [100]\n",
    "#    · · · · · · ·                                                  Y2_hat [batch, 100]\n",
    "#     \\x/x\\x/x\\x/           -- fully connected layer (sigmoid)      W3 [100, 60]       B3 [60]\n",
    "#      · · · · ·                                                    Y3_hat [batch, 60]\n",
    "#       \\x/x\\x/             -- fully connected layer (sigmoid)      W4 [60, 30]        B4 [30]\n",
    "#        · · ·                                                      Y4_hat [batch, 30]\n",
    "#         \\x/               -- fully connected layer (softmax)      W5 [30, 10]        B5 [10]\n",
    "#          ·                                                        Y_hat [batch, 10]\n",
    "\n",
    "# to reset the Tensorflow default graph\n",
    "reset_graph()\n",
    "\n",
    "########################################\n",
    "# define variables and placeholders\n",
    "########################################\n",
    "X = tf.placeholder(tf.float32, [None, 28, 28, 1], name=\"input\")\n",
    "Y = tf.placeholder(tf.float32, shape=(None, 10), name=\"labels\")\n",
    "\n",
    "# five layers and their number of neurons, i.e., 200, 100, 60, 30, and 10\n",
    "W1 = tf.Variable(tf.truncated_normal([784, 200], stddev=0.1), name=\"weigths1\")\n",
    "B1 = tf.zeros([200], name=\"bias1\")\n",
    "\n",
    "W2 = tf.Variable(tf.truncated_normal([200, 100], stddev=0.1), name=\"weigths2\")\n",
    "B2 = tf.zeros([100], name=\"bias2\")\n",
    "\n",
    "W3 = tf.Variable(tf.truncated_normal([100, 60], stddev=0.1), name=\"weigths3\")\n",
    "B3 = tf.zeros([60], name=\"bias3\")\n",
    "\n",
    "W4 = tf.Variable(tf.truncated_normal([60, 30], stddev=0.1), name=\"weigths4\")\n",
    "B4 = tf.zeros([30], name=\"bias4\")\n",
    "\n",
    "W5 = tf.Variable(tf.truncated_normal([30, 10], stddev=0.1), name=\"weigths5\")\n",
    "B5 = tf.zeros([10], name=\"bias5\")\n",
    "\n",
    "########################################\n",
    "# build the model\n",
    "########################################\n",
    "XX = XX = tf.reshape(X, [-1, 784], name=\"input_flattened\")\n",
    "\n",
    "Y1_hat = tf.nn.sigmoid(tf.add(tf.matmul(XX, W1), B1), name=\"out1\")\n",
    "Y2_hat = tf.nn.sigmoid(tf.add(tf.matmul(Y1_hat, W2), B2), name=\"out2\")\n",
    "Y3_hat = tf.nn.sigmoid(tf.add(tf.matmul(Y2_hat, W3), B3), name=\"out3\")\n",
    "Y4_hat = tf.nn.sigmoid(tf.add(tf.matmul(Y3_hat, W4), B4), name=\"out4\")\n",
    "Y_hat = tf.nn.softmax(tf.add(tf.matmul(Y4_hat, W5), B5), name=\"out_final\")\n",
    "\n",
    "########################################\n",
    "# define the cost function\n",
    "########################################\n",
    "cross_entropy = tf.reduce_mean(tf.losses.softmax_cross_entropy(onehot_labels= Y, logits=Y_hat))\n",
    "\n",
    "########################################\n",
    "# define the optimizer\n",
    "########################################\n",
    "optimizer = tf.train.GradientDescentOptimizer(learning_rate = 0.005)\n",
    "train_step = optimizer.minimize(cross_entropy)\n",
    "\n",
    "########################################\n",
    "# execute the model\n",
    "########################################\n",
    "init = tf.global_variables_initializer()\n",
    "\n",
    "n_epochs = 5000\n",
    "\n",
    "X_train_temp, Y_train = mnist.train.images, mnist.train.labels\n",
    "X_train = np.reshape(X_train_temp, (-1, 28, 28, 1))\n",
    "\n",
    "test_accuracies = []\n",
    "\n",
    "predictions = tf.equal(tf.argmax(Y_hat, 1), tf.argmax(Y, 1))\n",
    "accuracy = tf.reduce_mean(tf.cast(predictions, tf.float32))\n",
    "\n",
    "X_test_temp, Y_test = mnist.test.images, mnist.test.labels\n",
    "X_test = np.reshape(X_test_temp, (-1, 28, 28, 1))\n",
    "\n",
    "with tf.Session() as sess:\n",
    "    sess.run(init)\n",
    "    \n",
    "    for i in range(n_epochs):\n",
    "        \n",
    "        X_batch_temp, Y_batch = mnist.train.next_batch(100)\n",
    "        X_batch = np.reshape(X_batch_temp, (-1, 28, 28, 1))\n",
    "        \n",
    "        sess.run(train_step, feed_dict={X: X_batch, Y: Y_batch})\n",
    "        \n",
    "        if i % 200 == 0:\n",
    "            train_loss = sess.run(cross_entropy, feed_dict={X: X_train, Y: Y_train})\n",
    "            print(f'Train set loss for update step {i}: {train_loss}')\n",
    "            train_losses.append(train_loss)\n",
    "            test_accuracy = sess.run(accuracy, feed_dict={X: X_test, Y: Y_test})\n",
    "            print(f'Test set accuracy for update step {i}:  {round(test_accuracy*100, 2)}%')\n",
    "            test_accuracies.append(test_accuracy)\n",
    "    \n",
    "    test_set_accuracy = sess.run(accuracy, feed_dict={X: X_test, Y: Y_test})\n",
    "\n",
    "    print('--------------------------------')\n",
    "    print()\n",
    "    print(f'Final test set accuracy: {round(test_set_accuracy*100, 2)}%')    "
   ]
  },
  {
   "cell_type": "code",
   "execution_count": 14,
   "metadata": {},
   "outputs": [
    {
     "data": {
      "text/plain": [
       "Text(0.5, 1.0, 'Multi-layer NN training set cross entropy loss evolution')"
      ]
     },
     "execution_count": 14,
     "metadata": {},
     "output_type": "execute_result"
    },
    {
     "data": {
      "image/png": "[encoded data removed]",
      "text/plain": [
       "<Figure size 432x288 with 1 Axes>"
      ]
     },
     "metadata": {
      "needs_background": "light"
     },
     "output_type": "display_data"
    }
   ],
   "source": [
    "plt.plot(train_losses)\n",
    "plt.title(\"Multi-layer NN training set cross entropy loss evolution\")"
   ]
  },
  {
   "cell_type": "code",
   "execution_count": 15,
   "metadata": {},
   "outputs": [
    {
     "data": {
      "text/plain": [
       "Text(0.5, 1.0, 'Multi-layer NN test set accuracy evolution')"
      ]
     },
     "execution_count": 15,
     "metadata": {},
     "output_type": "execute_result"
    },
    {
     "data": {
      "image/png": "[encoded data removed]",
      "text/plain": [
       "<Figure size 432x288 with 1 Axes>"
      ]
     },
     "metadata": {
      "needs_background": "light"
     },
     "output_type": "display_data"
    }
   ],
   "source": [
    "plt.plot(test_accuracies)\n",
    "plt.title(\"Multi-layer NN test set accuracy evolution\")"
   ]
  },
  {
   "cell_type": "markdown",
   "metadata": {},
   "source": [
    "---\n",
    "# 3. Special Care for Deep Networks\n",
    "As layers were added, neural networks tended to converge with more difficulties. For example, the accuracy could stuck at 0.1. Here, we want to apply some updates to the network we built in the previous part to improve its performance. \n",
    "\n",
    "### ReLU Activation Function\n",
    "<img src=\"figs/10-comic3.png\" style=\"width: 500px;\"/>\n",
    "The sigmoid activation function is actually quite problematic in deep networks. It squashes all values between 0 and 1 and when you do so repeatedly, neuron outputs and their gradients can vanish entirely. An alternative activation function is **ReLU** that shows better performance compare to sigmoid. It looks like as below:\n",
    "<img src=\"figs/11-relu.png\" style=\"width: 300px;\"/>\n",
    "\n",
    "### A Better Optimizer\n",
    "In very high dimensional spaces like here, **saddle points** are frequent. These are points that are not local minima, but where the gradient is nevertheless zero and the gradient descent optimizer stays stuck there. One possible solution to tackle this probelm is to use better optimizers, such as Adam optimizer `tf.train.AdamOptimizer`.\n",
    "\n",
    "### Random Initialisations\n",
    "When working with ReLUs, the best practice is to initialise bias values to small positive values, so that neurons operate in the non-zero range of the ReLU initially.\n",
    "\n",
    "### Learning Rate\n",
    "<img src=\"figs/12-comic4.png\" style=\"width: 500px;\"/>\n",
    "With two, three or four intermediate layers, you can now get close to 98% accuracy, if you push the iterations to 5000 or beyond. But, the results are not very consistent, and the curves jump up and down by a whole percent. A good solution is to start fast and decay the learning rate exponentially from $0.005$ to $0.0001$ for example. In order to pass a different learning rate to the `AdamOptimizer` at each iteration, you will need to define a new placeholder and feed it a new value at each iteration through `feed_dict`. Here is the formula for exponential decay: $learning\\_rate = lr\\_min + (lr\\_max - lr\\_min) * e^{\\frac{-i}{2000}}$, where $i$ is the iteration number.\n",
    "\n",
    "### NaN?\n",
    "In the network you built in the last section, you might see accuracy curve crashes and the console outputs NaN for the cross-entropy. It may happen, because you are attempting to compute a $log(0)$, which is indeed Not A Number (NaN). Remember that the cross-entropy involves a log, computed on the output of the softmax layer. Since softmax is essentially an exponential, which is never zero, we should be fine, but with 32 bit precision floating-point operations, exp(-100) is already a genuine zero. TensorFlow has a handy function that computes the softmax and the cross-entropy in a single step, implemented in a numerically stable way. To use it, you will need to separate the weighted sum plus bias on the last layer, before softmax is applied and then give it with the true values to the function `tf.nn.softmax_cross_entropy_with_logits`.\n",
    "\n",
    "In the code below, apply the following changes and show their impact on the accuracy of the model on training data, as well as the test data:\n",
    "* Replace the sigmoid activation function with ReLU\n",
    "* Use the Adam optimizer\n",
    "* Initialize weights with small random values between -0.2 and +0.2, and make sure biases are initialised with small positive values, for example 0.1\n",
    "* Update the learning rate in different iterations. Start fast and decay the learning rate exponentially from $0.005$ to $0.0001$, i.e., \n",
    "```\n",
    "max_learning_rate = 0.005\n",
    "min_learning_rate = 0.0001\n",
    "decay_speed = 2000.0\n",
    "```\n",
    "* Use `tf.nn.softmax_cross_entropy_with_logits` to prevent getting NaN in output."
   ]
  },
  {
   "cell_type": "code",
   "execution_count": 16,
   "metadata": {},
   "outputs": [
    {
     "name": "stdout",
     "output_type": "stream",
     "text": [
      "Train set loss for update step 0: 227.02622985839844\n",
      "Test set accuracy for update step 0:  13.62%\n",
      "Train set loss for update step 200: 172.00299072265625\n",
      "Test set accuracy for update step 200:  74.24%\n",
      "Train set loss for update step 400: 164.4776153564453\n",
      "Test set accuracy for update step 400:  82.07%\n",
      "Train set loss for update step 600: 162.25167846679688\n",
      "Test set accuracy for update step 600:  84.03%\n",
      "Train set loss for update step 800: 162.34002685546875\n",
      "Test set accuracy for update step 800:  83.82%\n",
      "Train set loss for update step 1000: 160.88693237304688\n",
      "Test set accuracy for update step 1000:  85.04%\n",
      "Train set loss for update step 1200: 160.78721618652344\n",
      "Test set accuracy for update step 1200:  85.27%\n",
      "Train set loss for update step 1400: 160.79580688476562\n",
      "Test set accuracy for update step 1400:  85.1%\n",
      "Train set loss for update step 1600: 160.33387756347656\n",
      "Test set accuracy for update step 1600:  85.62%\n",
      "Train set loss for update step 1800: 160.56385803222656\n",
      "Test set accuracy for update step 1800:  85.3%\n",
      "Train set loss for update step 2000: 159.5750732421875\n",
      "Test set accuracy for update step 2000:  86.33%\n",
      "Train set loss for update step 2200: 159.58773803710938\n",
      "Test set accuracy for update step 2200:  86.34%\n",
      "Train set loss for update step 2400: 160.02735900878906\n",
      "Test set accuracy for update step 2400:  85.71%\n",
      "Train set loss for update step 2600: 159.3041229248047\n",
      "Test set accuracy for update step 2600:  86.32%\n",
      "Train set loss for update step 2800: 152.8677520751953\n",
      "Test set accuracy for update step 2800:  92.77%\n",
      "Train set loss for update step 3000: 150.62744140625\n",
      "Test set accuracy for update step 3000:  94.72%\n",
      "Train set loss for update step 3200: 149.96017456054688\n",
      "Test set accuracy for update step 3200:  95.34%\n",
      "Train set loss for update step 3400: 150.07102966308594\n",
      "Test set accuracy for update step 3400:  95.36%\n",
      "Train set loss for update step 3600: 149.65625\n",
      "Test set accuracy for update step 3600:  95.72%\n",
      "Train set loss for update step 3800: 149.36618041992188\n",
      "Test set accuracy for update step 3800:  96.17%\n",
      "Train set loss for update step 4000: 149.1944580078125\n",
      "Test set accuracy for update step 4000:  96.08%\n",
      "Train set loss for update step 4200: 148.88442993164062\n",
      "Test set accuracy for update step 4200:  96.22%\n",
      "Train set loss for update step 4400: 148.71730041503906\n",
      "Test set accuracy for update step 4400:  96.5%\n",
      "Train set loss for update step 4600: 148.60195922851562\n",
      "Test set accuracy for update step 4600:  96.55%\n",
      "Train set loss for update step 4800: 148.60679626464844\n",
      "Test set accuracy for update step 4800:  96.62%\n",
      "--------------------------------\n",
      "\n",
      "Final test set accuracy: 96.78%\n"
     ]
    }
   ],
   "source": [
    "# TODO: Replace <FILL IN> with appropriate code\n",
    "\n",
    "# neural network with 5 layers\n",
    "#\n",
    "# · · · · · · · · · ·          (input data, flattened pixels)       X [batch, 784]   \n",
    "# \\x/x\\x/x\\x/x\\x/x\\x/       -- fully connected layer (sigmoid)      W1 [784, 200]      B1[200]\n",
    "#  · · · · · · · · ·                                                Y1_hat [batch, 200]\n",
    "#   \\x/x\\x/x\\x/x\\x/         -- fully connected layer (sigmoid)      W2 [200, 100]      B2[100]\n",
    "#    · · · · · · ·                                                  Y2_hat [batch, 100]\n",
    "#     \\x/x\\x/x\\x/           -- fully connected layer (sigmoid)      W3 [100, 60]       B3[60]\n",
    "#      · · · · ·                                                    Y3_hat [batch, 60]\n",
    "#       \\x/x\\x/             -- fully connected layer (sigmoid)      W4 [60, 30]        B4[30]\n",
    "#        · · ·                                                      Y4_hat [batch, 30]\n",
    "#         \\x/               -- fully connected layer (softmax)      W5 [30, 10]        B5[10]\n",
    "#          ·                                                        Y_hat [batch, 10]\n",
    "\n",
    "# to reset the Tensorflow default graph\n",
    "reset_graph()\n",
    "\n",
    "########################################\n",
    "# define variables and placeholders\n",
    "########################################\n",
    "X = tf.placeholder(tf.float32, [None, 28, 28, 1], name=\"input\")\n",
    "Y = tf.placeholder(tf.float32, shape=(None, 10), name=\"labels\")\n",
    "\n",
    "# variable learning rate\n",
    "learning_rate = tf.placeholder(tf.float32, shape=[])\n",
    "\n",
    "# five layers and their number of neurons, i.e., 200, 100, 60, 30, and 10\n",
    "# when using RELUs, make sure biases are initialised with small positive values, for example 0.1\n",
    "\n",
    "bias_initializer = tf.constant_initializer(value=0.1)\n",
    "\n",
    "W1 = tf.Variable(tf.truncated_normal([784, 200], stddev=0.2), name=\"weigths1\")\n",
    "B1 = tf.get_variable(\"bias1\", shape=[200], initializer=bias_initializer)\n",
    "\n",
    "W2 = tf.Variable(tf.truncated_normal([200, 100], stddev=0.2), name=\"weigths2\")\n",
    "B2 = tf.get_variable(\"bias2\", shape=[100], initializer=bias_initializer)\n",
    "\n",
    "W3 = tf.Variable(tf.truncated_normal([100, 60], stddev=0.2), name=\"weigths3\")\n",
    "B3 = tf.get_variable(\"bias3\", shape=[60], initializer=bias_initializer)\n",
    "\n",
    "W4 = tf.Variable(tf.truncated_normal([60, 30], stddev=0.2), name=\"weigths4\")\n",
    "B4 = tf.get_variable(\"bias4\", shape=[30], initializer=bias_initializer)\n",
    "\n",
    "W5 = tf.Variable(tf.truncated_normal([30, 10], stddev=0.2), name=\"weigths5\")\n",
    "B5 = tf.get_variable(\"bias5\", shape=[10], initializer=bias_initializer)\n",
    "\n",
    "########################################\n",
    "# build the model\n",
    "########################################\n",
    "XX = tf.reshape(X, [-1, 784], name=\"input_flattened\")\n",
    "\n",
    "Y1_hat = tf.nn.relu(tf.add(tf.matmul(XX, W1), B1), name=\"out1\")\n",
    "Y2_hat = tf.nn.relu(tf.add(tf.matmul(Y1_hat, W2), B2), name=\"out2\")\n",
    "Y3_hat = tf.nn.relu(tf.add(tf.matmul(Y2_hat, W3), B3), name=\"out3\")\n",
    "Y4_hat = tf.nn.relu(tf.add(tf.matmul(Y3_hat, W4), B4), name=\"out4\")\n",
    "Y_hat = tf.nn.softmax(tf.add(tf.matmul(Y4_hat, W5), B5), name=\"out_final\")\n",
    "\n",
    "########################################\n",
    "# defining the cost function\n",
    "########################################\n",
    "cross_entropy = tf.losses.softmax_cross_entropy(onehot_labels=Y, logits=Y_hat)\n",
    "cross_entropy = tf.reduce_mean(cross_entropy) * 100\n",
    "\n",
    "########################################\n",
    "# define the optimizer\n",
    "########################################\n",
    "optimizer = tf.train.AdamOptimizer(learning_rate)\n",
    "train_step = optimizer.minimize(cross_entropy)\n",
    "\n",
    "########################################\n",
    "# execute the model\n",
    "########################################\n",
    "init = tf.global_variables_initializer()\n",
    "\n",
    "n_epochs = 5000\n",
    "\n",
    "max_learning_rate = 0.005\n",
    "min_learning_rate = 0.0001\n",
    "decay_speed = 2000.0\n",
    "\n",
    "train_losses = []\n",
    "test_accuracies = []\n",
    "learning_rates= []\n",
    "\n",
    "predictions = tf.equal(tf.argmax(Y_hat, 1), tf.argmax(Y, 1))\n",
    "accuracy = tf.reduce_mean(tf.cast(predictions, tf.float32))\n",
    "\n",
    "X_train_temp, Y_train = mnist.train.images, mnist.train.labels\n",
    "X_train = np.reshape(X_train_temp, (-1, 28, 28, 1))\n",
    "\n",
    "X_test_temp, Y_test = mnist.test.images, mnist.test.labels\n",
    "X_test = np.reshape(X_test_temp, (-1, 28, 28, 1))\n",
    "    \n",
    "# checks if learning rate has reached its minimum value\n",
    "flag = False\n",
    "\n",
    "new_learning_rate = max_learning_rate\n",
    "\n",
    "with tf.Session() as sess:\n",
    "    sess.run(init)\n",
    "    \n",
    "    for i in range(n_epochs):\n",
    "        \n",
    "        X_batch_temp, Y_batch = mnist.train.next_batch(100)\n",
    "        X_batch = np.reshape(X_batch_temp, (-1, 28, 28, 1))\n",
    "        \n",
    "        if not flag:\n",
    "            new_learning_rate = min_learning_rate + (max_learning_rate - min_learning_rate) * np.exp(-i / 2000)\n",
    "            if new_learning_rate < min_learning_rate:\n",
    "                flag = True\n",
    "                new_learning_rate = min_learning_rate\n",
    "        learning_rates.append(new_learning_rate)\n",
    "        \n",
    "        sess.run(train_step, feed_dict={X: X_batch, Y: Y_batch, learning_rate: new_learning_rate})\n",
    "        \n",
    "        if i % 200 == 0:\n",
    "            train_loss = sess.run(cross_entropy, feed_dict={X: X_train, Y: Y_train, learning_rate: new_learning_rate})\n",
    "            print(f'Train set loss for update step {i}: {train_loss}')\n",
    "            train_losses.append(train_loss)\n",
    "            test_accuracy = sess.run(accuracy, feed_dict={X: X_test, Y: Y_test, learning_rate: new_learning_rate})\n",
    "            print(f'Test set accuracy for update step {i}:  {round(test_accuracy*100, 2)}%')\n",
    "            test_accuracies.append(test_accuracy)\n",
    "    \n",
    "    test_set_accuracy = sess.run(accuracy, feed_dict={X: X_test, Y: Y_test})\n",
    "\n",
    "    print('--------------------------------')\n",
    "    print()\n",
    "    print(f'Final test set accuracy: {round(test_set_accuracy*100, 2)}%')  "
   ]
  },
  {
   "cell_type": "code",
   "execution_count": 17,
   "metadata": {},
   "outputs": [
    {
     "data": {
      "text/plain": [
       "Text(0.5, 1.0, 'Training set loss, multi-Layer NN with ReLU activation')"
      ]
     },
     "execution_count": 17,
     "metadata": {},
     "output_type": "execute_result"
    },
    {
     "data": {
      "image/png": "[encoded data removed]",
      "text/plain": [
       "<Figure size 432x288 with 1 Axes>"
      ]
     },
     "metadata": {
      "needs_background": "light"
     },
     "output_type": "display_data"
    }
   ],
   "source": [
    "plt.plot(train_losses)\n",
    "plt.title(\"Training set loss, multi-Layer NN with ReLU activation\")"
   ]
  },
  {
   "cell_type": "code",
   "execution_count": 18,
   "metadata": {},
   "outputs": [
    {
     "data": {
      "text/plain": [
       "Text(0.5, 1.0, 'Test set accuracy, multi-Layer NN with ReLU activation')"
      ]
     },
     "execution_count": 18,
     "metadata": {},
     "output_type": "execute_result"
    },
    {
     "data": {
      "image/png": "[encoded data removed]",
      "text/plain": [
       "<Figure size 432x288 with 1 Axes>"
      ]
     },
     "metadata": {
      "needs_background": "light"
     },
     "output_type": "display_data"
    }
   ],
   "source": [
    "plt.plot(test_accuracies)\n",
    "plt.title(\"Test set accuracy, multi-Layer NN with ReLU activation\")"
   ]
  },
  {
   "cell_type": "code",
   "execution_count": 19,
   "metadata": {},
   "outputs": [
    {
     "data": {
      "text/plain": [
       "Text(0.5, 1.0, 'Learning rate evolution')"
      ]
     },
     "execution_count": 19,
     "metadata": {},
     "output_type": "execute_result"
    },
    {
     "data": {
      "image/png": "[encoded data removed]",
      "text/plain": [
       "<Figure size 432x288 with 1 Axes>"
      ]
     },
     "metadata": {
      "needs_background": "light"
     },
     "output_type": "display_data"
    }
   ],
   "source": [
    "plt.plot(learning_rates)\n",
    "plt.title(\"Learning rate evolution\")"
   ]
  },
  {
   "cell_type": "markdown",
   "metadata": {},
   "source": [
    "---\n",
    "# 4. Overfitting and Dropout\n",
    "<img src=\"figs/13-comic5.png\" style=\"width: 500px;\"/>\n",
    "You will have noticed that cross-entropy curves for test and training data start disconnecting after a couple thousand iterations. The learning algorithm works on training data only and optimises the training cross-entropy accordingly. It never sees test data so it is not surprising that after a while its work no longer has an effect on the test cross-entropy which stops dropping and sometimes even bounces back up. \n",
    "<img src=\"figs/14-overfit.png\" style=\"width: 500px;\"/>\n",
    "This disconnect is usually labeled **overfitting** and when you see it, you can try to apply a regularisation technique called **dropout**. In dropout, at each training iteration, you drop random neurons from the network. You choose a probability `pkeep` for a neuron to be kept, usually between 50% and 75%, and then at each iteration of the training loop, you randomly remove neurons with all their weights and biases. Different neurons will be dropped at each iteration. When testing the performance of your network of course you put all the neurons back (`pkeep = 1`).\n",
    "<img src=\"figs/15-dropout.png\" style=\"width: 500px;\"/>\n",
    "TensorFlow offers a dropout function to be used on the outputs of a layer of neurons. It randomly zeroes-out some of the outputs and boosts the remaining ones by `1 / pkeep`. You can add dropout after each intermediate layer in the network now. \n",
    "\n",
    "In the following code, use the dropout between each layer during the training, and set the probability `pkeep` once to $50%$ and another time to $75%$ and compare their results."
   ]
  },
  {
   "cell_type": "code",
   "execution_count": 20,
   "metadata": {},
   "outputs": [
    {
     "name": "stdout",
     "output_type": "stream",
     "text": [
      "####################################################################\n",
      "\n",
      "DROPOUT APPLIED: 0.5\n",
      "\n",
      "Train set loss for update step 0: 234.12611389160156\n",
      "Test set accuracy for update step 0:  7.39%\n",
      "Train set loss for update step 200: 224.8258056640625\n",
      "Test set accuracy for update step 200:  42.98%\n",
      "Train set loss for update step 400: 216.25123596191406\n",
      "Test set accuracy for update step 400:  48.23%\n",
      "Train set loss for update step 600: 211.53802490234375\n",
      "Test set accuracy for update step 600:  42.4%\n",
      "Train set loss for update step 800: 204.3121337890625\n",
      "Test set accuracy for update step 800:  51.0%\n",
      "Train set loss for update step 1000: 200.28135681152344\n",
      "Test set accuracy for update step 1000:  57.49%\n",
      "Train set loss for update step 1200: 197.32460021972656\n",
      "Test set accuracy for update step 1200:  58.23%\n",
      "Train set loss for update step 1400: 195.1085968017578\n",
      "Test set accuracy for update step 1400:  58.2%\n",
      "Train set loss for update step 1600: 193.74620056152344\n",
      "Test set accuracy for update step 1600:  59.08%\n",
      "Train set loss for update step 1800: 193.07901000976562\n",
      "Test set accuracy for update step 1800:  58.25%\n",
      "Train set loss for update step 2000: 191.21043395996094\n",
      "Test set accuracy for update step 2000:  59.89%\n",
      "Train set loss for update step 2200: 190.5458526611328\n",
      "Test set accuracy for update step 2200:  62.36%\n",
      "Train set loss for update step 2400: 189.69041442871094\n",
      "Test set accuracy for update step 2400:  62.22%\n",
      "Train set loss for update step 2600: 188.5999755859375\n",
      "Test set accuracy for update step 2600:  64.6%\n",
      "Train set loss for update step 2800: 187.54428100585938\n",
      "Test set accuracy for update step 2800:  65.94%\n",
      "Train set loss for update step 3000: 187.49575805664062\n",
      "Test set accuracy for update step 3000:  65.97%\n",
      "Train set loss for update step 3200: 186.55348205566406\n",
      "Test set accuracy for update step 3200:  66.51%\n",
      "Train set loss for update step 3400: 185.67935180664062\n",
      "Test set accuracy for update step 3400:  67.33%\n",
      "Train set loss for update step 3600: 185.1078338623047\n",
      "Test set accuracy for update step 3600:  67.28%\n",
      "Train set loss for update step 3800: 184.58079528808594\n",
      "Test set accuracy for update step 3800:  67.34%\n",
      "Train set loss for update step 4000: 184.48548889160156\n",
      "Test set accuracy for update step 4000:  67.32%\n",
      "Train set loss for update step 4200: 183.89134216308594\n",
      "Test set accuracy for update step 4200:  67.42%\n",
      "Train set loss for update step 4400: 183.52340698242188\n",
      "Test set accuracy for update step 4400:  67.63%\n",
      "Train set loss for update step 4600: 183.0250244140625\n",
      "Test set accuracy for update step 4600:  68.63%\n",
      "Train set loss for update step 4800: 182.6267547607422\n",
      "Test set accuracy for update step 4800:  68.89%\n",
      "--------------------------------\n",
      "\n",
      "Final test set accuracy: 69.72%\n",
      "####################################################################\n",
      "\n",
      "####################################################################\n",
      "\n",
      "DROPOUT APPLIED: 0.75\n",
      "\n",
      "Train set loss for update step 0: 232.0356903076172\n",
      "Test set accuracy for update step 0:  14.73%\n",
      "Train set loss for update step 200: 176.25282287597656\n",
      "Test set accuracy for update step 200:  73.67%\n",
      "Train set loss for update step 400: 173.242919921875\n",
      "Test set accuracy for update step 400:  75.48%\n",
      "Train set loss for update step 600: 171.20751953125\n",
      "Test set accuracy for update step 600:  77.25%\n",
      "Train set loss for update step 800: 165.54263305664062\n",
      "Test set accuracy for update step 800:  85.44%\n",
      "Train set loss for update step 1000: 160.2613983154297\n",
      "Test set accuracy for update step 1000:  90.21%\n",
      "Train set loss for update step 1200: 158.38084411621094\n",
      "Test set accuracy for update step 1200:  90.95%\n",
      "Train set loss for update step 1400: 158.78741455078125\n",
      "Test set accuracy for update step 1400:  90.5%\n",
      "Train set loss for update step 1600: 157.3679656982422\n",
      "Test set accuracy for update step 1600:  91.52%\n",
      "Train set loss for update step 1800: 155.54953002929688\n",
      "Test set accuracy for update step 1800:  92.91%\n",
      "Train set loss for update step 2000: 155.87644958496094\n",
      "Test set accuracy for update step 2000:  92.39%\n",
      "Train set loss for update step 2200: 155.87547302246094\n",
      "Test set accuracy for update step 2200:  92.49%\n",
      "Train set loss for update step 2400: 155.4241180419922\n",
      "Test set accuracy for update step 2400:  93.0%\n",
      "Train set loss for update step 2600: 154.825439453125\n",
      "Test set accuracy for update step 2600:  93.36%\n",
      "Train set loss for update step 2800: 154.12091064453125\n",
      "Test set accuracy for update step 2800:  93.67%\n",
      "Train set loss for update step 3000: 154.4334716796875\n",
      "Test set accuracy for update step 3000:  93.61%\n",
      "Train set loss for update step 3200: 153.6511993408203\n",
      "Test set accuracy for update step 3200:  93.96%\n",
      "Train set loss for update step 3400: 153.4400634765625\n",
      "Test set accuracy for update step 3400:  94.1%\n",
      "Train set loss for update step 3600: 153.113525390625\n",
      "Test set accuracy for update step 3600:  94.33%\n",
      "Train set loss for update step 3800: 153.30706787109375\n",
      "Test set accuracy for update step 3800:  94.2%\n",
      "Train set loss for update step 4000: 153.06019592285156\n",
      "Test set accuracy for update step 4000:  94.46%\n",
      "Train set loss for update step 4200: 153.1776123046875\n",
      "Test set accuracy for update step 4200:  94.44%\n",
      "Train set loss for update step 4400: 153.45913696289062\n",
      "Test set accuracy for update step 4400:  94.12%\n",
      "Train set loss for update step 4600: 152.9293212890625\n",
      "Test set accuracy for update step 4600:  94.54%\n",
      "Train set loss for update step 4800: 152.7128143310547\n",
      "Test set accuracy for update step 4800:  94.68%\n",
      "--------------------------------\n",
      "\n",
      "Final test set accuracy: 94.6%\n",
      "####################################################################\n",
      "\n"
     ]
    }
   ],
   "source": [
    "# TODO: Replace <FILL IN> with appropriate code\n",
    "\n",
    "# neural network with 5 layers\n",
    "#\n",
    "# · · · · · · · · · ·          (input data, flattened pixels)       X [batch, 784]   \n",
    "# \\x/x\\x/x\\x/x\\x/x\\x/       -- fully connected layer (sigmoid)      W1 [784, 200]      B1[200]\n",
    "#  · · · · · · · · ·                                                Y1_hat [batch, 200]\n",
    "#   \\x/x\\x/x\\x/x\\x/         -- fully connected layer (sigmoid)      W2 [200, 100]      B2[100]\n",
    "#    · · · · · · ·                                                  Y2_hat [batch, 100]\n",
    "#     \\x/x\\x/x\\x/           -- fully connected layer (sigmoid)      W3 [100, 60]       B3[60]\n",
    "#      · · · · ·                                                    Y3_hat [batch, 60]\n",
    "#       \\x/x\\x/             -- fully connected layer (sigmoid)      W4 [60, 30]        B4[30]\n",
    "#        · · ·                                                      Y4_hat [batch, 30]\n",
    "#         \\x/               -- fully connected layer (softmax)      W5 [30, 10]        B5[10]\n",
    "#          ·                                                        Y_hat [batch, 10]\n",
    "\n",
    "# to reset the Tensorflow default graph\n",
    "reset_graph()\n",
    "\n",
    "########################################\n",
    "# define variables and placeholders\n",
    "########################################\n",
    "X = tf.placeholder(tf.float32, [None, 28, 28, 1], name=\"input\")\n",
    "Y = tf.placeholder(tf.float32, shape=(None, 10), name=\"labels\")\n",
    "\n",
    "# variable learning rate\n",
    "learning_rate = tf.placeholder(tf.float32, shape=[])\n",
    "\n",
    "# probability of keeping a node during dropout = 1.0 at test time (no dropout) and 0.75 at training time\n",
    "pkeep = tf.placeholder(tf.float32, shape=[])\n",
    "\n",
    "bias_initializer= tf.constant_initializer(value=0.1)\n",
    "# five layers and their number of neurons, i.e., 200, 100, 60, 30, and 10\n",
    "# when using RELUs, make sure biases are initialised with small positive values, for example 0.1\n",
    "W1 = tf.Variable(tf.truncated_normal([784, 200], stddev=0.2), name=\"weigths1\")\n",
    "B1 = tf.get_variable(\"bias1\", shape=[200], initializer=bias_initializer)\n",
    "\n",
    "W2 = tf.Variable(tf.truncated_normal([200, 100], stddev=0.2), name=\"weigths2\")\n",
    "B2 = tf.get_variable(\"bias2\", shape=[100], initializer=bias_initializer)\n",
    "\n",
    "W3 = tf.Variable(tf.truncated_normal([100, 60], stddev=0.2), name=\"weigths3\")\n",
    "B3 = tf.get_variable(\"bias3\", shape=[60], initializer=bias_initializer)\n",
    "\n",
    "W4 = tf.Variable(tf.truncated_normal([60, 30], stddev=0.2), name=\"weigths4\")\n",
    "B4 = tf.get_variable(\"bias4\", shape=[30], initializer=bias_initializer)\n",
    "\n",
    "W5 = tf.Variable(tf.truncated_normal([30, 10], stddev=0.2), name=\"weigths5\")\n",
    "B5 = tf.get_variable(\"bias5\", shape=[10], initializer=bias_initializer)\n",
    "\n",
    "########################################\n",
    "# build the model\n",
    "########################################\n",
    "XX = tf.reshape(X, [-1, 784], name=\"input_flattened\")\n",
    "\n",
    "Y1_hat = tf.nn.relu(tf.add(tf.matmul(XX, W1), B1), name=\"out1\")\n",
    "Y1_hat_dropout = tf.nn.dropout(Y1_hat, keep_prob=pkeep, name=\"dropout1\")\n",
    "Y2_hat_dropout = tf.nn.dropout(tf.nn.relu(tf.add(tf.matmul(Y1_hat_dropout, W2), B2)), keep_prob=pkeep, name=\"dropout2\")\n",
    "Y3_hat_dropout = tf.nn.dropout(tf.nn.relu(tf.add(tf.matmul(Y2_hat_dropout, W3), B3)), keep_prob=pkeep, name=\"dropout3\")\n",
    "Y4_hat_dropout = tf.nn.dropout(tf.nn.relu(tf.add(tf.matmul(Y3_hat_dropout, W4), B4)), keep_prob=pkeep, name=\"dropout4\")\n",
    "Y_hat = tf.nn.softmax(tf.add(tf.matmul(Y4_hat_dropout, W5), B5), name=\"dropout5\")\n",
    "\n",
    "########################################\n",
    "# define the cost function\n",
    "########################################\n",
    "cross_entropy = tf.losses.softmax_cross_entropy(onehot_labels=Y, logits=Y_hat)\n",
    "cross_entropy = tf.reduce_mean(cross_entropy) * 100\n",
    "\n",
    "########################################\n",
    "# define the optimizer\n",
    "########################################\n",
    "optimizer = tf.train.AdamOptimizer(learning_rate)\n",
    "train_step = optimizer.minimize(cross_entropy)\n",
    "\n",
    "########################################\n",
    "# execute the model\n",
    "########################################\n",
    "init = tf.global_variables_initializer()\n",
    "\n",
    "max_learning_rate = 0.005\n",
    "min_learning_rate = 0.0001\n",
    "decay_speed = 2000.0\n",
    "\n",
    "train_losses = {'0.5': [], '0.75': []}\n",
    "test_accuracies = {'0.5': [], '0.75': []}\n",
    "\n",
    "predictions = tf.equal(tf.argmax(Y_hat, 1), tf.argmax(Y, 1))\n",
    "accuracy = tf.reduce_mean(tf.cast(predictions, tf.float32))\n",
    "\n",
    "X_train_temp, Y_train = mnist.train.images, mnist.train.labels\n",
    "X_train = np.reshape(X_train_temp, (-1, 28, 28, 1))\n",
    "\n",
    "X_test_temp, Y_test = mnist.test.images, mnist.test.labels\n",
    "X_test = np.reshape(X_test_temp, (-1, 28, 28, 1))\n",
    "    \n",
    "# checks if learning rate has reached its minimum value\n",
    "flag = False\n",
    "\n",
    "new_learning_rate = max_learning_rate\n",
    "for dropout_amount in [0.5, 0.75]:\n",
    "    print('####################################################################')\n",
    "    print()\n",
    "    print(f\"DROPOUT APPLIED: {dropout_amount}\")\n",
    "    print()\n",
    "    with tf.Session() as sess:\n",
    "        sess.run(init)\n",
    "\n",
    "        for i in range(n_epochs):\n",
    "\n",
    "            X_batch_temp, Y_batch = mnist.train.next_batch(100)\n",
    "            X_batch = np.reshape(X_batch_temp, (-1, 28, 28, 1))\n",
    "\n",
    "            if not flag:\n",
    "                new_learning_rate = min_learning_rate + (max_learning_rate - min_learning_rate) * np.exp(-i / 2000)\n",
    "                if new_learning_rate < min_learning_rate:\n",
    "                    flag = True\n",
    "                    new_learning_rate = min_learning_rate\n",
    "            learning_rates.append(new_learning_rate)\n",
    "\n",
    "            sess.run(train_step, feed_dict={X: X_batch, Y: Y_batch, learning_rate: new_learning_rate, pkeep: dropout_amount})\n",
    "\n",
    "            if i % 200 == 0:\n",
    "                train_loss = sess.run(cross_entropy, feed_dict={X: X_train, Y: Y_train, learning_rate: new_learning_rate, pkeep: dropout_amount})\n",
    "                print(f'Train set loss for update step {i}: {train_loss}')\n",
    "                train_losses[str(dropout_amount)].append(train_loss)\n",
    "                test_accuracy = sess.run(accuracy, feed_dict={X: X_test, Y: Y_test, learning_rate: new_learning_rate, pkeep: 1.0})\n",
    "                print(f'Test set accuracy for update step {i}:  {round(test_accuracy*100, 2)}%')\n",
    "                test_accuracies[str(dropout_amount)].append(test_accuracy)\n",
    "\n",
    "        test_set_accuracy = sess.run(accuracy, feed_dict={X: X_test, Y: Y_test, learning_rate: new_learning_rate, pkeep: 1.0})\n",
    "\n",
    "        print('--------------------------------')\n",
    "        print()\n",
    "        print(f'Final test set accuracy: {round(test_set_accuracy*100, 2)}%') \n",
    "        \n",
    "        print('####################################################################')\n",
    "        print()\n",
    "\n"
   ]
  },
  {
   "cell_type": "markdown",
   "metadata": {},
   "source": [
    "Learning stats for $dropout=0.5$"
   ]
  },
  {
   "cell_type": "code",
   "execution_count": 21,
   "metadata": {},
   "outputs": [
    {
     "data": {
      "text/plain": [
       "Text(0.5, 1.0, 'Train set cross entropy loss evolution with dropout=0.5')"
      ]
     },
     "execution_count": 21,
     "metadata": {},
     "output_type": "execute_result"
    },
    {
     "data": {
      "image/png": "[encoded data removed]",
      "text/plain": [
       "<Figure size 432x288 with 1 Axes>"
      ]
     },
     "metadata": {
      "needs_background": "light"
     },
     "output_type": "display_data"
    }
   ],
   "source": [
    "plt.plot(train_losses['0.5'])\n",
    "plt.title('Train set cross entropy loss evolution with dropout=0.5')"
   ]
  },
  {
   "cell_type": "code",
   "execution_count": 22,
   "metadata": {},
   "outputs": [
    {
     "data": {
      "text/plain": [
       "Text(0.5, 1.0, 'Test set accuracy evolution with dropout=0.5')"
      ]
     },
     "execution_count": 22,
     "metadata": {},
     "output_type": "execute_result"
    },
    {
     "data": {
      "image/png": "[encoded data removed]",
      "text/plain": [
       "<Figure size 432x288 with 1 Axes>"
      ]
     },
     "metadata": {
      "needs_background": "light"
     },
     "output_type": "display_data"
    }
   ],
   "source": [
    "plt.plot(test_accuracies['0.5'])\n",
    "plt.title('Test set accuracy evolution with dropout=0.5')"
   ]
  },
  {
   "cell_type": "markdown",
   "metadata": {},
   "source": [
    "Learning stats for $dropout=0.75$"
   ]
  },
  {
   "cell_type": "code",
   "execution_count": 23,
   "metadata": {},
   "outputs": [
    {
     "data": {
      "text/plain": [
       "Text(0.5, 1.0, 'Train set cross entropy loss evolution with dropout=0.75')"
      ]
     },
     "execution_count": 23,
     "metadata": {},
     "output_type": "execute_result"
    },
    {
     "data": {
      "image/png": "[encoded data removed]",
      "text/plain": [
       "<Figure size 432x288 with 1 Axes>"
      ]
     },
     "metadata": {
      "needs_background": "light"
     },
     "output_type": "display_data"
    }
   ],
   "source": [
    "plt.plot(train_losses['0.75'])\n",
    "plt.title('Train set cross entropy loss evolution with dropout=0.75')"
   ]
  },
  {
   "cell_type": "code",
   "execution_count": 24,
   "metadata": {},
   "outputs": [
    {
     "data": {
      "text/plain": [
       "Text(0.5, 1.0, 'Test set accuracy evolution with dropout=0.75')"
      ]
     },
     "execution_count": 24,
     "metadata": {},
     "output_type": "execute_result"
    },
    {
     "data": {
      "image/png": "[encoded data removed]",
      "text/plain": [
       "<Figure size 432x288 with 1 Axes>"
      ]
     },
     "metadata": {
      "needs_background": "light"
     },
     "output_type": "display_data"
    }
   ],
   "source": [
    "plt.plot(test_accuracies['0.75'])\n",
    "plt.title('Test set accuracy evolution with dropout=0.75')"
   ]
  },
  {
   "cell_type": "markdown",
   "metadata": {},
   "source": [
    "---\n",
    "# 6. Convolutional Network\n",
    "<img src=\"figs/16-comic6.png\" style=\"width: 500px;\"/>\n",
    "In the previous sections, all pixels of images flattened into a single vector, which was a really bad idea. Handwritten digits are made of shapes and we discarded the shape information when we flattened the pixels. However, we can use **convolutional neural networks (CNN)** to take advantage of shape information. CNNs apply *a series of filters* to the raw pixel data of an image to extract and learn higher-level features, which the model can then use for classification. CNNs contains three components:\n",
    "  - **Convolutional layers**: apply a specified number of convolution filters to the image. For each subregion, the layer performs a set of mathematical operations to produce a single value in the output feature map. Convolutional layers then typically apply a ReLU activation function to the output to introduce nonlinearities into the model.\n",
    "  - **Pooling layers**: downsample the image data extracted by the convolutional layers to reduce the dimensionality of the feature map in order to decrease processing time. A commonly used pooling algorithm is max pooling, which extracts subregions of the feature map (e.g., 2x2-pixel tiles), keeps their maximum value, and discards all other values.\n",
    "  - **Dense (fully connected) layers**: perform classification on the features extracted by the convolutional layers and downsampled by the pooling layers. In a dense layer, every node in the layer is connected to every node in the preceding layer.\n",
    "  \n",
    "Typically, a CNN is composed of a *stack of **convolutional modules*** that perform feature extraction. Each *module* consists of a *convolutional layer* followed by a *pooling layer*. The last convolutional module is followed by one or more dense layers that perform classification. The final dense layer in a CNN contains a single neuron for each target class in the model, with a softmax activation function to generate a value between 0-1 for each neuron. We can interpret the softmax values for a given image as relative measurements of how likely it is that the image falls into each target class.\n",
    "\n",
    "Now, let us build a convolutional network for handwritten digit recognition. In this assignment, we will use the architecture shown in the following figure that has three convolutional layers, one fully-connected layer, and one softmax layer. Notice that the second and third convolutional layers have a stride of two that explains why they bring the number of output values down from 28x28 to 14x14 and then 7x7. A convolutional layer requires a weights tensor like `[4, 4, 3, 2]`, in which the first two numbers define the size of a filter (map), the third number shows the *depth* of the filter that is the number of *input channel*, and the last number shows the number of *output channel*. The output channel defines the number of times that we repeat the same thing with a different set of weights in one layer. In our implementation, we assume the output depth of first three convolutional layers, are 4, 8, 12, and the size of fully connected layer is 200.\n",
    "<img src=\"figs/17-arch1.png\" style=\"width: 600px;\"/>\n",
    "\n",
    "Convolutional layers can be implemented in TensorFlow using the `tf.nn.conv2d` function, which performs the scanning of the input image in both directions using the supplied weights. This is only the weighted sum part of the neuron. You still need to add a bias and feed the result through an activation function. The padding strategy that works here is to copy pixels from the sides of the image. All digits are on a uniform background so this just extends the background and should not add any unwanted shapes."
   ]
  },
  {
   "cell_type": "code",
   "execution_count": 15,
   "metadata": {},
   "outputs": [
    {
     "name": "stdout",
     "output_type": "stream",
     "text": [
      "Train set loss for update step 0: 229.06251525878906\n",
      "Test set accuracy for update step 0:  12.16%\n",
      "Train set loss for update step 200: 162.2599639892578\n",
      "Test set accuracy for update step 200:  84.69%\n",
      "Train set loss for update step 400: 160.52590942382812\n",
      "Test set accuracy for update step 400:  85.87%\n",
      "Train set loss for update step 600: 160.87460327148438\n",
      "Test set accuracy for update step 600:  86.36%\n",
      "Train set loss for update step 800: 160.29371643066406\n",
      "Test set accuracy for update step 800:  86.04%\n",
      "Train set loss for update step 1000: 162.36236572265625\n",
      "Test set accuracy for update step 1000:  84.59%\n",
      "Train set loss for update step 1200: 160.06739807128906\n",
      "Test set accuracy for update step 1200:  86.36%\n",
      "Train set loss for update step 1400: 160.4878692626953\n",
      "Test set accuracy for update step 1400:  86.08%\n",
      "Train set loss for update step 1600: 162.7781219482422\n",
      "Test set accuracy for update step 1600:  83.75%\n",
      "Train set loss for update step 1800: 159.68905639648438\n",
      "Test set accuracy for update step 1800:  86.6%\n",
      "Train set loss for update step 2000: 158.70147705078125\n",
      "Test set accuracy for update step 2000:  87.98%\n",
      "Train set loss for update step 2200: 158.73678588867188\n",
      "Test set accuracy for update step 2200:  87.7%\n",
      "Train set loss for update step 2400: 158.40817260742188\n",
      "Test set accuracy for update step 2400:  88.16%\n",
      "Train set loss for update step 2600: 159.26156616210938\n",
      "Test set accuracy for update step 2600:  87.12%\n",
      "Train set loss for update step 2800: 158.400390625\n",
      "Test set accuracy for update step 2800:  88.01%\n",
      "Train set loss for update step 3000: 158.231201171875\n",
      "Test set accuracy for update step 3000:  88.02%\n",
      "Train set loss for update step 3200: 158.00454711914062\n",
      "Test set accuracy for update step 3200:  88.34%\n",
      "Train set loss for update step 3400: 157.99502563476562\n",
      "Test set accuracy for update step 3400:  88.25%\n",
      "Train set loss for update step 3600: 157.97802734375\n",
      "Test set accuracy for update step 3600:  88.46%\n",
      "Train set loss for update step 3800: 157.8504180908203\n",
      "Test set accuracy for update step 3800:  88.74%\n",
      "Train set loss for update step 4000: 157.73248291015625\n",
      "Test set accuracy for update step 4000:  88.68%\n",
      "Train set loss for update step 4200: 157.6067352294922\n",
      "Test set accuracy for update step 4200:  88.63%\n",
      "Train set loss for update step 4400: 157.6975860595703\n",
      "Test set accuracy for update step 4400:  88.69%\n",
      "Train set loss for update step 4600: 157.47291564941406\n",
      "Test set accuracy for update step 4600:  88.74%\n",
      "Train set loss for update step 4800: 157.60147094726562\n",
      "Test set accuracy for update step 4800:  88.83%\n",
      "--------------------------------\n",
      "\n",
      "Final test set accuracy: 88.8%\n",
      "####################################################################\n",
      "\n"
     ]
    }
   ],
   "source": [
    "# TODO: Replace <FILL IN> with appropriate code\n",
    "\n",
    "# · · · · · · · · · ·      (input data, 1-deep)               X [batch, 28, 28, 1]\n",
    "# @ @ @ @ @ @ @ @ @ @   -- conv. layer 5x5x1=>4 stride 1      W1 [5, 5, 1, 4]        B1 [4]\n",
    "# ∶∶∶∶∶∶∶∶∶∶∶∶∶∶∶∶∶∶∶                                         Y1_hat [batch, 28, 28, 4]\n",
    "#   @ @ @ @ @ @ @ @     -- conv. layer 5x5x4=>8 stride 2      W2 [5, 5, 4, 8]        B2 [8]\n",
    "#   ∶∶∶∶∶∶∶∶∶∶∶∶∶∶∶                                           Y2_hat [batch, 14, 14, 8]\n",
    "#     @ @ @ @ @ @       -- conv. layer 4x4x8=>12 stride 2     W3 [4, 4, 8, 12]       B3 [12]\n",
    "#     ∶∶∶∶∶∶∶∶∶∶∶                                             Y3_hat [batch, 7, 7, 12] => reshaped to YY [batch, 7*7*12]\n",
    "#      \\x/x\\x\\x/        -- fully connected layer (relu)       W4 [7*7*12, 200]       B4 [200]\n",
    "#       · · · ·                                               Y4_hat [batch, 200]\n",
    "#       \\x/x\\x/         -- fully connected layer (softmax)    W5 [200, 10]           B5 [10]\n",
    "#        · · ·                                                Y_hat [batch, 10]\n",
    "\n",
    "# to reset the Tensorflow default graph\n",
    "reset_graph()\n",
    "\n",
    "########################################\n",
    "# define variables and placeholders\n",
    "########################################\n",
    "X = tf.placeholder(tf.float32, [None, 28, 28, 1], name=\"input\")\n",
    "Y = tf.placeholder(tf.float32, shape=(None, 10), name=\"labels\")\n",
    "learning_rate = tf.placeholder(tf.float32, shape=[])\n",
    "\n",
    "bias_initializer= tf.constant_initializer(value=0.1)\n",
    "\n",
    "# three convolutional layers with their channel counts, and a fully connected layer \n",
    "# (the last layer has 10 softmax neurons)\n",
    "# the output depth of first three convolutional layers, are 4, 8, 12, and the size of fully connected\n",
    "# layer is 200\n",
    "W1 = tf.Variable(tf.truncated_normal(shape= [5, 5, 1, 4], stddev= 0.1), name='weights1')\n",
    "B1 = tf.get_variable(\"bias1\", shape=[4], initializer=bias_initializer)\n",
    "\n",
    "W2 = tf.Variable(tf.truncated_normal(shape= [5, 5, 4, 8], stddev= 0.1), name='weights2')\n",
    "B2 = tf.get_variable(\"bias2\", shape=[8], initializer=bias_initializer)\n",
    "\n",
    "W3 = tf.Variable(tf.truncated_normal(shape= [4, 4, 8, 12], stddev= 0.1), name='weights3')\n",
    "B3 = tf.get_variable(\"bias3\", shape=[12], initializer=bias_initializer)\n",
    "\n",
    "W4 = tf.Variable(tf.truncated_normal(shape= [7*7*12, 200], stddev= 0.1), name='weights4')\n",
    "B4 = tf.get_variable(\"bias4\", shape=[200], initializer=bias_initializer)\n",
    "\n",
    "W5 = tf.Variable(tf.truncated_normal(shape= [200, 10], stddev= 0.1), name='weights5')\n",
    "B5 = tf.get_variable(\"bias5\", shape=[10], initializer=bias_initializer)\n",
    "\n",
    "########################################\n",
    "# build the model\n",
    "########################################\n",
    "                 \n",
    "########################################\n",
    "# Important note about setting the strides:\n",
    "# Question 2: Why strides [1, x, y, 1] for convnets\n",
    "\n",
    "# The first 1 is the batch: You don't usually want to skip over examples in your batch, or you shouldn't have included them in the first place. :)\n",
    "\n",
    "# The last 1 is the depth of the convolution: You don't usually want to skip inputs, for the same reason.\n",
    "\n",
    "# The conv2d operator is more general, so you could create convolutions that slide the window along other dimensions, but that's not a typical use in convnets. The typical use is to use them spatially.                 \n",
    "#########################################                 \n",
    "                 \n",
    "stride = 1  # output is 28x28\n",
    "Y1_hat = tf.nn.relu(tf.add(tf.nn.conv2d(X, W1, strides=[1, stride, stride, 1], padding='SAME'), B1), name='out1') # use tf.nn.conv2d\n",
    "\n",
    "stride = 2  # output is 14x14\n",
    "Y2_hat = tf.nn.relu(tf.add(tf.nn.conv2d(Y1_hat, W2, strides=[1, stride, stride, 1], padding='SAME'), B2), name='out2') # use tf.nn.conv2d\n",
    "\n",
    "stride = 2  # output is 7x7\n",
    "Y3_hat = tf.nn.relu(tf.add(tf.nn.conv2d(Y2_hat, W3, strides=[1, stride, stride, 1], padding='SAME'), B3), name='out3') # use tf.nn.conv2d\n",
    "\n",
    "# reshape the output from the third convolution for the fully connected layer\n",
    "YY_hat = tf.reshape(Y3_hat, shape=[-1, 7*7*12], name=\"out3_reshaped\")\n",
    "Y4_hat = tf.add(tf.matmul(YY_hat, W4), B4, name=\"out4\")\n",
    "Y_hat = tf.nn.softmax(tf.add(tf.matmul(Y4_hat, W5), B5), name=\"output\")\n",
    "\n",
    "########################################\n",
    "# define the cost function\n",
    "########################################\n",
    "cross_entropy = tf.nn.softmax_cross_entropy_with_logits(logits=Y_hat, labels=Y)\n",
    "cross_entropy = tf.reduce_mean(cross_entropy) * 100\n",
    "\n",
    "########################################\n",
    "# define the optmizer\n",
    "########################################\n",
    "optimizer = tf.train.AdamOptimizer(learning_rate)\n",
    "train_step = optimizer.minimize(cross_entropy)\n",
    "\n",
    "########################################\n",
    "# execute the model\n",
    "########################################\n",
    "init = tf.global_variables_initializer()\n",
    "\n",
    "n_epochs = 5000\n",
    "\n",
    "max_learning_rate = 0.005\n",
    "min_learning_rate = 0.0001\n",
    "decay_speed = 2000.0\n",
    "\n",
    "predictions = tf.equal(tf.argmax(Y_hat, 1), tf.argmax(Y, 1))\n",
    "accuracy = tf.reduce_mean(tf.cast(predictions, tf.float32))\n",
    "\n",
    "X_train_temp, Y_train = mnist.train.images, mnist.train.labels\n",
    "X_train = np.reshape(X_train_temp, (-1, 28, 28, 1))\n",
    "\n",
    "X_test_temp, Y_test = mnist.test.images, mnist.test.labels\n",
    "X_test = np.reshape(X_test_temp, (-1, 28, 28, 1))\n",
    "    \n",
    "# checks if learning rate has reached its minimum value\n",
    "flag = False\n",
    "\n",
    "new_learning_rate = max_learning_rate\n",
    "\n",
    "train_losses = []\n",
    "test_accuracies = []\n",
    "\n",
    "with tf.Session() as sess:\n",
    "\n",
    "    sess.run(init)\n",
    "\n",
    "    for i in range(n_epochs):\n",
    "\n",
    "        X_batch_temp, Y_batch = mnist.train.next_batch(100)\n",
    "        X_batch = np.reshape(X_batch_temp, (-1, 28, 28, 1))\n",
    "\n",
    "        if not flag:\n",
    "            new_learning_rate = min_learning_rate + (max_learning_rate - min_learning_rate) * np.exp(-i / 2000)\n",
    "            if new_learning_rate < min_learning_rate:\n",
    "                flag = True\n",
    "                new_learning_rate = min_learning_rate\n",
    "\n",
    "        sess.run(train_step, feed_dict={X: X_batch, Y: Y_batch, learning_rate: new_learning_rate})\n",
    "\n",
    "        if i % 200 == 0:\n",
    "            train_loss = sess.run(cross_entropy, feed_dict={X: X_train, Y: Y_train, learning_rate: new_learning_rate})\n",
    "            print(f'Train set loss for update step {i}: {train_loss}')\n",
    "            train_losses.append(train_loss)\n",
    "            test_accuracy = sess.run(accuracy, feed_dict={X: X_test, Y: Y_test, learning_rate: new_learning_rate})\n",
    "            print(f'Test set accuracy for update step {i}:  {round(test_accuracy*100, 2)}%')\n",
    "            test_accuracies.append(test_accuracy)\n",
    "\n",
    "    test_set_accuracy = sess.run(accuracy, feed_dict={X: X_test, Y: Y_test, learning_rate: new_learning_rate})\n",
    "\n",
    "    print('--------------------------------')\n",
    "    print()\n",
    "    print(f'Final test set accuracy: {round(test_set_accuracy*100, 2)}%') \n",
    "\n",
    "    print('####################################################################')\n",
    "    print()"
   ]
  },
  {
   "cell_type": "code",
   "execution_count": 18,
   "metadata": {},
   "outputs": [
    {
     "data": {
      "text/plain": [
       "[<matplotlib.lines.Line2D at 0x7fc98adc7f98>]"
      ]
     },
     "execution_count": 18,
     "metadata": {},
     "output_type": "execute_result"
    },
    {
     "data": {
      "image/png": "[encoded data removed]",
      "text/plain": [
       "<Figure size 432x288 with 1 Axes>"
      ]
     },
     "metadata": {
      "needs_background": "light"
     },
     "output_type": "display_data"
    }
   ],
   "source": [
    "plt.title('Training set cross entropy loss evolution when using a simple CNN')\n",
    "plt.plot(train_losses)"
   ]
  },
  {
   "cell_type": "code",
   "execution_count": 19,
   "metadata": {},
   "outputs": [
    {
     "data": {
      "text/plain": [
       "[<matplotlib.lines.Line2D at 0x7fc9936cce80>]"
      ]
     },
     "execution_count": 19,
     "metadata": {},
     "output_type": "execute_result"
    },
    {
     "data": {
      "image/png": "[encoded data removed]",
      "text/plain": [
       "<Figure size 432x288 with 1 Axes>"
      ]
     },
     "metadata": {
      "needs_background": "light"
     },
     "output_type": "display_data"
    }
   ],
   "source": [
    "plt.title('Test set accuracy evolution when using a simple CNN')\n",
    "plt.plot(test_accuracies)"
   ]
  },
  {
   "cell_type": "markdown",
   "metadata": {},
   "source": [
    "# 7. Improve The Performance\n",
    "A good approach to sizing your neural networks is to implement a network that is a little too constrained, then give it a bit more degrees of freedom and add dropout to make sure it is not overfitting. This ends up with a fairly optimal network for your problem. In the above model, we set the output channel to 4 in the first convolutional layer, which means that we repeat the same filter shape (but with different weights) four times. If we assume that those filters evolve during training into shape recognisers, you can intuitively see that this might not be enough for our problem. Handwritten digits are made from more than 4 elemental shapes. So let us bump up the filter sizes a little, and also increase the number of filters in our convolutional layers from 4, 8, 12 to 6, 12, 24 and then add dropout on the fully-connected layer. The following figure shows the new architecture you should build. Please complete the following code based on the given architecture and dropout technique.\n",
    "<img src=\"figs/18-arch2.png\" style=\"width: 600px;\"/>"
   ]
  },
  {
   "cell_type": "code",
   "execution_count": null,
   "metadata": {},
   "outputs": [
    {
     "name": "stdout",
     "output_type": "stream",
     "text": [
      "WARNING:tensorflow:From <ipython-input-3-7647b0320041>:68: softmax_cross_entropy_with_logits (from tensorflow.python.ops.nn_ops) is deprecated and will be removed in a future version.\n",
      "Instructions for updating:\n",
      "\n",
      "Future major versions of TensorFlow will allow gradients to flow\n",
      "into the labels input on backprop by default.\n",
      "\n",
      "See tf.nn.softmax_cross_entropy_with_logits_v2.\n",
      "\n"
     ]
    }
   ],
   "source": [
    "# TODO: Replace <FILL IN> with appropriate code\n",
    "\n",
    "# · · · · · · · · · ·    (input data, 1-deep)                 X [batch, 28, 28, 1]\n",
    "# @ @ @ @ @ @ @ @ @ @ -- conv. layer 6x6x1=>6 stride 1        W1 [5, 5, 1, 6]        B1 [6]\n",
    "# ∶∶∶∶∶∶∶∶∶∶∶∶∶∶∶∶∶∶∶                                         Y1_hat [batch, 28, 28, 6]\n",
    "#   @ @ @ @ @ @ @ @   -- conv. layer 5x5x6=>12 stride 2       W2 [5, 5, 6, 12]        B2 [12]\n",
    "#   ∶∶∶∶∶∶∶∶∶∶∶∶∶∶∶                                           Y2_hat [batch, 14, 14, 12]\n",
    "#     @ @ @ @ @ @     -- conv. layer 4x4x12=>24 stride 2      W3 [4, 4, 12, 24]       B3 [24]\n",
    "#     ∶∶∶∶∶∶∶∶∶∶∶                                             Y3_hat [batch, 7, 7, 24] => reshaped to YY [batch, 7*7*24]\n",
    "#      \\x/x\\x\\x/ ✞    -- fully connected layer (relu+dropout) W4 [7*7*24, 200]       B4 [200]\n",
    "#       · · · ·                                               Y4_hat [batch, 200]\n",
    "#       \\x/x\\x/       -- fully connected layer (softmax)      W5 [200, 10]           B5 [10]\n",
    "#        · · ·                                                Y_hat [batch, 10]\n",
    "\n",
    "# to reset the Tensorflow default graph\n",
    "reset_graph()\n",
    "\n",
    "########################################\n",
    "# define variables and placeholders\n",
    "########################################\n",
    "X = tf.placeholder(tf.float32, [None, 28, 28, 1], name=\"input\")\n",
    "Y = tf.placeholder(tf.float32, shape=(None, 10), name=\"labels\")\n",
    "lr = tf.placeholder(tf.float32, shape=[])\n",
    "pkeep = tf.placeholder(tf.float32, shape=[])\n",
    "\n",
    "bias_initializer= tf.constant_initializer(value=0.1)\n",
    "\n",
    "# three convolutional layers with their channel counts, and a fully connected layer \n",
    "# (the last layer has 10 softmax neurons)\n",
    "# the output depth of first three convolutional layers, are 6, 12, 24, and the size of fully connected\n",
    "# layer is 200\n",
    "W1 = tf.Variable(tf.truncated_normal(shape= [5, 5, 1, 6], stddev= 0.1), name='weights1')\n",
    "B1 = tf.get_variable(\"bias1\", shape=[6], initializer=bias_initializer)\n",
    "\n",
    "W2 = tf.Variable(tf.truncated_normal(shape= [5, 5, 6, 12], stddev= 0.1), name='weights2')\n",
    "B2 = tf.get_variable(\"bias2\", shape=[12], initializer=bias_initializer)\n",
    "\n",
    "W3 = tf.Variable(tf.truncated_normal(shape= [4, 4, 12, 24], stddev= 0.1), name='weights3')\n",
    "B3 = tf.get_variable(\"bias3\", shape=[24], initializer=bias_initializer)\n",
    "\n",
    "W4 = tf.Variable(tf.truncated_normal(shape= [7*7*24, 200], stddev= 0.1), name='weights4')\n",
    "B4 = tf.get_variable(\"bias4\", shape=[200], initializer=bias_initializer)\n",
    "\n",
    "W5 = tf.Variable(tf.truncated_normal(shape= [200, 10], stddev= 0.1), name='weights5')\n",
    "B5 = tf.get_variable(\"bias5\", shape=[10], initializer=bias_initializer)\n",
    "\n",
    "########################################\n",
    "# build the model\n",
    "########################################\n",
    "stride = 1  # output is 28x28\n",
    "Y1_hat = tf.nn.relu(tf.add(tf.nn.conv2d(X, W1, strides=[1, stride, stride, 1], padding='SAME'), B1), name='out1')\n",
    "\n",
    "stride = 2  # output is 14x14\n",
    "Y2_hat = tf.nn.relu(tf.add(tf.nn.conv2d(Y1_hat, W2, strides=[1, stride, stride, 1], padding='SAME'), B2), name='out2')\n",
    "\n",
    "stride = 2  # output is 7x7\n",
    "Y3_hat = tf.nn.relu(tf.add(tf.nn.conv2d(Y2_hat, W3, strides=[1, stride, stride, 1], padding='SAME'), B3), name='out3')\n",
    "\n",
    "# reshape the output from the third convolution for the fully connected layer\n",
    "YY_hat = tf.reshape(Y3_hat, [-1, 7*7*24], name='put3_flattened')\n",
    "Y4_hat = tf.nn.relu(tf.add(tf.matmul(YY_hat, W4), B4), name='out4')\n",
    "YY4_hat = tf.nn.dropout(Y4_hat, keep_prob=pkeep, name='out4_dropped_out')\n",
    "Y_hat = tf.nn.softmax(tf.add(tf.matmul(YY4_hat, W5), B5), name='output')\n",
    "\n",
    "########################################\n",
    "# define the Loss function\n",
    "########################################\n",
    "cross_entropy = tf.nn.softmax_cross_entropy_with_logits(logits=Y_hat, labels=Y, name='cross_entropy_loss')\n",
    "cross_entropy = tf.reduce_mean(cross_entropy) * 100\n",
    "\n",
    "########################################\n",
    "# traini the model\n",
    "########################################\n",
    "optimizer = tf.train.AdamOptimizer(learning_rate=lr)\n",
    "train_step = optimizer.minimize(cross_entropy)\n",
    "\n",
    "########################################\n",
    "# execute the model\n",
    "########################################\n",
    "init = tf.global_variables_initializer()\n",
    "\n",
    "n_epochs = 2000\n",
    "\n",
    "max_learning_rate = 0.005\n",
    "min_learning_rate = 0.0001\n",
    "decay_speed = 800.0\n",
    "\n",
    "predictions = tf.equal(tf.argmax(Y_hat, 1), tf.argmax(Y, 1))\n",
    "accuracy = tf.reduce_mean(tf.cast(predictions, tf.float32))\n",
    "\n",
    "X_train_temp, Y_train = mnist.train.images, mnist.train.labels\n",
    "X_train = np.reshape(X_train_temp, (-1, 28, 28, 1))\n",
    "\n",
    "X_test_temp, Y_test = mnist.test.images, mnist.test.labels\n",
    "X_test = np.reshape(X_test_temp, (-1, 28, 28, 1))\n",
    "    \n",
    "# checks if learning rate has reached its minimum value\n",
    "flag = False\n",
    "\n",
    "new_learning_rate = max_learning_rate\n",
    "\n",
    "train_losses = []\n",
    "test_accuracies = []\n",
    "\n",
    "with tf.Session() as sess:\n",
    "\n",
    "    sess.run(init)\n",
    "\n",
    "    for i in range(n_epochs):\n",
    "\n",
    "        X_batch_temp, Y_batch = mnist.train.next_batch(100)\n",
    "        X_batch = np.reshape(X_batch_temp, (-1, 28, 28, 1))\n",
    "\n",
    "        if not flag:\n",
    "            new_learning_rate = min_learning_rate + (max_learning_rate - min_learning_rate) * np.exp(-i / decay_speed)\n",
    "            if new_learning_rate < min_learning_rate:\n",
    "                flag = True\n",
    "                new_learning_rate = min_learning_rate\n",
    "\n",
    "        sess.run(train_step, feed_dict={X: X_batch, Y: Y_batch, lr: new_learning_rate, pkeep: 0.75})\n",
    "\n",
    "        if i % 80 == 0:\n",
    "            train_loss = sess.run(cross_entropy, feed_dict={X: X_train, Y: Y_train, lr: new_learning_rate, pkeep: 0.75})\n",
    "            print(f'Train set loss for update step {i}: {train_loss}')\n",
    "            train_losses.append(train_loss)\n",
    "            test_accuracy = sess.run(accuracy, feed_dict={X: X_test, Y: Y_test, lr: new_learning_rate, pkeep: 1.0})\n",
    "            print(f'Test set accuracy for update step {i}:  {round(test_accuracy*100, 2)}%')\n",
    "            test_accuracies.append(test_accuracy)\n",
    "\n",
    "    test_set_accuracy = sess.run(accuracy, feed_dict={X: X_test, Y: Y_test, lr: new_learning_rate, pkeep: 1.0})\n",
    "\n",
    "    print('--------------------------------')\n",
    "    print()\n",
    "    print(f'Final test set accuracy: {round(test_set_accuracy*100, 2)}%') \n",
    "\n",
    "    print('####################################################################')\n",
    "    print()"
   ]
  },
  {
   "cell_type": "markdown",
   "metadata": {},
   "source": [
    "## Important Note\n",
    "\n",
    "For this part, the Jupyter kernel died when ran in my local PC without a GPU. As a result, I ran the same script in Google Colaboratory, and the results are copied here. The original notebook for part 7 is also uploaded under the title 'Part7_Google_Colab.ipynb'"
   ]
  },
  {
   "cell_type": "markdown",
   "metadata": {},
   "source": [
    "Experiments output:"
   ]
  },
  {
   "cell_type": "markdown",
   "metadata": {},
   "source": [
    "Train set loss for update step 0: 229.32223510742188  \n",
    "Test set accuracy for update step 0:  10.32%  \n",
    "Train set loss for update step 80: 163.96803283691406  \n",
    "Test set accuracy for update step 80:  83.77%  \n",
    "Train set loss for update step 160: 158.8289794921875  \n",
    "Test set accuracy for update step 160:  89.51%  \n",
    "Train set loss for update step 240: 154.27914428710938  \n",
    "Test set accuracy for update step 240:  93.46%  \n",
    "Train set loss for update step 320: 157.22642517089844  \n",
    "Test set accuracy for update step 320:  90.17%  \n",
    "Train set loss for update step 400: 150.9380645751953  \n",
    "Test set accuracy for update step 400:  95.89%  \n",
    "Train set loss for update step 480: 150.96690368652344  \n",
    "Test set accuracy for update step 480:  96.09%  \n",
    "Train set loss for update step 560: 150.25474548339844  \n",
    "Test set accuracy for update step 560:  96.77%  \n",
    "Train set loss for update step 640: 149.732177734375  \n",
    "Test set accuracy for update step 640:  96.98%  \n",
    "Train set loss for update step 720: 149.90243530273438  \n",
    "Test set accuracy for update step 720:  97.18%  \n",
    "Train set loss for update step 800: 149.07627868652344  \n",
    "Test set accuracy for update step 800:  97.58%  \n",
    "Train set loss for update step 880: 149.3028564453125  \n",
    "Test set accuracy for update step 880:  97.14%  \n",
    "Train set loss for update step 960: 148.91131591796875  \n",
    "Test set accuracy for update step 960:  97.64%  \n",
    "Train set loss for update step 1040: 148.99545288085938  \n",
    "Test set accuracy for update step 1040:  97.58%  \n",
    "Train set loss for update step 1120: 148.54798889160156  \n",
    "Test set accuracy for update step 1120:  97.83%  \n",
    "Train set loss for update step 1200: 148.50489807128906  \n",
    "Test set accuracy for update step 1200:  97.93%  \n",
    "Train set loss for update step 1280: 148.38417053222656  \n",
    "Test set accuracy for update step 1280:  97.96%  \n",
    "Train set loss for update step 1360: 148.25308227539062  \n",
    "Test set accuracy for update step 1360:  97.99%  \n",
    "Train set loss for update step 1440: 148.1621856689453  \n",
    "Test set accuracy for update step 1440:  98.16%   \n",
    "Train set loss for update step 1520: 148.28379821777344  \n",
    "Test set accuracy for update step 1520:  97.93%  \n",
    "Train set loss for update step 1600: 148.1834716796875  \n",
    "Test set accuracy for update step 1600:  98.15%  \n",
    "Train set loss for update step 1680: 148.18003845214844  \n",
    "Test set accuracy for update step 1680:  98.08%  \n",
    "Train set loss for update step 1760: 148.10107421875  \n",
    "Test set accuracy for update step 1760:  97.97%  \n",
    "Train set loss for update step 1840: 147.87136840820312  \n",
    "Test set accuracy for update step 1840:  98.33%  \n",
    "Train set loss for update step 1920: 147.93621826171875  \n",
    "Test set accuracy for update step 1920:  98.25%  \n",
    "\n",
    "--------------------------------\n",
    "\n",
    "Final test set accuracy: 98.2%  \n",
    "####################################################################\n"
   ]
  },
  {
   "cell_type": "markdown",
   "metadata": {},
   "source": [
    "The loss of this setting evolved as follows: "
   ]
  },
  {
   "cell_type": "markdown",
   "metadata": {},
   "source": [
    "<img src=\"figures/loss_7.png\">"
   ]
  },
  {
   "cell_type": "markdown",
   "metadata": {},
   "source": [
    "The test set accuracy evolution is the following:"
   ]
  },
  {
   "cell_type": "markdown",
   "metadata": {},
   "source": [
    "<img src=\"figures/accuracy_7.png\">"
   ]
  },
  {
   "cell_type": "markdown",
   "metadata": {},
   "source": [
    "---\n",
    "# 8. Tensorflow Layers Module\n",
    "The TensorFlow **layers** `tf.layers` module provides a high-level API that makes it easy to construct a neural network. It provides methods that facilitate: (i) the creation of dense (fully connected) layers and convolutional layers, (ii) adding activation functions, and (iii) applying dropout regularization. In this section use the module `tf.layers` to build the network you made in section 7."
   ]
  },
  {
   "cell_type": "markdown",
   "metadata": {},
   "source": [
    "The following implementation was based to the instructions provided from the official [Tensorflow page](https://www.tensorflow.org/tutorials/estimators/cnn) for building a CNN with tf.layers"
   ]
  },
  {
   "cell_type": "code",
   "execution_count": null,
   "metadata": {},
   "outputs": [
    {
     "name": "stdout",
     "output_type": "stream",
     "text": [
      "WARNING:tensorflow:From <ipython-input-8-262b4fffe874>:77: softmax_cross_entropy_with_logits (from tensorflow.python.ops.nn_ops) is deprecated and will be removed in a future version.\n",
      "Instructions for updating:\n",
      "\n",
      "Future major versions of TensorFlow will allow gradients to flow\n",
      "into the labels input on backprop by default.\n",
      "\n",
      "See tf.nn.softmax_cross_entropy_with_logits_v2.\n",
      "\n"
     ]
    }
   ],
   "source": [
    "# TODO: Replace <FILL IN> with appropriate code\n",
    "\n",
    "# · · · · · · · · · ·    (input data, 1-deep)                 X [batch, 28, 28, 1]\n",
    "# @ @ @ @ @ @ @ @ @ @ -- conv. layer 6x6x1=>6 stride 1        W1 [5, 5, 1, 6]        B1 [6]\n",
    "# ∶∶∶∶∶∶∶∶∶∶∶∶∶∶∶∶∶∶∶                                         Y1_hat [batch, 28, 28, 6]\n",
    "#   @ @ @ @ @ @ @ @   -- conv. layer 5x5x6=>12 stride 2       W2 [5, 5, 6, 12]        B2 [12]\n",
    "#   ∶∶∶∶∶∶∶∶∶∶∶∶∶∶∶                                           Y2_hat [batch, 14, 14, 12]\n",
    "#     @ @ @ @ @ @     -- conv. layer 4x4x12=>24 stride 2      W3 [4, 4, 12, 24]       B3 [24]\n",
    "#     ∶∶∶∶∶∶∶∶∶∶∶                                             Y3_hat [batch, 7, 7, 24] => reshaped to YY [batch, 7*7*24]\n",
    "#      \\x/x\\x\\x/ ✞    -- fully connected layer (relu+dropout) W4 [7*7*24, 200]       B4 [200]\n",
    "#       · · · ·                                               Y4_hat [batch, 200]\n",
    "#       \\x/x\\x/       -- fully connected layer (softmax)      W5 [200, 10]           B5 [10]\n",
    "#        · · ·                                                Y_hat [batch, 10]\n",
    "\n",
    "# \n",
    "\n",
    "# to reset the Tensorflow default graph\n",
    "reset_graph()\n",
    "\n",
    "X = tf.placeholder(tf.float32, [None, 28, 28, 1], name=\"input\")\n",
    "Y = tf.placeholder(tf.float32, shape=(None, 10), name=\"labels\")\n",
    "lr = tf.placeholder(tf.float32, shape=[])\n",
    "pkeep = tf.placeholder(tf.float32, shape=[])\n",
    "\n",
    "bias_initializer= tf.constant_initializer(value=0.1)\n",
    "\n",
    "# Convolutional Layers\n",
    "conv1 = tf.layers.conv2d(\n",
    "    inputs=X,\n",
    "    filters=6,\n",
    "    kernel_size=[5, 5],\n",
    "    strides=1,\n",
    "    padding=\"same\",\n",
    "    activation=tf.nn.relu,\n",
    "    kernel_initializer=tf.initializers.truncated_normal(mean=0, stddev= 0.1),\n",
    "    bias_initializer=tf.constant_initializer(0.1))\n",
    "\n",
    "conv2 = tf.layers.conv2d(\n",
    "    inputs=conv1,\n",
    "    filters=12,\n",
    "    kernel_size=[5, 5],\n",
    "    strides=2,  \n",
    "    padding=\"same\",\n",
    "    activation=tf.nn.relu,\n",
    "    kernel_initializer=tf.initializers.truncated_normal(mean=0, stddev= 0.1),\n",
    "    bias_initializer=tf.constant_initializer(0.1))\n",
    "\n",
    "conv3 = tf.layers.conv2d(\n",
    "    inputs=conv2,\n",
    "    filters=24,\n",
    "    kernel_size=[4, 4],\n",
    "    strides=2,  \n",
    "    padding=\"same\",\n",
    "    activation=tf.nn.relu,\n",
    "    kernel_initializer=tf.initializers.truncated_normal(mean=0, stddev= 0.1),\n",
    "    bias_initializer=tf.constant_initializer(0.1))\n",
    "\n",
    "# Dense Layers\n",
    "\n",
    "flattened = tf.reshape(conv3, [-1, 7 * 7 * 24])\n",
    "dense_1 = tf.layers.dense(inputs=flattened, \n",
    "                          units=200, \n",
    "                          activation=tf.nn.relu, \n",
    "                          kernel_initializer=tf.initializers.truncated_normal(mean=0, stddev= 0.1),\n",
    "                          bias_initializer=tf.constant_initializer(0.1))\n",
    "\n",
    "dropout = tf.layers.dropout(inputs=dense_1, rate=0.75)\n",
    "\n",
    "output = tf.layers.dense(inputs=dropout, \n",
    "                         units=10,\n",
    "                         kernel_initializer=tf.initializers.truncated_normal(mean=0, stddev= 0.1),\n",
    "                         bias_initializer=tf.constant_initializer(0.1))\n",
    "\n",
    "########################################\n",
    "# define the Loss function\n",
    "########################################\n",
    "cross_entropy = tf.nn.softmax_cross_entropy_with_logits(logits=output, labels=Y, name='cross_entropy_loss')\n",
    "cross_entropy = tf.reduce_mean(cross_entropy) * 100\n",
    "\n",
    "########################################\n",
    "# traini the model\n",
    "########################################\n",
    "optimizer = tf.train.AdamOptimizer(learning_rate=lr)\n",
    "train_step = optimizer.minimize(cross_entropy)\n",
    "\n",
    "########################################\n",
    "# execute the model\n",
    "########################################\n",
    "init = tf.global_variables_initializer()\n",
    "\n",
    "n_epochs = 2000\n",
    "\n",
    "max_learning_rate = 0.005\n",
    "min_learning_rate = 0.0001\n",
    "decay_speed = 800.0\n",
    "\n",
    "predictions = tf.equal(tf.argmax(output, 1), tf.argmax(Y, 1))\n",
    "accuracy = tf.reduce_mean(tf.cast(predictions, tf.float32))\n",
    "\n",
    "X_train_temp, Y_train = mnist.train.images, mnist.train.labels\n",
    "X_train = np.reshape(X_train_temp, (-1, 28, 28, 1))\n",
    "\n",
    "X_test_temp, Y_test = mnist.test.images, mnist.test.labels\n",
    "X_test = np.reshape(X_test_temp, (-1, 28, 28, 1))\n",
    "    \n",
    "# checks if learning rate has reached its minimum value\n",
    "flag = False\n",
    "\n",
    "new_learning_rate = max_learning_rate\n",
    "\n",
    "train_losses = []\n",
    "test_accuracies = []\n",
    "\n",
    "with tf.Session() as sess:\n",
    "\n",
    "    sess.run(init)\n",
    "\n",
    "    for i in range(n_epochs):\n",
    "\n",
    "        X_batch_temp, Y_batch = mnist.train.next_batch(100)\n",
    "        X_batch = np.reshape(X_batch_temp, (-1, 28, 28, 1))\n",
    "\n",
    "        if not flag:\n",
    "            new_learning_rate = min_learning_rate + (max_learning_rate - min_learning_rate) * np.exp(-i / decay_speed)\n",
    "            if new_learning_rate < min_learning_rate:\n",
    "                flag = True\n",
    "                new_learning_rate = min_learning_rate\n",
    "\n",
    "        sess.run(train_step, feed_dict={X: X_batch, Y: Y_batch, lr: new_learning_rate})\n",
    "\n",
    "        if i % 80 == 0:\n",
    "            train_loss = sess.run(cross_entropy, feed_dict={X: X_train, Y: Y_train, lr: new_learning_rate})\n",
    "            print(f'Train set loss for update step {i}: {train_loss}')\n",
    "            train_losses.append(train_loss)\n",
    "            test_accuracy = sess.run(accuracy, feed_dict={X: X_test, Y: Y_test, lr: new_learning_rate})\n",
    "            print(f'Test set accuracy for update step {i}:  {round(test_accuracy*100, 2)}%')\n",
    "            test_accuracies.append(test_accuracy)\n",
    "\n",
    "    test_set_accuracy = sess.run(accuracy, feed_dict={X: X_test, Y: Y_test, lr: new_learning_rate})\n",
    "\n",
    "    print('--------------------------------')\n",
    "    print()\n",
    "    print(f'Final test set accuracy: {round(test_set_accuracy*100, 2)}%') \n",
    "\n",
    "    print('####################################################################')\n",
    "    print()"
   ]
  },
  {
   "cell_type": "markdown",
   "metadata": {},
   "source": [
    "Output of Google Colab notebook:"
   ]
  },
  {
   "cell_type": "markdown",
   "metadata": {},
   "source": [
    "Train set loss for update step 0: 261.7163391113281  \n",
    "Test set accuracy for update step 0:  8.92%  \n",
    "Train set loss for update step 80: 18.675098419189453  \n",
    "Test set accuracy for update step 80:  94.6%  \n",
    "Train set loss for update step 160: 12.64649486541748  \n",
    "Test set accuracy for update step 160:  96.11%  \n",
    "Train set loss for update step 240: 8.43950366973877  \n",
    "Test set accuracy for update step 240:  97.42%  \n",
    "Train set loss for update step 320: 7.385142803192139  \n",
    "Test set accuracy for update step 320:  97.74%  \n",
    "Train set loss for update step 400: 5.455324649810791  \n",
    "Test set accuracy for update step 400:  98.27%  \n",
    "Train set loss for update step 480: 5.185851097106934  \n",
    "Test set accuracy for update step 480:  98.37%  \n",
    "Train set loss for update step 560: 4.813674449920654  \n",
    "Test set accuracy for update step 560:  98.16%  \n",
    "Train set loss for update step 640: 3.8616456985473633  \n",
    "Test set accuracy for update step 640:  98.4%  \n",
    "Train set loss for update step 720: 3.526664972305298  \n",
    "Test set accuracy for update step 720:  98.6%  \n",
    "Train set loss for update step 800: 3.225081443786621  \n",
    "Test set accuracy for update step 800:  98.68%  \n",
    "Train set loss for update step 880: 3.052398443222046  \n",
    "Test set accuracy for update step 880:  98.63%  \n",
    "Train set loss for update step 960: 3.4822161197662354  \n",
    "Test set accuracy for update step 960:  98.54%  \n",
    "Train set loss for update step 1040: 2.49955153465271  \n",
    "Test set accuracy for update step 1040:  98.85%  \n",
    "Train set loss for update step 1120: 1.9701640605926514  \n",
    "Test set accuracy for update step 1120:  98.68%  \n",
    "Train set loss for update step 1200: 1.84246027469635  \n",
    "Test set accuracy for update step 1200:  98.85%  \n",
    "Train set loss for update step 1280: 1.8003523349761963  \n",
    "Test set accuracy for update step 1280:  98.9%  \n",
    "Train set loss for update step 1360: 1.62549889087677  \n",
    "Test set accuracy for update step 1360:  98.96%  \n",
    "Train set loss for update step 1440: 1.4117488861083984  \n",
    "Test set accuracy for update step 1440:  98.87%  \n",
    "Train set loss for update step 1520: 1.642493486404419  \n",
    "Test set accuracy for update step 1520:  98.77%  \n",
    "Train set loss for update step 1600: 1.3205108642578125  \n",
    "Test set accuracy for update step 1600:  98.95%  \n",
    "Train set loss for update step 1680: 1.1498668193817139  \n",
    "Test set accuracy for update step 1680:  98.98%  \n",
    "Train set loss for update step 1760: 1.053069829940796  \n",
    "Test set accuracy for update step 1760:  98.92%  \n",
    "Train set loss for update step 1840: 1.0385105609893799  \n",
    "Test set accuracy for update step 1840:  98.91%  \n",
    "Train set loss for update step 1920: 0.8449906706809998  \n",
    "Test set accuracy for update step 1920:  98.95%  \n",
    "\n",
    "--------------------------------\n",
    "\n",
    "Final test set accuracy: 98.93%\n",
    "####################################################################"
   ]
  },
  {
   "cell_type": "markdown",
   "metadata": {},
   "source": [
    "Training set loss evolution:"
   ]
  },
  {
   "cell_type": "markdown",
   "metadata": {},
   "source": [
    "<img src=\"figures/loss_8.png\">"
   ]
  },
  {
   "cell_type": "markdown",
   "metadata": {},
   "source": [
    "Test set accuracy evolution"
   ]
  },
  {
   "cell_type": "markdown",
   "metadata": {},
   "source": [
    "<img src=\"figures/accuracy_8.png\">"
   ]
  },
  {
   "cell_type": "markdown",
   "metadata": {},
   "source": [
    "---\n",
    "# 9. Keras\n",
    "Keras is a high-level API to build and train deep learning models. It's used for fast prototyping, advanced research, and production. `tf.keras` is TensorFlow's implementation of the Keras API specification. To work with Keras, you need to import `tf.keras` as part of your TensorFlow program setup.\n",
    "```\n",
    "import tensorflow as tf\n",
    "from tensorflow.keras import layers\n",
    "```\n",
    "#### Build a model\n",
    "In Keras, you assemble **layers** to build a model, i.e., a graph of layers. The most common type of model is a stack of layers: the `tf.keras.Sequential` model. For example, the following code builds a simple, fully-connected network (i.e., multi-layer perceptron):\n",
    "```\n",
    "model = tf.keras.Sequential()\n",
    "# adds a densely-connected layer with 64 units to the model:\n",
    "model.add(layers.Dense(64, activation='relu'))\n",
    "# add another\n",
    "model.add(layers.Dense(64, activation='relu'))\n",
    "# add a softmax layer with 10 output units:\n",
    "model.add(layers.Dense(10, activation='softmax'))\n",
    "```\n",
    "There are many `tf.keras.layers` available with some common constructor parameters:\n",
    "* `activation`: set the activation function for the layer, which is specified by the name of a built-in function or as a callable object.\n",
    "* `kernel_initializer` and `bias_initializer`: the initialization schemes that create the layer's weights (weight and bias).\n",
    "* `kernel_regularizer` and `bias_regularizer`: the regularization schemes that apply the layer's weights (weight and bias), such as L1 or L2 regularization.\n",
    "\n",
    "#### Train and evaluate\n",
    "After you construct a model, you can configure its learning process by calling the `compile` method:\n",
    "```\n",
    "model.compile(optimizer=tf.train.AdamOptimizer(0.001),\n",
    "              loss='categorical_crossentropy',\n",
    "              metrics=['accuracy'])\n",
    "```\n",
    "The method `tf.keras.Model.compile` takes three important arguments:\n",
    "* `optimizer`: it specifies the training procedure, e.g., `tf.train.AdamOptimizer` and `tf.train.GradientDescentOptimizer`.\n",
    "* `loss`: the cost function to minimize during optimization, e.g., mean square error (mse), categorical_crossentropy, and binary_crossentropy.\n",
    "* `metrics`: used to monitor training, e.g., `accuracy`.\n",
    "\n",
    "The next step after confiuring the model is to train it by calling the `model.fit` method and giving it training data as its input. After training the model you can call `tf.keras.Model.evaluate` and `tf.keras.Model.predict` methods to evaluate the inference-mode loss and metrics for the data provided or predict the output of the last layer in inference for the data provided, respectively.\n",
    "\n",
    "You can read more about Keras [here](https://www.tensorflow.org/guide/keras).\n",
    "\n",
    "In this task, please use Keras to rebuild the network you made in section 7."
   ]
  },
  {
   "cell_type": "code",
   "execution_count": 21,
   "metadata": {},
   "outputs": [
    {
     "name": "stdout",
     "output_type": "stream",
     "text": [
      "Train on 60000 samples, validate on 10000 samples\n",
      "Epoch 1/4\n",
      "60000/60000 [==============================] - 49s 810us/step - loss: 8.6495 - acc: 0.4498 - val_loss: 2.6926 - val_acc: 0.8231\n",
      "Epoch 2/4\n",
      "60000/60000 [==============================] - 51s 847us/step - loss: 1.7401 - acc: 0.8159 - val_loss: 0.2475 - val_acc: 0.9405\n",
      "Epoch 3/4\n",
      "60000/60000 [==============================] - 49s 821us/step - loss: 0.4601 - acc: 0.8762 - val_loss: 0.1687 - val_acc: 0.9575\n",
      "Epoch 4/4\n",
      "60000/60000 [==============================] - 44s 738us/step - loss: 0.3237 - acc: 0.9104 - val_loss: 0.1334 - val_acc: 0.9645\n",
      "Test accuracy: 0.9645\n"
     ]
    }
   ],
   "source": [
    "# · · · · · · · · · ·    (input data, 1-deep)                 X [batch, 28, 28, 1]\n",
    "# @ @ @ @ @ @ @ @ @ @ -- conv. layer 6x6x1=>6 stride 1        W1 [5, 5, 1, 6]        B1 [6]\n",
    "# ∶∶∶∶∶∶∶∶∶∶∶∶∶∶∶∶∶∶∶                                         Y1_hat [batch, 28, 28, 6]\n",
    "#   @ @ @ @ @ @ @ @   -- conv. layer 5x5x6=>12 stride 2       W2 [5, 5, 6, 12]        B2 [12]\n",
    "#   ∶∶∶∶∶∶∶∶∶∶∶∶∶∶∶                                           Y2_hat [batch, 14, 14, 12]\n",
    "#     @ @ @ @ @ @     -- conv. layer 4x4x12=>24 stride 2      W3 [4, 4, 12, 24]       B3 [24]\n",
    "#     ∶∶∶∶∶∶∶∶∶∶∶                                             Y3_hat [batch, 7, 7, 24] => reshaped to YY [batch, 7*7*24]\n",
    "#      \\x/x\\x\\x/ ✞    -- fully connected layer (relu+dropout) W4 [7*7*24, 200]       B4 [200]\n",
    "#       · · · ·                                               Y4_hat [batch, 200]\n",
    "#       \\x/x\\x/       -- fully connected layer (softmax)      W5 [200, 10]           B5 [10]\n",
    "#        · · ·                                                Y_hat [batch, 10]\n",
    "import keras\n",
    "from keras.datasets import mnist\n",
    "from keras.models import Sequential\n",
    "from keras.layers import Dense, Dropout, Flatten\n",
    "from keras.layers import Conv2D\n",
    "from keras import backend as K\n",
    "\n",
    "K.clear_session() \n",
    "\n",
    "(X_train_temp, Y_train), (X_test_temp, Y_test) = mnist.load_data()\n",
    "\n",
    "X_train = X_train_temp.reshape(-1, 28, 28, 1)\n",
    "X_test = X_test_temp.reshape(-1, 28, 28, 1)\n",
    "\n",
    "Y_train_categorical = keras.utils.to_categorical(Y_train, 10)\n",
    "Y_test_categorical = keras.utils.to_categorical(Y_test, 10)\n",
    "\n",
    "model = Sequential()\n",
    "\n",
    "weights_initializer = keras.initializers.RandomNormal(mean=0.0, stddev=0.1, seed=None)\n",
    "bias_initializer = keras.initializers.Constant(value=0.1)\n",
    "\n",
    "model.add(Conv2D(filters=6, kernel_size=(5, 5), kernel_initializer=weights_initializer, bias_initializer= bias_initializer, strides=1, padding='same', activation='relu', input_shape=(28, 28, 1)))\n",
    "model.add(Conv2D(filters=12, kernel_size=(5, 5), kernel_initializer=weights_initializer, bias_initializer= bias_initializer, strides=2, padding='same', activation='relu', input_shape=(28, 28, 6)))\n",
    "model.add(Conv2D(filters=24, kernel_size=(4, 4), kernel_initializer=weights_initializer, bias_initializer= bias_initializer, strides=2, padding='same', activation='relu', input_shape=(14, 14, 12)))\n",
    "\n",
    "model.add(Flatten())\n",
    "\n",
    "model.add(Dense(200, kernel_initializer=weights_initializer, bias_initializer= bias_initializer, activation='relu'))\n",
    "model.add(Dropout(0.75))\n",
    "\n",
    "model.add(Dense(10, kernel_initializer=weights_initializer, bias_initializer= bias_initializer, activation='softmax'))\n",
    "\n",
    "model.compile(loss=keras.losses.categorical_crossentropy,\n",
    "              optimizer=keras.optimizers.Adam(lr=0.001),\n",
    "              metrics=['accuracy'])\n",
    "\n",
    "model.fit(X_train, \n",
    "          Y_train_categorical,\n",
    "          batch_size=100,\n",
    "          epochs=4,\n",
    "          verbose=1,\n",
    "          validation_data=(X_test, Y_test_categorical)\n",
    "         )\n",
    "\n",
    "test_set_accuracy = model.evaluate(X_test, Y_test_categorical, verbose=0)\n",
    "print('Test accuracy:', test_set_accuracy[1])"
   ]
  },
  {
   "cell_type": "markdown",
   "metadata": {},
   "source": [
    "---\n",
    "# 10. Implement LeNet-5\n",
    "In this section, you should implement **LeNet-5** either using Tensorflow or Keras. Please take a look at its [paper](http://yann.lecun.com/exdb/publis/pdf/lecun-01a.pdf) before starting to implement it.\n",
    "The LeNet-5 architecture is perhaps the most widely known CNN architecture. It was created by Yann LeCun in 1998 and widely used for handwritten digit recognition (MNIST). It is composed of the layers shown in the following table.\n",
    "<img src=\"figs/19-letnet5.png\" style=\"width: 600px;\"/>\n",
    "There are a few extra details to be noted:\n",
    "* MNIST images are 28×28 pixels, but they are zero-padded to 32×32 pixels and normalized before being fed to the network. The rest of the network does not use any padding, which is why the size keeps shrinking as the image progresses through the network.\n",
    "* The average pooling layers are slightly more complex than usual: each neuron computes the mean of its inputs, then multiplies the result by a learnable coefficient and adds a learnable bias term, then finally applies the activation function.\n",
    "* Most neurons in layer C3 maps are connected to neurons in only three or four S2 maps (instead of all six S2 maps). See table 1 in the [paper](http://yann.lecun.com/exdb/publis/pdf/lecun-01a.pdf) for details.\n",
    "* The output layer is a bit special: instead of computing the dot product of the inputs and the weight vector, each neuron outputs the square of the Euclidian distance between its input vector and its weight vector. Each output measures how much the image belongs to a particular digit class. The cross-entropy cost function is now preferred, as it penalizes bad predictions much more, producing larger gradients and thus converging faster."
   ]
  },
  {
   "cell_type": "code",
   "execution_count": 7,
   "metadata": {},
   "outputs": [
    {
     "name": "stdout",
     "output_type": "stream",
     "text": [
      "Train on 60000 samples, validate on 10000 samples\n",
      "Epoch 1/10\n",
      "60000/60000 [==============================] - 38s 640us/step - loss: 0.1000 - acc: 0.0879 - val_loss: 0.1000 - val_acc: 0.0893\n",
      "Epoch 2/10\n",
      "60000/60000 [==============================] - 39s 657us/step - loss: 0.0950 - acc: 0.1207 - val_loss: 0.0627 - val_acc: 0.4679\n",
      "Epoch 3/10\n",
      "60000/60000 [==============================] - 40s 662us/step - loss: 0.0259 - acc: 0.8496 - val_loss: 0.0126 - val_acc: 0.9706\n",
      "Epoch 4/10\n",
      "60000/60000 [==============================] - 36s 600us/step - loss: 0.0080 - acc: 0.9723 - val_loss: 0.0049 - val_acc: 0.9795\n",
      "Epoch 5/10\n",
      "60000/60000 [==============================] - 38s 626us/step - loss: 0.0053 - acc: 0.9788 - val_loss: 0.0044 - val_acc: 0.9832\n",
      "Epoch 6/10\n",
      "60000/60000 [==============================] - 39s 651us/step - loss: 0.0042 - acc: 0.9817 - val_loss: 0.0036 - val_acc: 0.9837\n",
      "Epoch 7/10\n",
      "60000/60000 [==============================] - 39s 650us/step - loss: 0.0036 - acc: 0.9842 - val_loss: 0.0030 - val_acc: 0.9865\n",
      "Epoch 8/10\n",
      "60000/60000 [==============================] - 39s 656us/step - loss: 0.0031 - acc: 0.9863 - val_loss: 0.0027 - val_acc: 0.9874\n",
      "Epoch 9/10\n",
      "60000/60000 [==============================] - 39s 658us/step - loss: 0.0027 - acc: 0.9878 - val_loss: 0.0030 - val_acc: 0.9866\n",
      "Epoch 10/10\n",
      "60000/60000 [==============================] - 39s 656us/step - loss: 0.0025 - acc: 0.9884 - val_loss: 0.0024 - val_acc: 0.9887\n",
      "Test accuracy: 0.9887\n"
     ]
    }
   ],
   "source": [
    "# TODO: Build the LetNet-5 model, and test it on MNIST\n",
    "\n",
    "# to reset the Tensorflow default graph\n",
    "reset_graph()\n",
    "\n",
    "import keras\n",
    "from keras.datasets import mnist\n",
    "from keras.models import Sequential\n",
    "from keras.layers import Dense, Dropout, Flatten, AveragePooling2D\n",
    "from keras.layers import Conv2D\n",
    "from keras import backend as K\n",
    "from keras.optimizers import RMSprop\n",
    "# RBF layer implementation is made through the work of this repo: \n",
    "# https://github.com/PetraVidnerova/rbf_keras/blob/master/test.py\n",
    "from rbflayer import RBFLayer, InitCentersRandom\n",
    " \n",
    "K.clear_session() \n",
    "\n",
    "(X_train_temp, Y_train), (X_test_temp, Y_test) = mnist.load_data()\n",
    "\n",
    "X_train = X_train_temp.reshape(-1, 28, 28, 1)\n",
    "X_test = X_test_temp.reshape(-1, 28, 28, 1)\n",
    "\n",
    "Y_train_categorical = keras.utils.to_categorical(Y_train, 10)\n",
    "Y_test_categorical = keras.utils.to_categorical(Y_test, 10)\n",
    "\n",
    "model = Sequential()\n",
    "\n",
    "model.add(Conv2D(6, kernel_size=(5, 5), strides=(1, 1), activation='tanh', input_shape=(28,28,1), padding='same'))\n",
    "model.add(AveragePooling2D(pool_size=(2, 2), strides=(2, 2), padding='valid'))\n",
    "\n",
    "model.add(Conv2D(16, kernel_size=(5, 5), strides=(1, 1), activation='tanh', padding='valid'))\n",
    "model.add(AveragePooling2D(pool_size=(2, 2), strides=(2, 2), padding='valid'))\n",
    "\n",
    "model.add(Conv2D(120, kernel_size=(5, 5), strides=(1, 1), activation='tanh', padding='valid'))\n",
    "\n",
    "model.add(Flatten())\n",
    "\n",
    "weights_initializer = keras.initializers.RandomNormal(mean=0.0, stddev=0.1, seed=None)\n",
    "bias_initializer = keras.initializers.Constant(value=0.1)\n",
    "\n",
    "model.add(Dense(84, kernel_initializer=weights_initializer, bias_initializer= bias_initializer, activation='tanh'))\n",
    "\n",
    "rbflayer = RBFLayer(10)\n",
    "model.add(rbflayer)\n",
    "\n",
    "model.compile(loss=keras.losses.mean_squared_error,\n",
    "              optimizer=RMSprop(),\n",
    "              metrics=['accuracy'])\n",
    "\n",
    "model.fit(X_train, \n",
    "          Y_train_categorical,\n",
    "          batch_size=100,\n",
    "          epochs=10,\n",
    "          verbose=1,\n",
    "          validation_data=(X_test, Y_test_categorical)\n",
    "         )\n",
    "\n",
    "test_set_accuracy = model.evaluate(X_test, Y_test_categorical, verbose=0)\n",
    "print('Test accuracy:', test_set_accuracy[1])"
   ]
  },
  {
   "cell_type": "markdown",
   "metadata": {},
   "source": [
    "---\n",
    "# 11. Implement AlexNet\n",
    "In the last section, you should implement **AlexNet** either using Tensorflow or Keras. Again, please take a look at its [paper](https://papers.nips.cc/paper/4824-imagenet-classification-with-deep-convolutional-neural-networks.pdf) before start to implement it.\n",
    "The AlexNet CNN architecture won the [ImageNet ILSVRC challenge](http://www.image-net.org/challenges/LSVRC/2012/) in 2012 by a large margin. It was developed by Alex Krizhevsky, Ilya Sutskever, and Geoffrey Hinton. It is quite similar to LeNet-5, only much larger and deeper, and it was the first to stack convolutional layers directly on top of each other, instead of stacking a pooling layer on top of each convolutional layer. The following table presents this architecture.\n",
    "<img src=\"figs/20-alexnet.png\" style=\"width: 600px;\"/>\n",
    "To train the model, we need a big dataset, however, in this assignment you are going to to assign the pretrained weights to your model, using `tf.Variable.assign`. You can download the pretrained weights from [bvlc_alexnet.npy](https://www.cs.toronto.edu/~guerzhoy/tf_alexnet/bvlc_alexnet.npy). This file is a NumPy array file created by the python. After you read this file, you will receive a python dictionary with a <key, value> pair for each layer. Each key is one of the layers names, e.g., `conv1`, and each value is a list of two values: (1) weights, and (2) biases of that layer. Part of the function to load the weights and biases to your model is given, and you need to complete it.\n",
    "\n",
    "Here is what you see if you read and print the shape of each layer from the file:\n",
    "```\n",
    "weight_dic = np.load(\"bvlc_alexnet.npy\", encoding=\"bytes\").item()\n",
    "for layer in weights_dic:\n",
    "    print(\"-\" * 20)\n",
    "    print(layer)\n",
    "    for wb in weights_dic[layer]:\n",
    "        print(wb.shape)\n",
    "\n",
    "#--------------------\n",
    "# fc8\n",
    "# (4096, 1000) # weights\n",
    "# (1000,) # bias\n",
    "#--------------------\n",
    "# fc7\n",
    "# (4096, 4096) # weights\n",
    "# (4096,) # bias\n",
    "#--------------------\n",
    "# fc6\n",
    "# (9216, 4096) # weights\n",
    "# (4096,) # bias\n",
    "#--------------------\n",
    "# conv5\n",
    "# (3, 3, 192, 256) # weights\n",
    "# (256,) # bias\n",
    "#--------------------\n",
    "# conv4\n",
    "# (3, 3, 192, 384) # weights\n",
    "# (384,) # bias\n",
    "#--------------------\n",
    "# conv3\n",
    "# (3, 3, 256, 384) # weights\n",
    "# (384,) # bias\n",
    "#--------------------\n",
    "# conv2\n",
    "# (5, 5, 48, 256) # weights\n",
    "# (256,) # bias\n",
    "#--------------------\n",
    "# conv1\n",
    "# (11, 11, 3, 96) # weights\n",
    "# (96,) # bias\n",
    "```\n"
   ]
  },
  {
   "cell_type": "code",
   "execution_count": 14,
   "metadata": {},
   "outputs": [],
   "source": [
    "# TODO: Replace <FILL IN> with appropriate code\n",
    "\n",
    "# to reset the Tensorflow default graph\n",
    "reset_graph()\n",
    "\n",
    "# build the AlexNet model\n",
    "X = tf.placeholder(tf.float32, [None, 227, 227, 3])\n",
    "\n",
    "conv1 = tf.layers.conv2d(\n",
    "    inputs=X,\n",
    "    filters=96,\n",
    "    kernel_size=[11, 11],\n",
    "    strides=4,\n",
    "    padding=\"same\",\n",
    "    activation=tf.nn.relu)\n",
    "\n",
    "local_response_norm1 = tf.nn.local_response_normalization(conv1)\n",
    "\n",
    "pool1 = tf.nn.max_pool( \n",
    "    value=local_response_norm1,\n",
    "    ksize = [1, 3, 3, 1],\n",
    "    strides = [1, 2, 2, 1],\n",
    "    padding='VALID')\n",
    "\n",
    "conv2 = tf.layers.conv2d(\n",
    "    inputs=pool1,\n",
    "    filters=256,\n",
    "    kernel_size=[5, 5],\n",
    "    strides=1,\n",
    "    padding=\"same\",\n",
    "    activation=tf.nn.relu)\n",
    "\n",
    "local_response_norm2 = tf.nn.local_response_normalization(conv2)\n",
    "\n",
    "pool2 = tf.nn.max_pool( \n",
    "    value=local_response_norm2,\n",
    "    ksize = [1, 3, 3, 1],\n",
    "    strides = [1, 2, 2, 1],\n",
    "    padding='VALID')\n",
    "\n",
    "conv3 = tf.layers.conv2d(\n",
    "    inputs=pool2,\n",
    "    filters=384,\n",
    "    kernel_size=[3, 3],\n",
    "    strides=1,\n",
    "    padding=\"same\",\n",
    "    activation=tf.nn.relu)\n",
    "\n",
    "conv4 = tf.layers.conv2d(\n",
    "    inputs=conv3,\n",
    "    filters=384,\n",
    "    kernel_size=[3, 3],\n",
    "    strides=1,\n",
    "    padding=\"same\",\n",
    "    activation=tf.nn.relu)\n",
    "\n",
    "conv5 = tf.layers.conv2d(\n",
    "    inputs=conv4,\n",
    "    filters=256,\n",
    "    kernel_size=[3, 3],\n",
    "    strides=1,\n",
    "    padding=\"same\",\n",
    "    activation=tf.nn.relu)\n",
    "\n",
    "pool3 = tf.nn.max_pool( \n",
    "    value=conv5,\n",
    "    ksize = [1, 3, 3, 1],\n",
    "    strides = [1, 1, 1, 1],\n",
    "    padding='VALID')\n",
    "\n",
    "flattened = tf.reshape(conv3, [-1, 3 * 3 * 256])\n",
    "\n",
    "dense_1 = tf.layers.dense(inputs=flattened, \n",
    "                          units=4096, \n",
    "                          activation=tf.nn.relu)\n",
    "\n",
    "dropout_1 = tf.layers.dropout(inputs=dense_1, rate=0.5)\n",
    "\n",
    "dense_2 = tf.layers.dense(inputs=dropout_2, \n",
    "                          units=4096, \n",
    "                          activation=tf.nn.relu)\n",
    "\n",
    "dropout_2 = tf.layers.dropout(inputs=dense_2, rate=0.5)\n",
    "\n",
    "output = tf.layers.dense(inputs=dropout_2, units=1000, activation=tf.nn.softmax)\n",
    "\n",
    "# load inital weights and biases to the model\n",
    "def load_initial_weights(self, session):\n",
    "    # load the weights into memory\n",
    "    weights_dic = np.load('bvlc_alexnet.npy', encoding='bytes').item()\n",
    "\n",
    "    # loop over all layer names stored in the weights dict\n",
    "    for layer in weights_dict:\n",
    "        with tf.variable_scope(layer, reuse=True):\n",
    "            # loop over list of weights/biases and assign them to their corresponding tf variable\n",
    "            for wb in weights_dict[layer]:\n",
    "                # biases\n",
    "                if len(wb.shape) == 1:\n",
    "                    bias = tf.get_variable('biases', trainable=False)\n",
    "                    session.run(bias.assign(wb))\n",
    "                # weights\n",
    "                else:\n",
    "                    weight = tf.get_variable('weights', trainable=False)\n",
    "                    session.run(weight.assign(wb))"
   ]
  },
  {
   "cell_type": "markdown",
   "metadata": {},
   "source": [
    "#### Test the model\n",
    "After building the AlexNet model, you can test it on different images and present the accuracy of the model. To do so, first you need to use **OpenCV** library to make the images ready to give as input to the model. OpenCV is a library used for image processing. Below you can see how to read an image file and pre-process it using OpenCV to give it to the model. However, you need to complete the code and test the accuracy of your model. The teset images (shown below) are available in the `test_images` folder.\n",
    "<table width=\"100%\">\n",
    "<tr>\n",
    "<td><img src=\"test_images/test_image1.jpg\" style=\"width:200px;\"></td>\n",
    "<td><p align=\"center\"><img src=\"test_images/test_image2.jpg\" style=\"width:200px;\"></td>\n",
    "<td align=\"right\"><img src=\"test_images/test_image3.jpg\" style=\"width:200px;\"></td>\n",
    "</tr>"
   ]
  },
  {
   "cell_type": "code",
   "execution_count": null,
   "metadata": {},
   "outputs": [],
   "source": [
    "# TODO: Replace <FILL IN> with appropriate code\n",
    "# test the AlexNet model on the given images\n",
    "\n",
    "import cv2\n",
    "\n",
    "#get list of all images\n",
    "current_dir = os.getcwd()\n",
    "image_path = os.path.join(current_dir, 'test_images')\n",
    "img_files = [os.path.join(image_path, f) for f in os.listdir(image_path) if f.endswith('.jpg')]\n",
    "\n",
    "#load all images\n",
    "imgs = []\n",
    "for f in img_files:\n",
    "    imgs.append(cv2.imread(f))\n",
    "\n",
    "with tf.Session() as sess:\n",
    "    <FILL IN>\n",
    "    \n",
    "    # loop over all images\n",
    "    for i, image in enumerate(imgs):\n",
    "        # convert image to float32 and resize to (227x227)\n",
    "        img = cv2.resize(image.astype(np.float32), (227, 227))\n",
    "        \n",
    "        # subtract the ImageNet mean\n",
    "        # Mean subtraction per channel was used to center the data around zero mean for each channel (R, G, B).\n",
    "        # This typically helps the network to learn faster since gradients act uniformly for each channel.\n",
    "        imagenet_mean = np.array([104., 117., 124.], dtype=np.float32)\n",
    "        img -= imagenet_mean\n",
    "        \n",
    "        # reshape as needed to feed into model\n",
    "        img = img.reshape((1, 227, 227, 3))\n",
    "        \n",
    "        <FILL IN>"
   ]
  }
 ],
 "metadata": {
  "kernelspec": {
   "display_name": "Python 3",
   "language": "python",
   "name": "python3"
  },
  "language_info": {
   "codemirror_mode": {
    "name": "ipython",
    "version": 3
   },
   "file_extension": ".py",
   "mimetype": "text/x-python",
   "name": "python",
   "nbconvert_exporter": "python",
   "pygments_lexer": "ipython3",
   "version": "3.6.7"
  }
 },
 "nbformat": 4,
 "nbformat_minor": 2
}
